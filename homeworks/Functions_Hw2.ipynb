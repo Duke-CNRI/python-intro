{
  "nbformat": 4,
  "nbformat_minor": 0,
  "metadata": {
    "colab": {
      "name": "Functions_Hw2.ipynb",
      "provenance": [],
      "collapsed_sections": [],
      "include_colab_link": true
    },
    "kernelspec": {
      "name": "python3",
      "display_name": "Python 3"
    },
    "language_info": {
      "name": "python"
    }
  },
  "cells": [
    {
      "cell_type": "markdown",
      "metadata": {
        "id": "view-in-github",
        "colab_type": "text"
      },
      "source": [
        "<a href=\"https://colab.research.google.com/github/Duke-CNRI/python-intro/blob/main/homeworks/Functions_Hw2.ipynb\" target=\"_parent\"><img src=\"https://colab.research.google.com/assets/colab-badge.svg\" alt=\"Open In Colab\"/></a>"
      ]
    },
    {
      "cell_type": "markdown",
      "metadata": {
        "id": "nsBPAmhuWS1z"
      },
      "source": [
        "## Problem 1: Scoring a personality survey\n",
        "\n",
        "Created by Abby Hsiung & Ben Muzekari\n",
        "\n",
        "### 1a. \n",
        "You are interested in understanding how people differ on the personality trait of sensation seeking (defined as the tendency to seek out varied, complex, novel, and intense experiences). In order to do so, you have 3 people fill out the **Sensation Seeking Scale** (SSS, 🐍). The SSS is a set of questions where people must select from two options, which they would be must interested in doing. \n",
        "\n",
        "For example: Please indicate which of the following scenarios you would prefer\n",
        "- a. I dislike all body odors\n",
        "- b. I like some of the earthy body smells \n",
        "\n",
        "The SSS is a fairly long questionnaire (40 Questions!) and although you _could_ hand score each one of them, you might be tempted to find an easier way to compute composite (total) scores. \n",
        "\n",
        "\n",
        "Create a function that takes in a list of survey responses and compute a Total Sensation Seeking Score. To compute a total, add up the number of \"high\" seeking choices. Then compute the scores for the 3 participants below. \n",
        "\n"
      ]
    },
    {
      "cell_type": "code",
      "metadata": {
        "id": "unSNmM9vYejO"
      },
      "source": [
        "def sss_scoring(): # include your arguments\n",
        "  # sum up number of \"high\" responses\n",
        "  # return sum "
      ],
      "execution_count": null,
      "outputs": []
    },
    {
      "cell_type": "code",
      "metadata": {
        "id": "3ZEnIjDSKDzu"
      },
      "source": [
        "# 3 participants scores\n",
        "part1 = ['high', 'low', 'high', 'low', 'high', 'low', 'high', 'low', 'low', 'high', 'low', 'high', 'high', 'high', 'high', 'low', 'high', \n",
        "         'low', 'low', 'low', 'low', 'high', 'low', 'high', 'low', 'low', 'high', 'low', 'high', 'high', 'low', 'high', 'low', 'low', \n",
        "         'low', 'high', 'low', 'low', 'high', 'high']\n",
        "part2 = ['high', 'high', 'high', 'high', 'high', 'low', 'high', 'high', 'high', 'low', 'low', 'high', 'high', 'low', 'high', 'high', 'high', \n",
        "         'high', 'low', 'high', 'low', 'high', 'low', 'low', 'low', 'high', 'high', 'high', 'high', 'high', 'high', 'low', 'high', 'high', \n",
        "         'low', 'low', 'high', 'high', 'high', 'high']\n",
        "part3 = ['low', 'low', 'low', 'high', 'low', 'low', 'high', 'high', 'high', 'low', 'high', 'low', 'low', 'low', 'low', 'low', 'high', 'low', \n",
        "         'low', 'low', 'low', 'low', 'low', 'high', 'low', 'low', 'low', 'high', 'low', 'low', 'high', 'high', 'low', 'low', 'low', 'high', \n",
        "         'low', 'high', 'low', 'low']\n",
        "\n",
        "# participant scores:\n"
      ],
      "execution_count": null,
      "outputs": []
    },
    {
      "cell_type": "code",
      "metadata": {
        "id": "HqNX_yDLKJ86"
      },
      "source": [
        "# Bonus: create a loop to score all three participants in one go!"
      ],
      "execution_count": null,
      "outputs": []
    },
    {
      "cell_type": "markdown",
      "metadata": {
        "id": "adPuju82mmqs"
      },
      "source": [
        "### 1b. Reverse-scored Items\n",
        "\n",
        "Some questions in the SSS actually need to be _reverse-scored_ meaning that the answer needs to be switched in order to correctly score that item. Psychologists will often include reverse-scored questions to ensure that participants are reading and answering the questions honestly, as opposed to just circling the first answer for everything! \n",
        "\n",
        "Update your function below to reverse score the following questions (given, here, as the index position).\n",
        "\n",
        "**Reverse-scored Question numbers: 0, 5, 7, 13, 17, 23, 28, 31, 38**\n",
        "\n",
        "Recalculate the scores for each participant below."
      ]
    },
    {
      "cell_type": "code",
      "metadata": {
        "id": "B42fk2HtmtIl"
      },
      "source": [
        "def sss_scoring(): # include your arguments\n",
        "  # reverse score appropriate questions, to isolate elements of a list, we can use list[element position] but remember, Python starts counting at 0\n",
        "  # sum up number of \"high\" responses\n",
        "  # return sum "
      ],
      "execution_count": null,
      "outputs": []
    },
    {
      "cell_type": "code",
      "metadata": {
        "id": "tNI0THI1MpJ8"
      },
      "source": [
        "# updated participant scores:"
      ],
      "execution_count": null,
      "outputs": []
    },
    {
      "cell_type": "markdown",
      "metadata": {
        "id": "NCpj6EEbW7g5"
      },
      "source": [
        "## 1c. Subscales\n",
        "\n",
        "There are also 4 Subscales within the SSS:\n",
        "- Thrill and Adventure Seeking (items 1 - 12)\n",
        "- Experience Seeking (items 13 - 21)\n",
        "- Disinhibition (items 22 - 34)\n",
        "- Boredom Susceptibility (items 35 - 40)\n",
        "\n",
        "In addition to the total sum, edit your function to also compute the scores for each subscale. Return all 5 scores for each of the 3 participants. "
      ]
    },
    {
      "cell_type": "code",
      "metadata": {
        "id": "zJH5JI2lXCw6"
      },
      "source": [
        "def sss_scoring(): # include your arguments\n",
        "  # reverse score appropriate questions, to isolate elements of a list, we can use list[element position] but remember, Python starts counting at 0\n",
        "  # break up the scale into the appropriate subscales\n",
        "  # sum up number of \"high\" responses\n",
        "  # return sum "
      ],
      "execution_count": null,
      "outputs": []
    },
    {
      "cell_type": "code",
      "metadata": {
        "id": "cTocDL_eMvUs"
      },
      "source": [
        "# participants total scores and their subscale scores"
      ],
      "execution_count": null,
      "outputs": []
    },
    {
      "cell_type": "markdown",
      "metadata": {
        "id": "SqXIsWPRM2yS"
      },
      "source": [
        "### Final Questions:\n",
        "1. Who had the highest SSS score? Did that change after you reverse-scored the participant responses?\n",
        "2. Who was the highest in Thrill Seeking? Who had the lowest Boredom Susceptibility?\n",
        "3. Does it seem like there is more consistency or variability amongst the SSS subscaled scores (i.e., are people who are high in one subscale of SSS also high in other SSS subscales)?"
      ]
    }
  ]
}