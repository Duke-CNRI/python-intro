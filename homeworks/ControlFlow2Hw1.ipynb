{
  "nbformat": 4,
  "nbformat_minor": 0,
  "metadata": {
    "colab": {
      "name": "ControlFlow2Hw1.ipynb",
      "provenance": [],
      "collapsed_sections": [],
      "include_colab_link": true
    },
    "kernelspec": {
      "name": "python3",
      "display_name": "Python 3"
    },
    "language_info": {
      "name": "python"
    }
  },
  "cells": [
    {
      "cell_type": "markdown",
      "metadata": {
        "id": "view-in-github",
        "colab_type": "text"
      },
      "source": [
        "<a href=\"https://colab.research.google.com/github/Duke-CNRI/python-intro/blob/main/homeworks/ControlFlow2Hw1.ipynb\" target=\"_parent\"><img src=\"https://colab.research.google.com/assets/colab-badge.svg\" alt=\"Open In Colab\"/></a>"
      ]
    },
    {
      "cell_type": "markdown",
      "metadata": {
        "id": "nsBPAmhuWS1z"
      },
      "source": [
        "## Problem 1: Working with loops\n",
        "\n",
        "Created by Miles Martinez, edited by Abby Hsiung\n",
        "\n",
        "### 1a. \n",
        "Chadley wants to go grocery shopping. However, he has never cooked for himself before and the help of the people! He needs 10 suggestions, and needs you to write some code to accept suggestions from people! However, Chadley is very picky, and will only eat certain things. Therefore you also need to code in whether or not he will accept this suggestion by comparing to the list of \"Chadley's Choices\" - if the suggestion is in the list, he wants to respond (read as print()) with \"Radical!\" and if not, he will say \"Grody Brody\"\n",
        "\n",
        "Hint: we can check if an item is in a list with:\n",
        "\n",
        "```\n",
        "if item in list:\n",
        "  do stuff\n",
        "```"
      ]
    },
    {
      "cell_type": "code",
      "metadata": {
        "id": "unSNmM9vYejO"
      },
      "source": [
        "chadleys_choices = ['Bagel Bites','Pizza','Fries','Protein Shake','Chickie Nugs','Cookout','In n Out',\\\n",
        "                    'Chimichangas','Mac n Cheese']\n",
        "\n",
        "## To-do: Iterate ten times ###\n",
        "\n",
        "for ________\n",
        "\n",
        "\n",
        "    ### To-do: get input #####\n",
        "\n",
        "\n",
        "    #######\n",
        "\n",
        "\n",
        "    ##### To-do: compare input to chadwicks_choices ####\n",
        "\n",
        "    print('Radical!')\n",
        "\n",
        "    print('Grody Brody')\n",
        "    ###################"
      ],
      "execution_count": null,
      "outputs": []
    },
    {
      "cell_type": "markdown",
      "metadata": {
        "id": "adPuju82mmqs"
      },
      "source": [
        "### 1b\n",
        "Great! Chadley's gotten some great suggestions so far (hopefully). He's been having so much fun that he wants to just keep getting more and more suggestions! He needs your help coding the same things as before, but taking as many suggestions as he can possibly get! However, Chadley is impatient - if people suggest 5 things that he DOESN'T like, he's going to stop accepting suggestions forever. Therefore he needs you to code something that will keep accepting suggestions until people suggest 5 items that aren't Chadley's Choices"
      ]
    },
    {
      "cell_type": "code",
      "metadata": {
        "id": "B42fk2HtmtIl"
      },
      "source": [
        "chadleys_choices = ['Bagel Bites','Pizza','Fries','Protein Shake','Chickie Nugs','Cookout','In n Out',\\\n",
        "                    'Chimichangas','Mac n Cheese']\n",
        "\n",
        "max_bad_choices = 5\n",
        "## To-do: Iterate ten times ###\n",
        "\n",
        "while ________\n",
        "\n",
        "\n",
        "    ### To-do: get input #####\n",
        "\n",
        "\n",
        "    #######\n",
        "\n",
        "\n",
        "    ##### To-do: compare input to chadwicks_choices ####\n",
        "\n",
        "    print('Radical!')\n",
        "\n",
        "    print('Grody Brody')\n",
        "    ###################"
      ],
      "execution_count": null,
      "outputs": []
    },
    {
      "cell_type": "markdown",
      "metadata": {
        "id": "NCpj6EEbW7g5"
      },
      "source": [
        "## Problem 2: Working with lists\n",
        "\n",
        "- have them practice putting things into lists\n",
        "- have them practice removing things from lists, accessing items\n",
        "\n",
        "Nice work! Chadley's gotten all his suggestions (turns out it was just Chadley's choices) and is now ready to go to the store! However, you happen to care about his health, and want to sneak a couple things onto his list, while also removing a couple of items from his list. \n",
        "\n",
        "To remove items from a list, we have two options. The first is to use the method \n",
        "```\n",
        "list.pop(index)\n",
        "```\n",
        "This uses zero-indexing (like accessing items does), and will remove the item from the list that corresponds to that index. As a result, list.pop(0) will remove the first item, list.pop(-1) will remove the last, and so on. Be careful with the order in which you pop off items! The index of items after the item you pop will change as well.\n",
        "\n",
        "We can also use the method\n",
        "```\n",
        "list.remove(item)\n",
        "```\n",
        "Where item is the name of an item in the list. This will only remove items that actually exist in the list, and will give you an error if you try to remove something not in the list. This can be better with short lists, where you know all the items.\n",
        "\n",
        "In this problem, first remove 'Bagel Bites', 'Cookout', and 'Fries' (in whatever order you want) from chadleys_choices, then add 'Spinach', 'Tomatoes', 'Bok Choy' to the same list."
      ]
    },
    {
      "cell_type": "code",
      "metadata": {
        "id": "zJH5JI2lXCw6"
      },
      "source": [
        "chadleys_choices = ['Bagel Bites','Pizza','Fries','Protein Shake','Chickie Nugs','Cookout','In n Out',\\\n",
        "                    'Chimichangas','Mac n Cheese']\n",
        "\n",
        "\n",
        "#### To-do: Remove Bagel Bites, Cookout, and Fries\n",
        "\n",
        "\n",
        "################################################\n",
        "\n",
        "\n",
        "### To-do: add Spinach, Tomatoes, Bok Choy\n",
        "\n",
        "#########################################"
      ],
      "execution_count": null,
      "outputs": []
    },
    {
      "cell_type": "markdown",
      "metadata": {
        "id": "VgtK1NULW94N"
      },
      "source": [
        "## Problem 3: Loop & Lists\n",
        "\n",
        "Chadley is finally ready to go to the store!! But wait... he's noticed your deception! These aren't Chadley's Choices! These are **your** choices! Chadley is simply furious. Look what you've done.\n",
        "\n",
        "Chadley has decided that you can fix this by fixing his sacred list. He needs you to go through all the items in the list, and check each one to make sure it's not *healthy*. Once you do that, he wants you to add back in the items that were removed. He also wants you to use for loops to do this.\n"
      ]
    },
    {
      "cell_type": "code",
      "metadata": {
        "id": "ZKI-D8FUXDWH"
      },
      "source": [
        "chadleys_choices = ['Pizza','Protein Shake','Chickie Nugs','In n Out',\\\n",
        "                    'Chimichangas','Mac n Cheese']\n",
        "healthy_foods = ['Spinach', 'Alfalfa','Carrots','Bok Choy','Broccoli','Bell Peppers',\\\n",
        "                 'Tofu','Bananas','Tomatoes','Strawberries']\n",
        "removed_items = ['Bagel Bites','Cookout','Fries']\n",
        "\n",
        "\n",
        "### To-do: remove healthy foods from Chadley's Choices\n",
        "\n",
        "for ____ in ____:\n",
        "\n",
        "    do stuff\n",
        "\n",
        "\n",
        "#### To-do: add back removed_items to Chadley's Choices\n",
        "\n",
        "for ___ in ____:"
      ],
      "execution_count": null,
      "outputs": []
    }
  ]
}