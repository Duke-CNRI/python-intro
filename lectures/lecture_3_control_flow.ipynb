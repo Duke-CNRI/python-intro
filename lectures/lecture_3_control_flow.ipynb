{
  "nbformat": 4,
  "nbformat_minor": 0,
  "metadata": {
    "colab": {
      "name": "lecture_3_control-flow.ipynb",
      "provenance": [],
      "collapsed_sections": [],
      "include_colab_link": true
    },
    "kernelspec": {
      "name": "python3",
      "display_name": "Python 3"
    },
    "language_info": {
      "name": "python"
    }
  },
  "cells": [
    {
      "cell_type": "markdown",
      "metadata": {
        "id": "view-in-github",
        "colab_type": "text"
      },
      "source": [
        "<a href=\"https://colab.research.google.com/github/Duke-CNRI/python-intro/blob/main/lectures/lecture_3_control_flow.ipynb\" target=\"_parent\"><img src=\"https://colab.research.google.com/assets/colab-badge.svg\" alt=\"Open In Colab\"/></a>"
      ]
    },
    {
      "cell_type": "markdown",
      "metadata": {
        "id": "6tPTZtrGhZAF"
      },
      "source": [
        "# Class 3: CONTROL FLOW TWO Electric boogaloo\n",
        "\n",
        "Created by Miles Martinez, edited by  Abby Hsiung\n",
        "\n",
        "Now that we've talked a bit about control flow, we can move on to: more control flow! Just to go over what we talked about a *bit* last time, we'll do some practice with booleans.\n",
        "\n",
        "\n"
      ]
    },
    {
      "cell_type": "markdown",
      "metadata": {
        "id": "D4oR34DuUUXY"
      },
      "source": [
        "### Objective:\n",
        "\n",
        "To learn about how we create decision trees. To learn about how we handle multiple instances of data. \n",
        "\n",
        "### Learning Outcomes:\n",
        "- Be able to use `if` statements and conditionality across a variety of contexts\n",
        "- Learn about how we handle and store multiple pieces of data\n",
        "- Learn how to combine conditionality and multiple pieces of data with loops\n",
        "\n",
        "### Homeworks:\n",
        "- Finish reviewing this Notebook\n",
        "- Homework 2 exercises"
      ]
    },
    {
      "cell_type": "markdown",
      "metadata": {
        "id": "6F6FBMavUaIT"
      },
      "source": [
        "---"
      ]
    },
    {
      "cell_type": "markdown",
      "metadata": {
        "id": "dPQCyadtZZ7p"
      },
      "source": [
        "## Boolean and Conditionality Review"
      ]
    },
    {
      "cell_type": "markdown",
      "metadata": {
        "id": "BMWHW6IYaz03"
      },
      "source": [
        "A recap from last week plus a bonus! \n",
        "\n",
        "Suni Lee is running a psych experiment to see how well people follow instructions. She tells them to enter the word \"olympics\" when prompted, and then asks for their input.\n",
        "\n",
        "She wants to know if a participant followed instructions or not. In order to do so, she needs a way to compare if what the participant entered is the same as what she _told_ the participant to enter. \n",
        "\n",
        "However, Suni doesn't know how to do any of this and needs your help. Can you help her?\n",
        "\n",
        " **Hint:** To get input from a \"participant\", use the function, `input()` like so, `[variable name] = input('text to participant')`"
      ]
    },
    {
      "cell_type": "code",
      "metadata": {
        "colab": {
          "base_uri": "https://localhost:8080/"
        },
        "id": "umyO6cgJhX2v",
        "outputId": "7c7e1631-4671-4caa-a011-86d508f8f0fb"
      },
      "source": [
        "# Help Suni Lee with these 3 steps!\n",
        "\n",
        "correct_string = \"olympics\"\n",
        "\n",
        "# Step 1: ask for input\n",
        "\n",
        "participant_answer = input('type olympics below:')\n",
        "\n",
        "# Step 2: compare input to olympics\n",
        "is_correct = correct_string == participant_answer\n",
        "\n",
        "# Step 3: print \"nice work!\" if correct, \"hey. stop that.\" if incorrect\n",
        "\n",
        "if participant_answer == correct_string:\n",
        "  print('Nice work!')\n",
        "else:\n",
        "  print('hey, stop that.')\n",
        "\n"
      ],
      "execution_count": null,
      "outputs": [
        {
          "output_type": "stream",
          "name": "stdout",
          "text": [
            "type olympics below:OLYMPICS\n",
            "hey, stop that.\n"
          ]
        }
      ]
    },
    {
      "cell_type": "markdown",
      "metadata": {
        "id": "wQtuha3Zc1b6"
      },
      "source": [
        "Amazing! 10/10 work. you did it. But a one-trial experiment is (sometimes) not very useful (I mean it depends on the question you're asking but let's pretend it's not useful for the question Suni is asking)."
      ]
    },
    {
      "cell_type": "markdown",
      "metadata": {
        "id": "HM2G9cpmnnKh"
      },
      "source": [
        "### The Issue of Multiple Comparisons\n",
        "\n",
        "We reviewed how we can have multiple comparisons when it comes to our conditions (think `if`, `elif`, and our different logical operators,`and`, `or`, and `not`), but what about when we want to make those comparisons on _multiple instances of data_. \n",
        "\n",
        "Let's say Suni ALSO wants to know how consistently people answer a question if she asks them five times. To do this, she has to run that code you just coded five times, and track how many times they answered according to plan. There are a couple ways she could do this. Let's do the bad and gross way first: "
      ]
    },
    {
      "cell_type": "code",
      "metadata": {
        "colab": {
          "base_uri": "https://localhost:8080/"
        },
        "id": "I7xXd4OKm8vN",
        "outputId": "391a3424-bb75-44b1-8342-630f9dc5e7fb"
      },
      "source": [
        "times_correct = 0 # this will help us count how many times a participant answered correctly\n",
        "correct_string = \"olympics\"\n",
        "\n",
        "# copy and paste your step 1 - step 3 from above here, 5 times:\n",
        "\n",
        "# Step 1: ask for input\n",
        "\n",
        "participant_answer = input('type olympics below:')\n",
        "\n",
        "if participant_answer == correct_string:\n",
        "  print('Nice work!')\n",
        "  times_correct = times_correct + 1\n",
        "else:\n",
        "  print('hey, stop that.')\n",
        "\n",
        "participant_answer = input('type olympics below:')\n",
        "\n",
        "if participant_answer == correct_string:\n",
        "  print('Nice work!')\n",
        "  times_correct = times_correct + 1\n",
        "else:\n",
        "  print('hey, stop that.')\n",
        "\n",
        "participant_answer = input('type olympics below:')\n",
        "\n",
        "if participant_answer == correct_string:\n",
        "  print('Nice work!')\n",
        "  times_correct = times_correct + 1\n",
        "else:\n",
        "  print('hey, stop that.')\n",
        "\n",
        "participant_answer = input('type olympics below:')\n",
        "\n",
        "if participant_answer == correct_string:\n",
        "  print('Nice work!')\n",
        "  times_correct = times_correct + 1\n",
        "else:\n",
        "  print('hey, stop that.')\n",
        "\n",
        "participant_answer = input('type olympics below:')\n",
        "\n",
        "if participant_answer == correct_string:\n",
        "  print('Nice work!')\n",
        "  times_correct = times_correct + 1\n",
        "else:\n",
        "  print('hey, stop that.')\n",
        "\n",
        "# Step 3: print \"nice work!\" if correct, \"hey. stop that.\" if incorrect\n",
        "# Note here, you will have to edit this if statement to include the times_correct counter\n",
        "\n",
        "\n",
        "# At the end of 5 times: \n",
        "print('Times Correct: ', times_correct)"
      ],
      "execution_count": null,
      "outputs": [
        {
          "output_type": "stream",
          "name": "stdout",
          "text": [
            "type olympics below:olympics\n",
            "Nice work!\n",
            "type olympics below:olympics\n",
            "Nice work!\n",
            "type olympics below:olympics\n",
            "Nice work!\n",
            "type olympics below:olmypics\n",
            "hey, stop that.\n",
            "type olympics below:olpymocs\n",
            "hey, stop that.\n",
            "Times Correct:  3\n"
          ]
        }
      ]
    },
    {
      "cell_type": "markdown",
      "metadata": {
        "id": "D4XxDJXYekKS"
      },
      "source": [
        "\n",
        "\n",
        "Note: You can see the last line of the previous block uses the `print` statement in a slightly different way than what we've observed so far. Here, there are 2 elements in the `print` function separated by a comma. This allows a to print multiple elements (in this case a string AND a variable) to the screen. \n",
        "\n",
        "Back to the main event...Wow! Looks awful! Who wants to type all that out? Not me! Who wants to read it all? Also not me! Luckily, we have a Fun and Cool way of doing things MANY times, without using too much code. These cool things are known as: "
      ]
    },
    {
      "cell_type": "markdown",
      "metadata": {
        "id": "aEllefDvrxs_"
      },
      "source": [
        "\n",
        "## For Loops\n",
        "\n",
        "**For Loops** are known as for loops because they **loop** through code **for** a certain number of times. Riveting. To use a for loop, we need three things:\n",
        "- an **iterator**\n",
        "- the syntax to say we want to use a for loop\n",
        "- code to loop through\n",
        "\n",
        "First, what's an iterator? Python has certain _data types_ that allow you to grab one item or element in that data type, do something to it, then grab another item, do something else to it. \n",
        "\n",
        "In other words, they let you **iterate** over their contents. We'll go through a specific example in a bit.\n",
        "\n",
        "The syntax of a for loop is pretty simple! we would say something (abstractly) like:\n",
        "\n",
        "\n",
        "\n",
        "```\n",
        "for item in iterator:\n",
        "    do something\n",
        "```\n",
        "So like an if statement, we need that colon at the end of the top line, and then an indented set of instructions afterwards. The code to loop through is where, above, it says \"do something\". For a specific example, let's take a look down below here:\n",
        "\n",
        "\n"
      ]
    },
    {
      "cell_type": "code",
      "metadata": {
        "colab": {
          "base_uri": "https://localhost:8080/"
        },
        "id": "WFVLZjIAyV8a",
        "outputId": "97d450b6-449d-448d-8eb2-dae36aa8fca2"
      },
      "source": [
        "number_of_iterations = 5 # that's how many times Suni wants to ask her participants\n",
        "times_correct = 0 \n",
        "correct_string = \"olympics\"\n",
        "\n",
        "iterator = range(number_of_iterations) # range is a new Python function. Thoughts on what it does? \n",
        "print(iterator)\n",
        "\n",
        "for iteration in iterator:\n",
        "  participant_answer = input('type olympics below:')\n",
        "\n",
        "  if participant_answer == correct_string:\n",
        "    print('Nice work!')\n",
        "    times_correct = times_correct + 1\n",
        "  else:\n",
        "    print('hey, stop that.')\n",
        "\n",
        "\n",
        "print('Times Correct: ',times_correct)"
      ],
      "execution_count": null,
      "outputs": [
        {
          "output_type": "stream",
          "name": "stdout",
          "text": [
            "range(0, 5)\n",
            "type olympics below:olympics\n",
            "Nice work!\n",
            "type olympics below:olympics\n",
            "Nice work!\n",
            "type olympics below:olpmyics\n",
            "hey, stop that.\n",
            "type olympics below:olympics\n",
            "Nice work!\n",
            "type olympics below:omlyiocs\n",
            "hey, stop that.\n",
            "Times Correct:  3\n"
          ]
        }
      ]
    },
    {
      "cell_type": "markdown",
      "metadata": {
        "id": "pLpSFJelh1hs"
      },
      "source": [
        "That's much cleaner! This will allow us to do something in an experiment many many times. Such as, oh, I don't know, allowing us to do multiple trials of an experiment with very little code or using the same code to evaluate multiple participants!! Isn't that great?\n",
        "\n",
        "---\n",
        "**In addition to making our code _cleaner_ and take up less space, what are other benefites to using for loops?**\n",
        "\n",
        "---\n",
        "\n"
      ]
    },
    {
      "cell_type": "markdown",
      "metadata": {
        "id": "0N65GO-jj1oB"
      },
      "source": [
        "### Exercise 1\n",
        "\n",
        "Suni's lab mate, Simone also wants to see how well participants follow instructions. However, she thinks people will be more accurate if you also told them at each time point how many trials they've previously gotten right.\n",
        "\n",
        "Simone wants to design a for loop that assesses if people can correctly report her instructions AND she wants to show her participants their progress (how many correct trials they've had so far). \n",
        "\n",
        "Extend the for loop from above to include the progress of a participant. "
      ]
    },
    {
      "cell_type": "code",
      "metadata": {
        "id": "8qj8ucsTjvcv",
        "colab": {
          "base_uri": "https://localhost:8080/"
        },
        "outputId": "50e60527-7d4a-4d56-ddc1-42dea2829d78"
      },
      "source": [
        "number_of_iterations = 5 # that's how many times Suni wants to ask her participants\n",
        "times_correct = 0 \n",
        "correct_string = \"Gymnasts are great \"\n",
        "\n",
        "iterator = range(number_of_iterations) # range is a new Python function. Thoughts on what it does? \n",
        "print(iterator)\n",
        "\n",
        "# for loop below\n",
        "for iteration in iterator:\n",
        "  participant_answer = input('type olympics below:')\n",
        "\n",
        "  if participant_answer == correct_string:\n",
        "    times_correct = times_correct + 1\n",
        "    print('Nice work! You have answered', times_correct, 'so far!')\n",
        "  else:\n",
        "    print('hey, stop that.')"
      ],
      "execution_count": null,
      "outputs": [
        {
          "output_type": "stream",
          "name": "stdout",
          "text": [
            "range(0, 5)\n",
            "type olympics below:olympics\n",
            "hey, stop that.\n",
            "type olympics below:olympics\n",
            "hey, stop that.\n",
            "type olympics below:Gymnast are great\n",
            "hey, stop that.\n",
            "type olympics below:Gymnasts are great\n",
            "hey, stop that.\n",
            "type olympics below:Gymnasts are great \n",
            "Nice work! You have answered 1 so far!\n"
          ]
        }
      ]
    },
    {
      "cell_type": "markdown",
      "metadata": {
        "id": "GbAoswjtjqAB"
      },
      "source": [
        "We might not, however, always know how many times we want our participants to do something! Let's say Suni wants our participants to respond until they get bored and stop answering correctly. She'll want them to keep giving inputs **while** they are giving correct inputs. Here's where we would use a fun little tool called a... \n"
      ]
    },
    {
      "cell_type": "markdown",
      "metadata": {
        "id": "WBxhsGsyy6aR"
      },
      "source": [
        "\n",
        "## While Loops\n",
        "\n",
        "This fun boys let you do something **while** a statement is true. Therefore for these we need the following:\n",
        "\n",
        "- The syntax for a while loop\n",
        "- A conditional statement/boolean\n",
        "- Code to loop through\n",
        "\n",
        "Seeing a while loop in the wild will look something like this:\n",
        "\n",
        "\n",
        "```\n",
        "while statement_is_true:\n",
        "  do something\n",
        "```\n",
        "\n",
        "Basically, **as long as the statement at the top is true, the code below will execute**. Let's take a couple minutes to brainstorm why this might be dangerous when you're running your code!!\n",
        "\n"
      ]
    },
    {
      "cell_type": "markdown",
      "metadata": {
        "id": "vqwjBthQ5tzq"
      },
      "source": [
        "### How do we leave a while loop?\n",
        "\n",
        "We will only ever leave a while loop in two cases:\n",
        "- If the statement becomes false\n",
        "- if we **break** out of it\n",
        "\n"
      ]
    },
    {
      "cell_type": "markdown",
      "metadata": {
        "id": "LXoM-JNWmf16"
      },
      "source": [
        "#### When statements are no longer true\n",
        "\n",
        "In many cases, after each iteration through a loop, we can change or update a counter that can allow us to specify when a while statement might be true or false.\n",
        "\n"
      ]
    },
    {
      "cell_type": "markdown",
      "metadata": {
        "id": "5NEtYp1tHa05"
      },
      "source": [
        "##### Exercise 2\n",
        "\n",
        "Consider the following example: \n",
        "\n",
        "Suni might create the criterion that she wants her participants to keep responding to her task until they answer incorrectly 3 times. We don't know how many trials this will take but we know at what evaluation marker we want to stop collecting data. \n",
        "\n",
        "---\n",
        "**What do we need to set up this kind of `while` loop?**\n",
        "\n",
        "---\n",
        "\n"
      ]
    },
    {
      "cell_type": "code",
      "metadata": {
        "id": "eDcla4bZnj6n",
        "colab": {
          "base_uri": "https://localhost:8080/"
        },
        "outputId": "501f34b1-42ac-49cf-e659-8e15fedc5fb1"
      },
      "source": [
        "# Keep going until participant gives three incorrect responses\n",
        "\n",
        "# Set up some elements you'll need to help evaluate criterion\n",
        "num_incorrect = 0\n",
        "# Set up while loop\n",
        "while num_incorrect < 3:\n",
        "  participant_answer = input('type olympics below:')\n",
        "\n",
        "  if participant_answer == correct_string:\n",
        "    # times_correct = times_correct + 1\n",
        "    print('Nice work!')\n",
        "  else:\n",
        "    print('hey, stop that.')\n",
        "    num_incorrect += 1"
      ],
      "execution_count": null,
      "outputs": [
        {
          "output_type": "stream",
          "name": "stdout",
          "text": [
            "type olympics below:olympics\n",
            "hey, stop that.\n",
            "type olympics below:Gymnasts are great \n",
            "Nice work!\n",
            "type olympics below:gymnasts are making me do hard things!\n",
            "hey, stop that.\n",
            "type olympics below:I'm tired\n",
            "hey, stop that.\n"
          ]
        }
      ]
    },
    {
      "cell_type": "markdown",
      "metadata": {
        "id": "nW6D-TujmeCP"
      },
      "source": [
        "#### When we **break** out\n",
        "\n",
        "We have another fun tool to help with our control: the **`break`** statement. \n",
        "\n",
        "`Break` statements, when reached, terminate the loop immediately. These can be powerful for setting up specific criteria that you would to be acutely aware. \n",
        "\n",
        "---\n",
        "**What are instances where we would want to use a `break` statement over another type of loop _end_?**\n",
        "\n",
        "---\n",
        "\n",
        "Note: We have to be careful with this too, because if we put it in, it will automatically break out of whatever loop it's a part of when we reach it. \n",
        "\n",
        "Let's do a couple examples down below!"
      ]
    },
    {
      "cell_type": "markdown",
      "metadata": {
        "id": "_u5d-xlRIGe2"
      },
      "source": [
        "##### Exercise 3\n",
        "\n",
        "Say that now, Suni is interested in how long participants will engage with her task. She would like to create a loop where her participants can decide for themselves when to stop the task. How could she go about doing this? \n",
        "\n",
        "**Hint:** Use `break` :P "
      ]
    },
    {
      "cell_type": "code",
      "metadata": {
        "id": "XoK0d9F-mNkV",
        "colab": {
          "base_uri": "https://localhost:8080/"
        },
        "outputId": "6f38baf2-5fea-4b38-e163-b17bd553aff3"
      },
      "source": [
        "## Example 2: using break to break out of a while loop\n",
        "correct_string = 'olympics'\n",
        "num_trials = 0\n",
        "\n",
        "while True:\n",
        "  participant_answer = input(\"Please enter \\'olympics\\': \")\n",
        "\n",
        "  # step 2: compare input to correct string\n",
        "  is_correct = participant_answer == correct_string\n",
        "\n",
        "  # step 3: evaluate!\n",
        "  if is_correct:\n",
        "    print('yippee')\n",
        "  # step 4: allow participants to quit out of the task\n",
        "  elif participant_answer == 'quit':\n",
        "    break\n",
        "  else:\n",
        "    print('try again!')\n",
        "  \n",
        "  num_trials += 1\n",
        "\n",
        "print('Trials completed: ', num_trials)"
      ],
      "execution_count": null,
      "outputs": [
        {
          "output_type": "stream",
          "name": "stdout",
          "text": [
            "Please enter 'olympics': olympics\n",
            "yippee\n",
            "Please enter 'olympics': olympics\n",
            "yippee\n",
            "Please enter 'olympics': olympics\n",
            "yippee\n",
            "Please enter 'olympics': gjsk\n",
            "try again!\n",
            "Please enter 'olympics': quit\n",
            "Trials completed:  4\n"
          ]
        }
      ]
    },
    {
      "cell_type": "markdown",
      "metadata": {
        "id": "bOq_F5cEJ499"
      },
      "source": [
        "Wow! Awesome! We now have many ways that a participant do something lots of times and a way for us to record their response! \n",
        "\n",
        "But now we only have a single measurement of their responses: how many times they got the answer right or how many trials they completed. What if we want to know exactly what their responses were? We need some way to record not only whether or not they were correct, but what they wrote and when!"
      ]
    },
    {
      "cell_type": "markdown",
      "metadata": {
        "id": "odVt_LP0eiVO"
      },
      "source": [
        "## How to store lots of data in one variable\n",
        "\n",
        "The way is: **lists!!** \n",
        "\n",
        "A **list** would be pretty great right now. List in python are kinda like lists in real life. A list is a collection of items. These items can be strings, numbers, booleans, other lists, or a collection of all of these! One concrete, real world example is a shopping list -- you can see that as a collection of strings! \n",
        "\n",
        "In python, you'd make your shopping list like this:\n",
        "\n",
        "```\n",
        "shopping_list = ['beans','more beans','chicken','cheese','five spice','tangerines']\n",
        "```\n",
        "or something like that. Basically, to make a list you just need:\n",
        " \n",
        "1. Square brackets at the beginning and end of your list \n",
        "2. Things to put in the list, _separated by commas_ \n",
        "\n",
        "EzPz! But.... how do we do anything with this?\n",
        "\n",
        "\n",
        "\n"
      ]
    },
    {
      "cell_type": "markdown",
      "metadata": {
        "id": "vKtD2k6O2Ovx"
      },
      "source": [
        "### Using Lists\n",
        "\n",
        "Great question! Before we discuss how to do things with lists, let's talk about **what we want out of a list**.\n",
        "\n",
        "Some things we might want to know/get from the list are the following:\n",
        "- how many items are in the list?\n",
        "- how to get or access an item in the list\n",
        "- how to add an item to the list\n",
        "- how to remove an item from a list\n",
        "\n",
        "Each of these can be done in a single line of code. We're going to talk about the first 3, and use the last in the hw. Let's start with the first one: how many items are in a list?\n",
        "\n",
        "```\n",
        "n_items = len(list)\n",
        "```\n",
        "We just use the 'len' command! We have seen that we can use strings to see how many characters are in them, but the fun does not stop there. We can use `len()` on other more complex data types. \n",
        "\n",
        "This would be useful in the case that we, say, want to iterate through the elements of a list. Maybe our list contains trial names. Then we could do something like the following:\n",
        "```\n",
        "iterator = range(len(trial_names))\n",
        "for iter in iterator:\n",
        "  do things\n",
        "```\n",
        "This will iterate once for each element in trial names, and then stop. Awesome! But... how would we actually get the trial names out of this list??\n",
        "\n",
        "Let's start by seeing how we'd get items out without using this for loop. When we look at a list, we can see it as an **ordered series of items**. So in the examples of our shopping list, the first item would be 'beans', the second item would be 'more beans', and so on. To access an item of the list, we'd therefore just do\n",
        "\n",
        "```\n",
        "list_item = list[item number]\n",
        "```\n",
        "Sounds great right? Let's try that out. In the shopping list below, get out beans and five spice."
      ]
    },
    {
      "cell_type": "code",
      "metadata": {
        "id": "f8Zz0D1I7Lox"
      },
      "source": [
        "shopping_list = ['beans','more beans','chicken','cheese','five spice','tangerines']\n",
        "\n",
        "\n",
        "beans = # to-do: get beans from shopping list\n",
        "five_spice = # to-do: get five_spice from shopping list\n"
      ],
      "execution_count": null,
      "outputs": []
    },
    {
      "cell_type": "markdown",
      "metadata": {
        "id": "3E0c7hkD7is_"
      },
      "source": [
        "Running into issues? What seems to be the problem?\n",
        "\n",
        "**Hint:** We mentioned last class that Python has an unfamiliar or different way of counting than you might be used to! \n",
        "\n"
      ]
    },
    {
      "cell_type": "markdown",
      "metadata": {
        "id": "1zPL5UQaL_51"
      },
      "source": [
        "#### **Zero-Indexing**\n",
        "\n",
        "Python actually does this thing that feels very weird to us normal people but that computer scientists swear is Very Normal, called zero-indexing. This means that the first element is counted by python as the zero'th, the second is the first, and so on. So to get beans and five spice, we'd actually need:\n",
        "\n",
        "```\n",
        "beans = shopping_list[#]\n",
        "five_spice = shopping_list[#]\n",
        "```\n",
        "\n",
        "If you really want to use one-indexing (normal person counting), you can use it if you count from the reverse of the list. By this I mean if you want to grab the last element of the list, tangerines in our case, you could say:\n",
        "\n",
        "```\n",
        "tangerines = shopping_list[-1]\n",
        "```\n",
        "\n",
        "If you wanted to grab the elements we wanted before, we'd say\n",
        "\n",
        "```\n",
        "beans = shopping_list[#]\n",
        "five_spice = shopping_list[#]\n",
        "```"
      ]
    },
    {
      "cell_type": "markdown",
      "metadata": {
        "id": "l1sjX5xV2QHl"
      },
      "source": [
        "Nice! Let's do some practice with that."
      ]
    },
    {
      "cell_type": "code",
      "metadata": {
        "id": "wpgHn1OD7ias"
      },
      "source": [
        "shopping_list = ['beans','more beans','chicken','cheese','five spice','tangerines']\n",
        "\n",
        "#### TO-DO ######\n",
        "\n",
        "more_beans = #get more beans from list - but by indexing from the back of the list\n",
        "chicken = #get more beans by indexing from the front of the list"
      ],
      "execution_count": null,
      "outputs": []
    },
    {
      "cell_type": "markdown",
      "metadata": {
        "id": "NMK691Mn0T76"
      },
      "source": [
        "#### **Iteration**"
      ]
    },
    {
      "cell_type": "markdown",
      "metadata": {
        "id": "SNHo0tmX3Tbt"
      },
      "source": [
        "\n",
        "Amazing! So getting back to the original point: we can access each items in a list by using an **iterator** (familiar, yes?). \n",
        "\n",
        "Let's say we have a list of words we want participants to match on each trial. We can make a list, then access elements in the way described above:\n",
        "\n"
      ]
    },
    {
      "cell_type": "code",
      "metadata": {
        "colab": {
          "base_uri": "https://localhost:8080/"
        },
        "id": "fPbUcYjMSGvH",
        "outputId": "c389ac19-d6c0-4e51-c8a2-e414b40a4d2a"
      },
      "source": [
        "trial_words = ['target','olympics','tangerine','traffic','tallulah','temperate']\n",
        "\n",
        "###### TO-DO: create iterator from trial_words ############\n",
        "iterator = #?????\n",
        "\n",
        "#################################################\n",
        "\n",
        "times_correct = 0\n",
        "\n",
        "for iter in iterator:\n",
        "\n",
        "  ####### TO-DO: Access words from trial words per iteration#########\n",
        "  word = #????\n",
        "\n",
        "  #################################################\n",
        "\n",
        "  in_string = input(\"Please enter \\'{:s}\\': \".format(word))\n",
        "\n",
        "  # step 2: compare input to olympics\n",
        "  acc = word == in_string\n",
        "\n",
        "  if acc:\n",
        "    times_correct += 1\n",
        "  else:\n",
        "    print(\"no.\")\n",
        "\n",
        "print('Times correct: ', times_correct)\n"
      ],
      "execution_count": null,
      "outputs": [
        {
          "output_type": "stream",
          "text": [
            "Please enter 'target': target\n",
            "Please enter 'olympics': olympics\n",
            "Please enter 'tangerine': tangerine\n",
            "Please enter 'traffic': traffic\n",
            "Please enter 'tallulah': tallulah\n",
            "Please enter 'temperate': temperate\n"
          ],
          "name": "stdout"
        }
      ]
    },
    {
      "cell_type": "markdown",
      "metadata": {
        "id": "o73nXKhN0ygu"
      },
      "source": [
        "Nice! Now we can do a lot of things, across a bunch of trials, in a pre-specified fashion. But we got into this by wondering how we could check what exactly participants answered on each trial. To do that, we need to know how to MODIFY lists. "
      ]
    },
    {
      "cell_type": "markdown",
      "metadata": {
        "id": "9NpKAS7uS7GR"
      },
      "source": [
        "#### **List Modifications**\n",
        "\n",
        "The main list operation we need to do for this task is known as **appending**, or adding new items to a list. We do this with the append operation.\n",
        "\n",
        "```\n",
        "list.append(item)\n",
        "```\n",
        "\n",
        "Two things to mention here: first, if we do this, we don't have to assign a list to a new object! This just changes the list as is. Second, this adds items to the END of the list. So if we have a list that's \n",
        "\n",
        "```\n",
        "l = ['turtle','hen]\n",
        "```\n",
        "and we do \n",
        "```\n",
        "l.append(4)\n",
        "```\n",
        "Then we should get \n",
        "```\n",
        "['turtle','hen',4]\n",
        "```\n",
        "\n",
        "Let's check on that"
      ]
    },
    {
      "cell_type": "code",
      "metadata": {
        "colab": {
          "base_uri": "https://localhost:8080/"
        },
        "id": "zrEz7PqhUWtK",
        "outputId": "adcb54f4-e847-4cbb-b63f-7d2588b6aee4"
      },
      "source": [
        "l  = ['turtle','hen']\n",
        "\n",
        "print('Original l: ', l)\n",
        "\n",
        "l.append(4)\n",
        "\n",
        "print('New l: ', l)"
      ],
      "execution_count": null,
      "outputs": [
        {
          "output_type": "stream",
          "text": [
            "Original l:  ['turtle', 'hen']\n",
            "New l:  ['turtle', 'hen', 4]\n"
          ],
          "name": "stdout"
        }
      ]
    },
    {
      "cell_type": "markdown",
      "metadata": {
        "id": "dNEDA6xkUuGf"
      },
      "source": [
        "Amazing! There are more list operations, but we can explore them in the homework. For now, let's FINALLY complete our example here.\n",
        "\n",
        "Let's get our participant trials the same way we did previously, and then in addition to calculating accuracy, record all of their responses as well!\n",
        "\n"
      ]
    },
    {
      "cell_type": "code",
      "metadata": {
        "colab": {
          "base_uri": "https://localhost:8080/"
        },
        "id": "UA-SY83dYC2F",
        "outputId": "7b6b8352-861f-4ebe-cd99-dedd638a2681"
      },
      "source": [
        "trial_words = ['target','olympics','tangerine','traffic','tallulah','temperate']\n",
        "\n",
        "iterator = range(len(trial_words))\n",
        "\n",
        "times_correct = 0\n",
        "\n",
        "participant_responses = []\n",
        "\n",
        "for iter in iterator:\n",
        "\n",
        "  word = trial_words[iter]\n",
        "\n",
        "  in_string = input(\"Please enter \\'{:s}\\': \".format(word))\n",
        "  \n",
        "  #### TO-DO: Add responses to participant response list ####\n",
        "\n",
        "  ############################################################\n",
        "\n",
        "  acc = word == in_string\n",
        "\n",
        "  if acc:\n",
        "    times_correct += 1\n",
        "  else:\n",
        "    print(\"no.\")\n",
        "\n",
        "print('Times correct: ', times_correct)\n",
        "print('Participant responses: ', participant_responses)"
      ],
      "execution_count": null,
      "outputs": [
        {
          "output_type": "stream",
          "text": [
            "Please enter 'target': target\n",
            "Please enter 'olympics': oleempics\n",
            "no.\n",
            "Please enter 'tangerine': tangerone\n",
            "no.\n",
            "Please enter 'traffic': tarfic\n",
            "no.\n",
            "Please enter 'tallulah': tallulah\n",
            "Please enter 'temperate': temperate\n",
            "Times correct:  3\n",
            "['target', 'oleempics', 'tangerone', 'tarfic', 'tallulah', 'temperate']\n"
          ],
          "name": "stdout"
        }
      ]
    },
    {
      "cell_type": "markdown",
      "metadata": {
        "id": "ygeca9AVeXFh"
      },
      "source": [
        "Awesome, great work! Now one last thing that I didn't tell you: a list itself is actually an iterator! So we don't need to go through any of that business of making a new iterator to go through our list - we can just do this:"
      ]
    },
    {
      "cell_type": "code",
      "metadata": {
        "id": "LSe_LLU4ftwH"
      },
      "source": [
        "trial_words = ['target','olympics','tangerine','traffic','tallulah','temperate']\n",
        "\n",
        "times_correct = 0\n",
        "\n",
        "participant_responses = []\n",
        "\n",
        "for word in trial_words:\n",
        "\n",
        "  in_string = input(\"Please enter \\'{:s}\\': \".format(word))\n",
        "  \n",
        "  #### TO-DO: Add responses to participant response list ####\n",
        "\n",
        "  ############################################################\n",
        "\n",
        "  acc = word == in_string\n",
        "\n",
        "  if acc:\n",
        "    times_correct += 1\n",
        "  else:\n",
        "    print(\"no.\")\n",
        "\n",
        "print('Times correct: ', times_correct)\n",
        "print('Participant responses: ', participant_responses)"
      ],
      "execution_count": null,
      "outputs": []
    },
    {
      "cell_type": "markdown",
      "metadata": {
        "id": "GsvYOuaef28x"
      },
      "source": [
        "Now that we know how to do all this cool stuff, we can set up many trials for our experiments using lists and loops!"
      ]
    },
    {
      "cell_type": "markdown",
      "metadata": {
        "id": "q4W6ynuyuZZn"
      },
      "source": [
        "## Control Flow: The Backbone of Experimental Design\n",
        "\n",
        "Across the past two lectures, we've covered many foundational concepts to computer programming, and seen how these concepts come to life in Python. \n",
        "\n",
        "These are concepts that are also fundamental to experimental design. All that being said, these are concepts that you all should spend the most time getting comfortable and confident in! "
      ]
    },
    {
      "cell_type": "code",
      "metadata": {
        "id": "o5q7op8XudZo"
      },
      "source": [
        ""
      ],
      "execution_count": null,
      "outputs": []
    }
  ]
}