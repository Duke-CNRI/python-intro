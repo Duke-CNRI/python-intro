{
 "cells": [
  {
   "cell_type": "markdown",
   "id": "a3ac49be",
   "metadata": {},
   "source": [
    "# Class 2: What is control flow?\n",
    "\n",
    "Created by Miles Martinez\n",
    "\n",
    "So far, we've been writing code line-by-line. That's slow and annoying, especially when we want to do things multiple times (like if we have multiple trials in an experiment). Additionally, we might not want to run all of our code in each experiment - we might want certain stimuli to display in some experimental conditions, but not other. How can we do this in Python?\n",
    "\n",
    "In other words, how do we **Control** the **Flow** of our experiments? There are two main tools we'd use: for loops and conditionals. We're going to cover conditionals first; these will let us **conditionally** run our code. Next, we're going to cover for loops; these will let us repeat sections of our code without having to write the code itself multiple times. If we have time, we'll cover while loops too -- these use structure from both for loops and conditional statements, so if you understand both of those, you'll be well on your way to while loops too!\n",
    "\n",
    "## Objectives:\n",
    "To learn about different ways to control the flow of our code: specifically, conditionals and for loops.\n",
    "Start to understand how we might create structure to tell our computers what we want them to do.\n",
    "\n",
    "Assign Python project teams: please fill out [this when2meet](https://www.when2meet.com/?21494620-qqiFS) before we start! \n",
    "\n",
    "## Learning Outcomes:\n",
    "- understand the **syntax** of different types of flow (if statements, for loops)\n",
    "- understand the reasons for using different types of flow\n",
    "- be able to construct if statements, for loops, and while loops on your own\n",
    "- understand where in our code we would WANT to put these different kinds of loops\n",
    "\n",
    "## Homework:\n",
    "- come up with a list of topics for your project! send them to us by class Tuesday"
   ]
  },
  {
   "cell_type": "markdown",
   "id": "ab7f86e4",
   "metadata": {},
   "source": [
    "### BEFORE WE START\n",
    "\n",
    "how'd that anaconda installation go? any questions?"
   ]
  },
  {
   "cell_type": "markdown",
   "id": "e3a32ad9",
   "metadata": {},
   "source": [
    "# Conditionals\n",
    "\n",
    "Conditionals let us execute parts of our code if certain conditions are met. These conditions are determined by the variables in our code. We determine whether or not these conditions are met using **Booleans** (from last class).\n",
    "Booleans can be either **True** or **False**; a conditional will execute if the Boolean is **True**, and won't if it is **False**.\n",
    "Typically, the structure of an if statement in our experiment will look like this:\n",
    "\n",
    "```\n",
    "if (condition 1 boolean):\n",
    "\n",
    "    run condition 1 code\n",
    "\n",
    "elif (condition 2 boolean):\n",
    "       \n",
    "    run condition 2 code\n",
    "    \n",
    "else:\n",
    "\n",
    "    do something else!\n",
    "```\n",
    "\n",
    "So all we're telling the computer here is: If some condition in our code is true (maybe our participant answered a question correctly), run a certain segment of code. Otherwise, do something else!\n",
    "We have to use certain syntax to let Python know that we want to use conditionals. That means using certain words, with a certain structure.\n",
    "\n",
    "## If, elif, and else\n",
    "\n",
    "We tell Python we're using conditional statements using the words **if**, **elif**, and **else**. That's why you'll also see conditionals referred to as **if statements**. \n",
    "\n",
    "When using **if statements**, Python requires the word **if**, followed by a Boolean, then a colon.\n",
    "    \n",
    "                   Underneath this \"if\" part, we also need an indented block of code\n",
    "    \n",
    "When the indentation ends, so does the block of code. Here are some examples!\n"
   ]
  },
  {
   "cell_type": "code",
   "execution_count": null,
   "id": "01bef0f1",
   "metadata": {},
   "outputs": [],
   "source": [
    "Boolean_1 = True\n",
    "Boolean_2 = False\n",
    "\n",
    "if Boolean_1:\n",
    "    \n",
    "    print(\"Hi! I'm an if statement! I'm printing because the value of 'Boolean_1' was True!\")\n",
    "    \n",
    "if Boolean_2:\n",
    "    \n",
    "     print(\"Hi! I'm an if statement! I'm printing because the value of 'Boolean_2' was True!\")\n",
    "\n",
    "print(\"I'm not indented, so I'll always print\")"
   ]
  },
  {
   "cell_type": "markdown",
   "id": "a4d66acd",
   "metadata": {},
   "source": [
    "As you can see, only the first one printed, since only Boolean_1 was True. We only needed 'if' for this statement to work. What about those other words I mentioned before -- elif, and else?\n",
    "\n",
    "We can use those to give our statements more complicated structure!"
   ]
  },
  {
   "cell_type": "code",
   "execution_count": null,
   "id": "f5be8d83",
   "metadata": {},
   "outputs": [],
   "source": [
    "Boolean_1 = False\n",
    "Boolean_2 = True\n",
    "\n",
    "if Boolean_1:\n",
    "    \n",
    "     print(\"Hi! I'm an if statement! I'm printing because Boolean_1 is True!\")\n",
    "    \n",
    "elif Boolean_2:\n",
    "    \n",
    "     print(\"Hi! I'm an if statement! I'm printing because 'Boolean_2' is True!\")\n"
   ]
  },
  {
   "cell_type": "markdown",
   "id": "52c7d2cc",
   "metadata": {},
   "source": [
    "**What would happen if both Boolean 1 and Boolean 2 were true?**\n",
    "\n",
    "## Using Booleans with variables in our code\n",
    "\n",
    "We've talked about these statements using Boolean variables so far, but usually in our code we want to check the values of our variables; if they take certain values, *then* we run our code. We can do this like we talked about last time: using value comparisons, and the words *and* and *or*.\n"
   ]
  },
  {
   "cell_type": "code",
   "execution_count": null,
   "id": "5f7f7a4c",
   "metadata": {},
   "outputs": [],
   "source": [
    "conditionVariable = 'condition1'\n",
    "numberCorrect = 3\n",
    "   \n",
    "if conditionVariable == 'condition2':\n",
    "     print('condition 2 code!')\n",
    "    \n",
    "elif (conditionVariable == 'condition1') and (numberCorrect < 3):\n",
    "     print(\"You're in condition 1 and have gotten fewer than 3 things correct!\")\n",
    "else:\n",
    "    print(\"None of the above are true!\")"
   ]
  },
  {
   "cell_type": "markdown",
   "id": "e6670f15",
   "metadata": {},
   "source": [
    "## Exercise 1\n",
    "\n",
    "Change the areas with question marks to variable comparison operators (==, >, <=, etc.) so that the if statement runs!\n"
   ]
  },
  {
   "cell_type": "code",
   "execution_count": null,
   "id": "b537b5f7",
   "metadata": {},
   "outputs": [],
   "source": [
    "### Make the machine print what you need it to in this block of code!\n",
    "\n",
    "x = \"Python\"\n",
    "y = \"MATLAB\"\n",
    "z= 6\n",
    "\n",
    "if (x ??? y) and (len(y) ??? z):\n",
    "\n",
    "    print(\"you did it!\")\n",
    "\n",
    "else:\n",
    "\n",
    "    print(\"change the question marks to make the if statement run!\")\n"
   ]
  },
  {
   "cell_type": "markdown",
   "id": "1466728f",
   "metadata": {},
   "source": [
    "## Exercise 2\n",
    "\n",
    "Code the following conditional statement so that:\n",
    "\n",
    "- if x = 6, print \"x is exactly 6\"\n",
    "- if x < 0, print \"x is less than 0\"\n",
    "- if x < 6, print \"x is less than 6\"\n",
    "- otherwise, print \"x is greater than 6\""
   ]
  },
  {
   "cell_type": "code",
   "execution_count": null,
   "id": "628e3f24",
   "metadata": {},
   "outputs": [],
   "source": [
    "x = 6 # change this to test your code, make sure that all the conditions print the right thing\n",
    "\n",
    "\n",
    "####### CONDITIONAL GOES HERE ###################\n",
    "\n",
    "\n",
    "\n",
    "\n",
    "##################################################"
   ]
  },
  {
   "cell_type": "markdown",
   "id": "8445a82b",
   "metadata": {},
   "source": [
    "# For Loops\n",
    "\n",
    "**for** loops tell our code to do things **for** a certain amount of time, or **for** a certain number of times. \n",
    "\n",
    "**for** example:"
   ]
  },
  {
   "cell_type": "code",
   "execution_count": null,
   "id": "728bdb7d",
   "metadata": {},
   "outputs": [],
   "source": [
    "for iteration in range(5):\n",
    "    \n",
    "    print('Hi')"
   ]
  },
  {
   "cell_type": "markdown",
   "id": "e8ecb4de",
   "metadata": {},
   "source": [
    "This above is the general syntax for a **for** loop. We need:\n",
    "\n",
    "**for** _variable_ **in** iterator:\n",
    "\n",
    "          followed by an indented code block, which will be repeated for however many things are in the iterator.\n",
    "\n",
    "again, anything not indented is outside of the for loop!\n",
    "\n",
    "## Iterators\n",
    "\n",
    "I used the word iterator above; this is really just code language for things that contain multiple items. We've run into **lists** before, we can use those as iterators:\n"
   ]
  },
  {
   "cell_type": "code",
   "execution_count": null,
   "id": "17cdf285",
   "metadata": {},
   "outputs": [],
   "source": [
    "list_of_questions=['How are you?',\"What's your name?\",'What year in school are you?',\\\n",
    "                   'Are you excited for classes to start?']\n",
    "\n",
    "for question in list_of_questions:\n",
    "\n",
    "    print(question)"
   ]
  },
  {
   "cell_type": "markdown",
   "id": "8039f798",
   "metadata": {},
   "source": [
    "Using the above for loop as an example, what's going on under the hood is this:\n",
    "\n",
    "```\n",
    "question = list_of_questions[0]\n",
    "print(question)\n",
    "question = list_of_questions[1]\n",
    "print(question)\n",
    "question = list_of_questions[2]\n",
    "print(question)\n",
    "```\n",
    "\n",
    "We can do this same thing for pretty much any collection of objects. Above, you saw me use ```range(5)```, this created a new iterator that's basically just the list ```[0,1,2,3,4]```. We commonly use **range** in experiments, when we want to iterate over a certain number of trials:\n",
    "\n"
   ]
  },
  {
   "cell_type": "code",
   "execution_count": null,
   "id": "30244810",
   "metadata": {},
   "outputs": [],
   "source": [
    "numTrials = 10\n",
    "\n",
    "for trial in range(numTrials):\n",
    "\n",
    "    print(\"*\"*(trial+1))"
   ]
  },
  {
   "cell_type": "markdown",
   "id": "7b0ebd04",
   "metadata": {},
   "source": [
    "## Exercise 3\n",
    "\n",
    "Create a for loop, using the range function. Make it loop 4 times Keep track of how many times we've gone through the loop; each time through, print out the loop number squared. So if we loop 4 times, it should print: \n",
    "\n",
    "1\n",
    "\n",
    "4\n",
    "\n",
    "9\n",
    "\n",
    "16\n",
    "\n"
   ]
  },
  {
   "cell_type": "code",
   "execution_count": null,
   "id": "444fbe1b",
   "metadata": {},
   "outputs": [],
   "source": [
    "### Your for loop goes here!!! ############\n",
    "\n"
   ]
  },
  {
   "cell_type": "markdown",
   "id": "6614dfe3",
   "metadata": {},
   "source": [
    "## Exercise 4\n",
    "\n",
    "Combine the two types of control flow we've talked about now! Loop through the loop 10 times;\n",
    "\n",
    "If we're before the 4th loop, print \"Fewer than 4 loops have passed\". If we're in loops 4-7, print \"Between 4 and 7 loops have passed\". Otherwise, print \"More than 7 loops have passed\". The output should look like:\n",
    "\n",
    "Fewer than 4 loops have passed\n",
    "\n",
    "Fewer than 4 loops have passed\n",
    "\n",
    "Fewer than 4 loops have passed\n",
    "\n",
    "Between 4 and 7 loops have passed\n",
    "\n",
    "Between 4 and 7 loops have passed\n",
    "\n",
    "Between 4 and 7 loops have passed\n",
    "\n",
    "Between 4 and 7 loops have passed\n",
    "\n",
    "More than 7 loops have passed\n",
    "\n",
    "More than 7 loops have passed\n",
    "\n",
    "More than 7 loops have passed"
   ]
  },
  {
   "cell_type": "code",
   "execution_count": null,
   "id": "8210af03",
   "metadata": {},
   "outputs": [],
   "source": [
    "######### Your for loop goes here!! ##########\n"
   ]
  },
  {
   "cell_type": "markdown",
   "id": "61614834",
   "metadata": {},
   "source": [
    "# While Loops\n",
    "\n",
    "**while** loops tell our code to continue to do something **while** a certain condition is true. For instance, if we want our participant to keep trying to respond until they get a question right. The syntax of this is pretty close to that of the other types of loops - it just requires a boolean when we make it! For instance:"
   ]
  },
  {
   "cell_type": "code",
   "execution_count": null,
   "id": "8ad9f9b5",
   "metadata": {},
   "outputs": [],
   "source": [
    "number = 0\n",
    "while number < 11:\n",
    "    \n",
    "    print(number)\n",
    "    number += 2"
   ]
  },
  {
   "cell_type": "markdown",
   "id": "3c59c4fb",
   "metadata": {},
   "source": [
    "So here, we continue passing through this loop, printing number, and then increasing the value of number by 2 every time we pass through the loop. **WE STOP ONCE 'NUMBER' >= 11!!** So one thing you might notice is that it stops when that statement is no longer True. What will happen in this next loop?"
   ]
  },
  {
   "cell_type": "code",
   "execution_count": null,
   "id": "927b14b5",
   "metadata": {},
   "outputs": [],
   "source": [
    "number = 0\n",
    "while number > 4:\n",
    "    print(number)\n",
    "    number +=2\n",
    "    "
   ]
  },
  {
   "cell_type": "markdown",
   "id": "50c72de5",
   "metadata": {},
   "source": [
    "what about this one?"
   ]
  },
  {
   "cell_type": "code",
   "execution_count": null,
   "id": "ac937e4e",
   "metadata": {},
   "outputs": [],
   "source": [
    "number = 0\n",
    "while number >-1:\n",
    "    print(number)\n",
    "    number += 2"
   ]
  },
  {
   "cell_type": "markdown",
   "id": "119a12c2",
   "metadata": {},
   "source": [
    "I hope you didn't try to run that one above! The point I'm trying to make here is that while the statement at the top is True, the loop will continue running. We need a way to remove ourselves from these loops. There are two ways to do so; the first is specific to while loops, the second can get us out of ALL loops"
   ]
  },
  {
   "cell_type": "markdown",
   "id": "343799b4",
   "metadata": {},
   "source": [
    "## Booleans\n",
    "\n",
    "As I mentioned previously, these while loops will continue to do things **while** a certain condition is true. So to get out, we need that condition to become false. We've already seen examples of this above - so why don't you give it a shot here?\n",
    "\n",
    "For this next partner programming exercise, we want our participants to answer the question 'what food did you have for dinner?' However, there is only one right answer: 'a heavenly buffaloes vegan chicken dinner'. We want to keep asking our participants this question until they get it right. How might we do this?"
   ]
  },
  {
   "cell_type": "code",
   "execution_count": null,
   "id": "41e78b58",
   "metadata": {},
   "outputs": [],
   "source": [
    "correct_answer = ##???\n",
    "question = #????\n",
    "\n",
    "while #????:\n",
    "\n",
    "        answer = input(##???)\n",
    "            \n",
    "        \n"
   ]
  },
  {
   "cell_type": "markdown",
   "id": "9f40725c",
   "metadata": {},
   "source": [
    "## break\n",
    "\n",
    "We can, however, have loops that are always true! This may happen when we don't know what the right answer is, or when there's no easy way to express a condition that we want to be fulfilled. When that happens, we can use the **break** statement. That statement looks like this:\n",
    "\n",
    "```\n",
    "while boolean:\n",
    "\n",
    "    do stuff\n",
    "    \n",
    "    break\n",
    "```\n",
    "\n",
    "We can pop that bad boy inside an if statement as well, in case we want to break out earlier:\n",
    "\n",
    "```\n",
    "while boolean:\n",
    "    do stuff\n",
    "    \n",
    "    if other_boolean:\n",
    "        break\n",
    "```\n",
    "\n",
    "Finally, we can use this in other loops to break out early if we wish to do so:\n",
    "\n",
    "```\n",
    "for iteration in iterator:\n",
    "\n",
    "    do stuff\n",
    "    \n",
    "    if boolean:\n",
    "        break\n",
    "```\n",
    "\n",
    "So this can be a really great thing to use in a lot of situations! Here's an actual example:"
   ]
  },
  {
   "cell_type": "code",
   "execution_count": null,
   "id": "cbddf46e",
   "metadata": {},
   "outputs": [],
   "source": [
    "n_guesses = 0\n",
    "\n",
    "answer = 'oops'\n",
    "response = ''\n",
    "while answer != response:\n",
    "    \n",
    "    response = input('answer a question!')\n",
    "    n_guesses += 1\n",
    "    if n_guesses > 5:\n",
    "        print('you took too long sorry!')\n",
    "        break\n",
    "    \n",
    "    "
   ]
  },
  {
   "cell_type": "markdown",
   "id": "3325226c",
   "metadata": {},
   "source": [
    "your turn!! Please repeat the previous exercise, but include the following: if our participants say 'cookout', use **break** to exit the while loop, and print 'also a great choice!' "
   ]
  },
  {
   "cell_type": "code",
   "execution_count": null,
   "id": "03511174",
   "metadata": {},
   "outputs": [],
   "source": [
    "correct_answer = ##???\n",
    "question = #????\n",
    "\n",
    "while #????:\n",
    "\n",
    "        answer = input(##???)\n",
    "            \n",
    "        ### Where should this go?    \n",
    "        break"
   ]
  }
 ],
 "metadata": {
  "kernelspec": {
   "display_name": "Python 3 (ipykernel)",
   "language": "python",
   "name": "python3"
  },
  "language_info": {
   "codemirror_mode": {
    "name": "ipython",
    "version": 3
   },
   "file_extension": ".py",
   "mimetype": "text/x-python",
   "name": "python",
   "nbconvert_exporter": "python",
   "pygments_lexer": "ipython3",
   "version": "3.9.7"
  }
 },
 "nbformat": 4,
 "nbformat_minor": 5
}
