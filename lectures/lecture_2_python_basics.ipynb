{
  "nbformat": 4,
  "nbformat_minor": 0,
  "metadata": {
    "colab": {
      "name": "lecture_2_python-basics.ipynb",
      "provenance": [],
      "collapsed_sections": [],
      "include_colab_link": true
    },
    "kernelspec": {
      "name": "python3",
      "display_name": "Python 3"
    },
    "language_info": {
      "name": "python"
    }
  },
  "cells": [
    {
      "cell_type": "markdown",
      "metadata": {
        "id": "view-in-github",
        "colab_type": "text"
      },
      "source": [
        "<a href=\"https://colab.research.google.com/github/Duke-CNRI/python-intro/blob/main/lectures/lecture_2_python_basics.ipynb\" target=\"_parent\"><img src=\"https://colab.research.google.com/assets/colab-badge.svg\" alt=\"Open In Colab\"/></a>"
      ]
    },
    {
      "cell_type": "markdown",
      "metadata": {
        "id": "3No6YvB9Azv9"
      },
      "source": [
        "#Class 2: Variables, Data Types, Control Flow, Galore!\n",
        "\n",
        "Created by Raphael Geddert, edited by Abby Hsiung\n"
      ]
    },
    {
      "cell_type": "markdown",
      "metadata": {
        "id": "RnFjraZJDIBO"
      },
      "source": [
        "\n",
        "Welcome to week 2 of the CNRI Python and programming introductory course! Today's course will cover variables, evaluations, and control flow. Let's get started!"
      ]
    },
    {
      "cell_type": "markdown",
      "metadata": {
        "id": "stlLy_ws5Ab8"
      },
      "source": [
        "### Objective:\n",
        "\n",
        "To learn the foundational elements of Python, including variables and data types.\n",
        "To learn the basic structure for communicating instructions through Python. \n",
        "\n",
        "### Learning Outcomes:\n",
        "- What is a variable and how do we define them?\n",
        "- Explore the different types of variables and why variable specification matters\n",
        "- Get familiar with the concept of Booleans and conditionality\n",
        "\n",
        "### Homework:\n",
        "- Finish reviewing this Notebook"
      ]
    },
    {
      "cell_type": "markdown",
      "metadata": {
        "id": "xC36huBHEZ-8"
      },
      "source": [
        "-------------"
      ]
    },
    {
      "cell_type": "markdown",
      "metadata": {
        "id": "oZHeqwIXEh6V"
      },
      "source": [
        "## Introduction to Variables"
      ]
    },
    {
      "cell_type": "markdown",
      "metadata": {
        "id": "dTncNUlN4QUm"
      },
      "source": [
        "Any program, such as a social media website, a phone application, or an online video game, needs to work with and store information. This information might be images, text, numbers, and much more.\n",
        "\n",
        "**Variables** are used to store this information. A variable is a \"named storage\" for data. Below are three examples, one variable called `x` that contains an integer, and another variable called `y` that contains a number with a decimal, and a variable called `z` that contains some text."
      ]
    },
    {
      "cell_type": "code",
      "metadata": {
        "id": "7FgBMFVK3LF_",
        "colab": {
          "base_uri": "https://localhost:8080/"
        },
        "outputId": "4b8cd265-e48f-40f4-a11d-8ded38607a67"
      },
      "source": [
        "x = 2021\n",
        "y = 2.0\n",
        "z = \"CNRI\"\n",
        "print(x)\n",
        "print(y)\n",
        "print(z)"
      ],
      "execution_count": null,
      "outputs": [
        {
          "output_type": "stream",
          "name": "stdout",
          "text": [
            "2021\n",
            "2.0\n",
            "CNRI\n"
          ]
        }
      ]
    },
    {
      "cell_type": "code",
      "metadata": {
        "colab": {
          "base_uri": "https://localhost:8080/"
        },
        "id": "OjwD6ynK3xBJ",
        "outputId": "cff78c3a-0e42-472b-ecd5-74d77c0d764a"
      },
      "source": [
        "b = 12\n",
        "print(b)"
      ],
      "execution_count": null,
      "outputs": [
        {
          "output_type": "stream",
          "name": "stdout",
          "text": [
            "12\n"
          ]
        }
      ]
    },
    {
      "cell_type": "markdown",
      "metadata": {
        "id": "Cb_GCVNC5cQF"
      },
      "source": [
        "A variable gets created the moment you first assign a value to it. All variables have a certain *type*, that indicates what kind of data that is being stored in it. The data types in the example above are an int (for integers), a float (for numbers with decimals), and a string (for text)."
      ]
    },
    {
      "cell_type": "code",
      "metadata": {
        "id": "7zOLqnDL4DAt",
        "colab": {
          "base_uri": "https://localhost:8080/"
        },
        "outputId": "736bf190-b565-417f-9bce-82082d59278b"
      },
      "source": [
        "print(type(x))\n",
        "print(type(y))\n",
        "print(type(z))"
      ],
      "execution_count": null,
      "outputs": [
        {
          "output_type": "stream",
          "name": "stdout",
          "text": [
            "<class 'int'>\n",
            "<class 'float'>\n",
            "<class 'str'>\n"
          ]
        }
      ]
    },
    {
      "cell_type": "markdown",
      "metadata": {
        "id": "krOv6XfK4PDR"
      },
      "source": [
        "Variables do not need to be declared as any particular type ahead of time; this is done automatically. If you give the variable a new value of a different type, the type will automatically change as well."
      ]
    },
    {
      "cell_type": "code",
      "metadata": {
        "id": "VcG4SuWB9vVN",
        "colab": {
          "base_uri": "https://localhost:8080/"
        },
        "outputId": "46f51b3d-7c3a-428a-a9e7-f19593da1f1f"
      },
      "source": [
        "x = 5 # x is type int\n",
        "print(x)\n",
        "print(type(x))\n",
        "x = \"Hello world\" # x is now type str\n",
        "print(x)\n",
        "print(type(x))"
      ],
      "execution_count": null,
      "outputs": [
        {
          "output_type": "stream",
          "name": "stdout",
          "text": [
            "5\n",
            "<class 'int'>\n",
            "Hello world\n",
            "<class 'str'>\n"
          ]
        }
      ]
    },
    {
      "cell_type": "markdown",
      "metadata": {
        "id": "w3HSyE3JRkaF"
      },
      "source": [
        "You can also force a variable to take on a certain type using a technique called **casting**. To cast a variable, we use built-in python functions to change the type of the variable."
      ]
    },
    {
      "cell_type": "code",
      "metadata": {
        "id": "INyHeq-pRwP0",
        "colab": {
          "base_uri": "https://localhost:8080/"
        },
        "outputId": "8aa778e7-62b2-49e3-9bfb-80798a3e20fc"
      },
      "source": [
        "x = 3\n",
        "y = str(3) #cast to string\n",
        "z = float(3) #cast to float\n",
        "print(x)\n",
        "print(type(x))\n",
        "print(y)\n",
        "print(type(y))\n",
        "print(z)\n",
        "print(type(z))"
      ],
      "execution_count": null,
      "outputs": [
        {
          "output_type": "stream",
          "name": "stdout",
          "text": [
            "3\n",
            "<class 'int'>\n",
            "3\n",
            "<class 'str'>\n",
            "3.0\n",
            "<class 'float'>\n"
          ]
        }
      ]
    },
    {
      "cell_type": "markdown",
      "metadata": {
        "id": "93RUtoCsqJ0x"
      },
      "source": [
        "Be careful, however, not all type conversions are valid. For example, if we try to run this next cell, what do we imagine we will get?\n",
        "\n",
        "---\n",
        "\n"
      ]
    },
    {
      "cell_type": "code",
      "metadata": {
        "id": "_NypQj_7qSwn",
        "colab": {
          "base_uri": "https://localhost:8080/",
          "height": 162
        },
        "outputId": "493fd540-8d9d-48cb-8ea4-47e2e8aa0039"
      },
      "source": [
        "print(float('John'))"
      ],
      "execution_count": null,
      "outputs": [
        {
          "output_type": "error",
          "ename": "ValueError",
          "evalue": "ignored",
          "traceback": [
            "\u001b[0;31m---------------------------------------------------------------------------\u001b[0m",
            "\u001b[0;31mValueError\u001b[0m                                Traceback (most recent call last)",
            "\u001b[0;32m<ipython-input-7-9e387cf15c5b>\u001b[0m in \u001b[0;36m<module>\u001b[0;34m()\u001b[0m\n\u001b[0;32m----> 1\u001b[0;31m \u001b[0mprint\u001b[0m\u001b[0;34m(\u001b[0m\u001b[0mfloat\u001b[0m\u001b[0;34m(\u001b[0m\u001b[0;34m'John'\u001b[0m\u001b[0;34m)\u001b[0m\u001b[0;34m)\u001b[0m\u001b[0;34m\u001b[0m\u001b[0;34m\u001b[0m\u001b[0m\n\u001b[0m",
            "\u001b[0;31mValueError\u001b[0m: could not convert string to float: 'John'"
          ]
        }
      ]
    },
    {
      "cell_type": "markdown",
      "metadata": {
        "id": "9CT4s6Hk799s"
      },
      "source": [
        "_**A super cool feature of Google Colab, is that it's here to help you with potential errors you might experience as you get into coding. Click on the button above, where does it take you?_"
      ]
    },
    {
      "cell_type": "markdown",
      "metadata": {
        "id": "TXRzHnkdqmGD"
      },
      "source": [
        "You also need to be careful about *losing* information while casting. For example, the int() function will drop any decimal points given to it."
      ]
    },
    {
      "cell_type": "code",
      "metadata": {
        "id": "R4WaV1RXqs75",
        "colab": {
          "base_uri": "https://localhost:8080/"
        },
        "outputId": "a5f60748-8a7d-4576-bcb0-5bdc7b4fed4e"
      },
      "source": [
        "print(float(3.14159))\n",
        "print(str(3.14159))\n",
        "print(int(3.14159))"
      ],
      "execution_count": null,
      "outputs": [
        {
          "output_type": "stream",
          "name": "stdout",
          "text": [
            "3.14159\n",
            "3.14159\n",
            "3\n"
          ]
        }
      ]
    },
    {
      "cell_type": "markdown",
      "metadata": {
        "id": "4psL5ekKOXpF"
      },
      "source": [
        "You can also assign multiple variables at a time, or set one variable equal to another. If you change one of the variables, however, the other will remain the same. \n",
        "\n",
        "---\n",
        "**What might be an instance in an experiment where you would want to change a variable?**\n",
        "\n",
        "---"
      ]
    },
    {
      "cell_type": "code",
      "metadata": {
        "id": "RZUWtCCrOegt",
        "colab": {
          "base_uri": "https://localhost:8080/"
        },
        "outputId": "84e418cd-c7b8-4fca-bc8b-7fd7cc7704d6"
      },
      "source": [
        "x, y = 1, 2\n",
        "z = x\n",
        "x = x + 2\n",
        "print(x)\n",
        "print(y)\n",
        "print(z)\n",
        "print('Blast off!')"
      ],
      "execution_count": null,
      "outputs": [
        {
          "output_type": "stream",
          "name": "stdout",
          "text": [
            "3\n",
            "2\n",
            "1\n",
            "Blast off!\n"
          ]
        }
      ]
    },
    {
      "cell_type": "markdown",
      "metadata": {
        "id": "DhmPUJMu9ARA"
      },
      "source": [
        "Note: this is not always the case with more complicated data types, such as sets, dictionaries, and lists, which you will learn about later.\n",
        "\n",
        "\n",
        "_This is a very cool and powerful part of Python but can also cause some confusion if you are building a system that continually overwrites or changes variables. Something to keep in mind as you start to think about how to use pieces of code to build an entire script._"
      ]
    },
    {
      "cell_type": "markdown",
      "metadata": {
        "id": "-3QGf-_aJl3t"
      },
      "source": [
        "**Variable Naming**<br>\n",
        "Variables can be named anything, as long as they obey certain rules. These rules are:\n",
        "*   A variable name must start with a letter or an underscore (_)\n",
        "*   Variable names cannot start with a number\n",
        "*   Variable names can only contain alpha-numeric characters and underscores"
      ]
    },
    {
      "cell_type": "markdown",
      "metadata": {
        "id": "vOkw4xNZMV3E"
      },
      "source": [
        "Variables are also case sensitive. If a new variable has different capital letters than an old variable, a new variable will be created instead of overwriting the old one."
      ]
    },
    {
      "cell_type": "code",
      "metadata": {
        "id": "DJeLqpcIMa7M",
        "colab": {
          "base_uri": "https://localhost:8080/"
        },
        "outputId": "e1b72c24-c015-4cec-fcfe-5ccf342d34c6"
      },
      "source": [
        "var = 5\n",
        "VAR = 10\n",
        "VaR = \"see?\"\n",
        "print(var)\n",
        "print(VAR)\n",
        "print(VaR)"
      ],
      "execution_count": null,
      "outputs": [
        {
          "output_type": "stream",
          "name": "stdout",
          "text": [
            "5\n",
            "10\n",
            "see?\n"
          ]
        }
      ]
    },
    {
      "cell_type": "markdown",
      "metadata": {
        "id": "IOd775pVNdnt"
      },
      "source": [
        "The most common variable naming conventions are \"camel case\" and \"snake case\". `thisIsCamelCase` and `this_is_snake_case`. Use whichever one you prefer!"
      ]
    },
    {
      "cell_type": "markdown",
      "metadata": {
        "id": "yCBwYcm-Lq5g"
      },
      "source": [
        "###Exercise 1\n",
        "Comment out the invalid variable names below (add a # at the beginning of the line). Think carefully and try to get it right on the first try!\n",
        "<br>**Hint:** There are 5 valid variable names."
      ]
    },
    {
      "cell_type": "code",
      "metadata": {
        "id": "AnwFO0PYKLFt",
        "colab": {
          "base_uri": "https://localhost:8080/"
        },
        "outputId": "44ed29ab-5239-4246-987f-5a34406c4365"
      },
      "source": [
        "#Comment out the invalid lines below!\n",
        "myName = \"Raphael\"\n",
        "#my name = \"Raphael\"\n",
        "#my-name = \"Raphael\"\n",
        "_my_name_with_underscores_ =\"Raphael\"\n",
        "#my*name_with@symbols& = \"Raphael\"\n",
        "_________ = \"Raphael\"\n",
        "____ = 'Abby'\n",
        "MyNaMe = \"Raphael\"\n",
        "myAge = 26\n",
        "#26age = 26\n",
        "print(____, _________)\n",
        "print(\"Correct!\")"
      ],
      "execution_count": null,
      "outputs": [
        {
          "output_type": "stream",
          "name": "stdout",
          "text": [
            "Abby Raphael\n",
            "Correct!\n"
          ]
        }
      ]
    },
    {
      "cell_type": "markdown",
      "metadata": {
        "id": "17ofpbdqGwVt"
      },
      "source": [
        "## Data Types"
      ]
    },
    {
      "cell_type": "markdown",
      "metadata": {
        "id": "hMtWCptuAXq9"
      },
      "source": [
        "There are many different kinds of data types. Python's data types include:\n",
        "*   strings\n",
        "*   integers\n",
        "*   floats\n",
        "*   booleans\n",
        "*   lists\n",
        "*   ranges\n",
        "*   dicts\n",
        "*   tuples\n",
        "\n",
        "and many others! For a complete list, visit https://www.w3schools.com/python/python_datatypes.asp.\n",
        "\n",
        "Today we will be focusing on four common data types: strings, integers, floats, and booleans.\n"
      ]
    },
    {
      "cell_type": "markdown",
      "metadata": {
        "id": "q_JTYRz0JXC1"
      },
      "source": [
        "### **Strings**\n",
        "<br> Strings are used to store text. They can be surrounded by either single or double quotation marks.\n"
      ]
    },
    {
      "cell_type": "code",
      "metadata": {
        "id": "Li_9_BVCA60S",
        "colab": {
          "base_uri": "https://localhost:8080/"
        },
        "outputId": "e017f9b9-f2bd-41ff-b765-ac46d4fb224b"
      },
      "source": [
        "x = 'hello'\n",
        "y = \"world\"\n",
        "print(x)\n",
        "print(y)\n",
        "print(type(x))\n",
        "print(type(y))"
      ],
      "execution_count": null,
      "outputs": [
        {
          "output_type": "stream",
          "name": "stdout",
          "text": [
            "hello\n",
            "world\n",
            "<class 'str'>\n",
            "<class 'str'>\n"
          ]
        }
      ]
    },
    {
      "cell_type": "markdown",
      "metadata": {
        "id": "yaKDdTI7tRde"
      },
      "source": [
        "Strings can also span multiple lines, using three double quotes.\n"
      ]
    },
    {
      "cell_type": "code",
      "metadata": {
        "id": "LjZRfo8BtjnE",
        "colab": {
          "base_uri": "https://localhost:8080/"
        },
        "outputId": "3202c2c8-e27f-4c30-ebe3-e74c0864ad32"
      },
      "source": [
        "x = \"\"\"This string spans multiple lines,\n",
        "unlike regular strings which would\n",
        "not allow you to do this\"\"\"\n",
        "print(x)"
      ],
      "execution_count": null,
      "outputs": [
        {
          "output_type": "stream",
          "name": "stdout",
          "text": [
            "This string spans multiple lines,\n",
            "unlike regular strings which would\n",
            "not allow you to do this\n"
          ]
        }
      ]
    },
    {
      "cell_type": "markdown",
      "metadata": {
        "id": "KH4AjBeI_5pA"
      },
      "source": [
        "What happens if you try to break up a quote onto several lines without the triple quotes?"
      ]
    },
    {
      "cell_type": "code",
      "metadata": {
        "id": "caUXtDBjADsn"
      },
      "source": [
        "y = \"\"\"I want this string to also span multiple lines\n",
        "but I think that the triple quotes look weird\n",
        "so I do not want to use them!\"\"\""
      ],
      "execution_count": null,
      "outputs": []
    },
    {
      "cell_type": "markdown",
      "metadata": {
        "id": "aGacx7NWATKm"
      },
      "source": [
        "---\n",
        "**Why did this happen?**\n",
        "\n",
        "---"
      ]
    },
    {
      "cell_type": "markdown",
      "metadata": {
        "id": "h5W4AXlnt0dY"
      },
      "source": [
        "What if you want to include a quote _in_ your string? For example, if I wanted to create an app that sent me positive quotes every morning.\n",
        "\n",
        "Creating a string with a quotations mark is simple. You can always use one kind of quotations inside another, or use backslash to create an \"escape quote\", which doesn't affect the string."
      ]
    },
    {
      "cell_type": "code",
      "metadata": {
        "id": "nSSaMn0mt8w8",
        "colab": {
          "base_uri": "https://localhost:8080/"
        },
        "outputId": "950e2686-63a2-4f80-c645-232e5201bc7d"
      },
      "source": [
        "#print(\"This \"wont\" work. Comment me out!\")\n",
        "print(\"'Hello,' said Bill.\")\n",
        "print('\"Hi\", said Amy.')\n",
        "print(\"This string has both 'single' AND \\\"double\\\" quotes!\")"
      ],
      "execution_count": null,
      "outputs": [
        {
          "output_type": "stream",
          "name": "stdout",
          "text": [
            "'Hello,' said Bill.\n",
            "\"Hi\", said Amy.\n",
            "This string has both 'single' AND \"double\" quotes!\n"
          ]
        }
      ]
    },
    {
      "cell_type": "markdown",
      "metadata": {
        "id": "odv3ZZQKucro"
      },
      "source": [
        "We can also get the length of a string using the Python built-in `len()` function."
      ]
    },
    {
      "cell_type": "code",
      "metadata": {
        "id": "-kER4mUyucI-"
      },
      "source": [
        "x = \"Mary had a little lamb\"\n",
        "print(len(x))"
      ],
      "execution_count": null,
      "outputs": []
    },
    {
      "cell_type": "markdown",
      "metadata": {
        "id": "DbGyxFtaA-B9"
      },
      "source": [
        "Question, are spaces counted in the length function? How could you figure this out (don't say counting)? "
      ]
    },
    {
      "cell_type": "markdown",
      "metadata": {
        "id": "usEppy0jxFx3"
      },
      "source": [
        "You will learn about lists and arrays another week, but it is possible to **index** each letter in a string by using square brackets.<br>\n",
        "Note: the first element of the string is indexed with a 0, not a 1! You will learn more about this later."
      ]
    },
    {
      "cell_type": "code",
      "metadata": {
        "id": "2hV8N4crxFWk"
      },
      "source": [
        "x = \"Happy holidays!\"\n",
        "print(x[0])\n",
        "print(x[10])\n",
        "print(x[-1]) # indexing can be done backwards and forwards! Positive numbers index left to right, negative numbers index right to left"
      ],
      "execution_count": null,
      "outputs": []
    },
    {
      "cell_type": "markdown",
      "metadata": {
        "id": "m0o85dSXkeH7"
      },
      "source": [
        "###Exercise 2\n",
        "In the code block below, write code to print out the following quote, using only a single variable and print statement.\n",
        "\n",
        "> \"Programming isn't about what you know; <br>\n",
        "> it's about what you can figure out.\" <br>\n",
        "> \\- Chris Pine (not the actor) \n",
        "\n",
        "Don't forget to include both the double and single quotes!"
      ]
    },
    {
      "cell_type": "code",
      "metadata": {
        "id": "MVKwpbL4kdjD",
        "colab": {
          "base_uri": "https://localhost:8080/"
        },
        "outputId": "146dc1ba-a616-4f2f-a52f-3fb9b049b79b"
      },
      "source": [
        "#write your code here\n",
        "print ('''\"Programming isn\\'t about what you know;\n",
        "it\\'s about what you can figure out.\"\n",
        "- Chris Pine (not the actor)''')"
      ],
      "execution_count": null,
      "outputs": [
        {
          "output_type": "stream",
          "name": "stdout",
          "text": [
            "\"Programming isn't about what you know;\n",
            "it's about what you can figure out.\"\n",
            "- Chris Pine (not the actor)\n"
          ]
        }
      ]
    },
    {
      "cell_type": "markdown",
      "metadata": {
        "id": "YMtIyypzi8Dq"
      },
      "source": [
        "### **Integers and Floats**\n",
        "<br> Integers and floats are used to store integers and numbers with decimal points, respectively."
      ]
    },
    {
      "cell_type": "code",
      "metadata": {
        "id": "kN2R3WG4jFhP"
      },
      "source": [
        "x = 5\n",
        "y = 5.0\n",
        "print(type(x))\n",
        "print(type(y))"
      ],
      "execution_count": null,
      "outputs": []
    },
    {
      "cell_type": "markdown",
      "metadata": {
        "id": "kPrjcpVLmmt7"
      },
      "source": [
        "Floats can also be scientific numbers with an \"e\" to indicate powers of 10."
      ]
    },
    {
      "cell_type": "code",
      "metadata": {
        "id": "gGZ3a8YymrcS"
      },
      "source": [
        "x = 28e3\n",
        "y = 10e-1\n",
        "z = -123.23e100\n",
        "\n",
        "print(x)\n",
        "print(y)\n",
        "print(z)\n",
        "print(type(x))\n",
        "print(type(y))\n",
        "print(type(z))"
      ],
      "execution_count": null,
      "outputs": []
    },
    {
      "cell_type": "markdown",
      "metadata": {
        "id": "LQhSe2dyvGwB"
      },
      "source": [
        "When combining two variables, if one is an integer and the other a float, the result will always also be a float."
      ]
    },
    {
      "cell_type": "code",
      "metadata": {
        "id": "BQhs0WuLu9-R"
      },
      "source": [
        "x = 5\n",
        "y = 1.0\n",
        "z = x + y\n",
        "print(z)\n",
        "print(type(z))"
      ],
      "execution_count": null,
      "outputs": []
    },
    {
      "cell_type": "markdown",
      "metadata": {
        "id": "xyiacGe71BOt"
      },
      "source": [
        "### **Booleans**\n",
        "<br> This is probably the most unfamiliar concept to new programmers. Taking some time to get used to how Booleans function and how we use them might take a bit more time. \n",
        "\n",
        "In programming it is often useful to know if an expression is `True` or `False`. You can evaluate any expression in Python and get one of two answers, `True` or `False`."
      ]
    },
    {
      "cell_type": "code",
      "metadata": {
        "id": "5V7FMtOa1QpL"
      },
      "source": [
        "print(10 > 9)\n",
        "print(10 < 9)"
      ],
      "execution_count": null,
      "outputs": []
    },
    {
      "cell_type": "markdown",
      "metadata": {
        "id": "Rwr8avBl1U8U"
      },
      "source": [
        "A boolean is just another kind of variable whose value happens to be `True` or `False`."
      ]
    },
    {
      "cell_type": "markdown",
      "metadata": {
        "id": "Y28GNi8jDpa0"
      },
      "source": [
        "\n",
        "---\n",
        "**Under what circusmtances would we want a Boolean variable in our experiment?** \n",
        "\n",
        "---"
      ]
    },
    {
      "cell_type": "code",
      "metadata": {
        "id": "hyHMcbP61cTl"
      },
      "source": [
        "x = True\n",
        "y = 10 > 9\n",
        "print(type(x))\n",
        "print(type(y))"
      ],
      "execution_count": null,
      "outputs": []
    },
    {
      "cell_type": "markdown",
      "metadata": {
        "id": "jHpunNiB1nlb"
      },
      "source": [
        "It is even possible to evaluate whether or not an integer or string is `True` or `False`. This is sometimes done to determine if a string is empty or not, or if a number is 0 or not. "
      ]
    },
    {
      "cell_type": "code",
      "metadata": {
        "id": "bTfApQ8t1l8s"
      },
      "source": [
        "print(bool(\"Hello\"))\n",
        "print(bool(\"\"))\n",
        "print(bool(10))\n",
        "print(bool(0))"
      ],
      "execution_count": null,
      "outputs": []
    },
    {
      "cell_type": "markdown",
      "metadata": {
        "id": "IDRQRZlnD8Ef"
      },
      "source": [
        "---\n",
        "**Why might we want some way of evaluating a variable like this in our experiment?**\n",
        "\n",
        "---"
      ]
    },
    {
      "cell_type": "markdown",
      "metadata": {
        "id": "SDPYEr-cniZV"
      },
      "source": [
        "Almost all values evaluate as True, as long as they have some sort of content. The exceptions are empty lists and similar data types, the number 0, and the value `None`."
      ]
    },
    {
      "cell_type": "code",
      "metadata": {
        "id": "BWKmHB7tnzdR"
      },
      "source": [
        "print(bool(False))\n",
        "print(bool(None))\n",
        "print(bool(0))\n",
        "print(bool(\"\"))\n",
        "print(bool(()))\n",
        "print(bool([]))\n",
        "print(bool({}))"
      ],
      "execution_count": null,
      "outputs": []
    },
    {
      "cell_type": "markdown",
      "metadata": {
        "id": "0xBNg-O3ET6T"
      },
      "source": [
        "---\n",
        "**What is the difference between a variable that is a Boolean and the `bool()` evaluator seen above?**\n",
        "\n",
        "---"
      ]
    },
    {
      "cell_type": "markdown",
      "metadata": {
        "id": "XA-lCyFNoPCw"
      },
      "source": [
        "**Checking data types** <br>\n",
        "One way to check the data type of a variable is with the built-in `isinstance()` Python function. The `isinstance()` function returns `True` or `False` if the variable is of that data type."
      ]
    },
    {
      "cell_type": "code",
      "metadata": {
        "id": "BzDj8fQbpxRb"
      },
      "source": [
        "x = 100\n",
        "print(isinstance(x, int))\n",
        "y = 3.0\n",
        "print(isinstance(y, float))\n",
        "z = \"hello\"\n",
        "print(isinstance(y, bool))"
      ],
      "execution_count": null,
      "outputs": []
    },
    {
      "cell_type": "markdown",
      "metadata": {
        "id": "WthPj18BjilX"
      },
      "source": [
        "##Operators"
      ]
    },
    {
      "cell_type": "markdown",
      "metadata": {
        "id": "hiTxGiWJjkZa"
      },
      "source": [
        "Now that we have learned how to create variables, let's learn how to manipulate them. Operators are used to perform operations on variables and values."
      ]
    },
    {
      "cell_type": "markdown",
      "metadata": {
        "id": "UYvVQQ2Hlv6j"
      },
      "source": [
        "**Arithmetic operators** are used to perform common mathematical operations. Try manipulating `x` and `y` below to see how each operation behaves."
      ]
    },
    {
      "cell_type": "code",
      "metadata": {
        "id": "uBrUPZyIjxQM"
      },
      "source": [
        "x = \n",
        "y = \n",
        "print(x + y) #addition\n",
        "print(x - y) #subtraction\n",
        "print(x * y) #multiplication\n",
        "print(x / y) #division\n",
        "print(x ** y) #exponentiation\n",
        "print(x % y) #remainder after division\n",
        "print(x // y) #floor division (rounds down)"
      ],
      "execution_count": null,
      "outputs": []
    },
    {
      "cell_type": "markdown",
      "metadata": {
        "id": "wI6f9SQFvhMB"
      },
      "source": [
        "The **+** operator can also be used to combine strings together."
      ]
    },
    {
      "cell_type": "code",
      "metadata": {
        "id": "9hjusuZtvgd_"
      },
      "source": [
        "x = \"I love \"\n",
        "y = \"Cognitive Neuroscience!\"\n",
        "print(x + y)"
      ],
      "execution_count": null,
      "outputs": []
    },
    {
      "cell_type": "markdown",
      "metadata": {
        "id": "gEuOKVDvvwig"
      },
      "source": [
        "What happens when you try and combine different data types?"
      ]
    },
    {
      "cell_type": "code",
      "metadata": {
        "id": "5b_L6osLqO8b",
        "colab": {
          "base_uri": "https://localhost:8080/",
          "height": 232
        },
        "outputId": "c057fdf8-f335-4ebd-f301-b273fb73f68c"
      },
      "source": [
        "x = 7\n",
        "y = \" days in a week\"\n",
        "print(x + y)"
      ],
      "execution_count": null,
      "outputs": [
        {
          "output_type": "error",
          "ename": "TypeError",
          "evalue": "ignored",
          "traceback": [
            "\u001b[0;31m---------------------------------------------------------------------------\u001b[0m",
            "\u001b[0;31mTypeError\u001b[0m                                 Traceback (most recent call last)",
            "\u001b[0;32m<ipython-input-9-df4a912a34e6>\u001b[0m in \u001b[0;36m<module>\u001b[0;34m()\u001b[0m\n\u001b[1;32m      1\u001b[0m \u001b[0mx\u001b[0m \u001b[0;34m=\u001b[0m \u001b[0;36m7\u001b[0m\u001b[0;34m\u001b[0m\u001b[0;34m\u001b[0m\u001b[0m\n\u001b[1;32m      2\u001b[0m \u001b[0my\u001b[0m \u001b[0;34m=\u001b[0m \u001b[0;34m\" days in a week\"\u001b[0m\u001b[0;34m\u001b[0m\u001b[0;34m\u001b[0m\u001b[0m\n\u001b[0;32m----> 3\u001b[0;31m \u001b[0mprint\u001b[0m\u001b[0;34m(\u001b[0m\u001b[0mx\u001b[0m \u001b[0;34m+\u001b[0m \u001b[0my\u001b[0m\u001b[0;34m)\u001b[0m\u001b[0;34m\u001b[0m\u001b[0;34m\u001b[0m\u001b[0m\n\u001b[0m",
            "\u001b[0;31mTypeError\u001b[0m: unsupported operand type(s) for +: 'int' and 'str'"
          ]
        }
      ]
    },
    {
      "cell_type": "markdown",
      "metadata": {
        "id": "Movn9_39E6rM"
      },
      "source": [
        "What happens when you try and combine compatiable data types but with, different operators? "
      ]
    },
    {
      "cell_type": "code",
      "metadata": {
        "id": "CIkKyfr0FT8-"
      },
      "source": [
        "a = 'I love learning Python'\n",
        "b = 'Computer Programming'\n",
        "\n",
        "print(a - b)"
      ],
      "execution_count": null,
      "outputs": []
    },
    {
      "cell_type": "markdown",
      "metadata": {
        "id": "QgsWRl3WF7Uq"
      },
      "source": [
        "---\n",
        "**Why might we want to combine strings in an experiment?**\n",
        "\n",
        "---"
      ]
    },
    {
      "cell_type": "markdown",
      "metadata": {
        "id": "8rcmkBm6wFqu"
      },
      "source": [
        "###Exercise 3\n",
        "How would you use casting to fix the code below?"
      ]
    },
    {
      "cell_type": "code",
      "metadata": {
        "id": "mWlGz00Cv2PJ"
      },
      "source": [
        "x = \"Katy is \"\n",
        "y = 10\n",
        "z = \" years old.\"\n",
        "print(x + y + z)"
      ],
      "execution_count": null,
      "outputs": []
    },
    {
      "cell_type": "markdown",
      "metadata": {
        "id": "i1hnZTnOn3Iy"
      },
      "source": [
        "**Assignment Operators** are shorthands used to quickly update the values of variables. They include:\n",
        "\n",
        "Operator | Same As\n",
        "-------- | --------\n",
        "x += 5 | x = x + 5\n",
        "x -= 5 | x = x - 5\n",
        "x *= 5 | x = x * 5\n",
        "x /= 5 | x = x / 5\n",
        "x **= 5 | x = x ** 5\n",
        "\n",
        "\n",
        "\n"
      ]
    },
    {
      "cell_type": "code",
      "metadata": {
        "id": "UD3dRqxIoFYg"
      },
      "source": [
        "x = 5\n",
        "x += 10\n",
        "print(x)\n",
        "\n",
        "y = 5\n",
        "y *= 10\n",
        "print(y)"
      ],
      "execution_count": null,
      "outputs": []
    },
    {
      "cell_type": "markdown",
      "metadata": {
        "id": "UiQBmxkVqg7E"
      },
      "source": [
        "In particular, x+=1 is often used in `for` and `while` loops, which you will learn about next week."
      ]
    },
    {
      "cell_type": "markdown",
      "metadata": {
        "id": "joJoyCHppg5l"
      },
      "source": [
        "**Comparison Operators** are used to compare two values, and return a boolean."
      ]
    },
    {
      "cell_type": "code",
      "metadata": {
        "id": "XsAcZe002639"
      },
      "source": [
        "x = \n",
        "y = \n",
        "print(x == y) #equal\n",
        "print(x != y) #not equal\n",
        "print(x > y) #greater than\n",
        "print(x < y) #less than\n",
        "print(x >= y) #greater than or equal to\n",
        "print(x <= y) # less than or equal to"
      ],
      "execution_count": null,
      "outputs": []
    },
    {
      "cell_type": "markdown",
      "metadata": {
        "id": "C88ahQQz3Xd5"
      },
      "source": [
        "Finally, **logical operators** are used to combine **conditional statements** (which we will expand upon below). \n",
        "\n",
        "The logical operators are `and`, `or`, and `not`. "
      ]
    },
    {
      "cell_type": "code",
      "metadata": {
        "id": "hZHl19av34rE"
      },
      "source": [
        "# and returns True if both statements are True\n",
        "print(True and True)\n",
        "print(True and False)\n",
        "# or returns True if either statement is True\n",
        "print(True or False)\n",
        "print(False or False)\n",
        "# not changes True to False and False to True\n",
        "print(not True)\n",
        "print(not False)"
      ],
      "execution_count": null,
      "outputs": []
    },
    {
      "cell_type": "markdown",
      "metadata": {
        "id": "iCpQw41l35Go"
      },
      "source": [
        "All of these operators can be combined to create complicated conditional expressions. Parantheses are used to organize groups within these expression. For example: `((_____ or ______) or (_____ and ______))` returns a single boolean `True` or `False`."
      ]
    },
    {
      "cell_type": "code",
      "metadata": {
        "id": "sPnhhR0l3XIh"
      },
      "source": [
        "a = 4\n",
        "b = 5\n",
        "c = 8\n",
        "d = 10\n",
        "print(a + b < c or (d%c == c/a and d > a))\n",
        "\n",
        "# What is going on here? "
      ],
      "execution_count": null,
      "outputs": []
    },
    {
      "cell_type": "markdown",
      "metadata": {
        "id": "-NudojJy5B4r"
      },
      "source": [
        "###Exercise 4\n",
        "Fill in the following code to make the expression evaluate as `True`.\n",
        "\n",
        "Don't change the numbers, only the different operators available to you!"
      ]
    },
    {
      "cell_type": "code",
      "metadata": {
        "id": "kr9Aup_E5HCT"
      },
      "source": [
        "x = 2\n",
        "y = 4\n",
        "z = 5\n",
        "print((z ... y < x and x ... y) and (z < y ... z < x * y))"
      ],
      "execution_count": null,
      "outputs": []
    },
    {
      "cell_type": "markdown",
      "metadata": {
        "id": "iw_foqR46JcT"
      },
      "source": [
        "##Control Flow\n"
      ]
    },
    {
      "cell_type": "markdown",
      "metadata": {
        "id": "_Jow-RxdF2ow"
      },
      "source": [
        "### **If Statements** \n",
        "\n",
        "<br> When programming, one of the most important things we can do is to change what we are doing based on some *condition*. This is known as **control flow**. The most common kind of control flow is called an `if` statement.\n",
        "\n",
        "---\n",
        "**What are some examples of uses of control flow that you can think of?**\n",
        "\n",
        "**Where might we use if statements in our experiments?**\n",
        "\n",
        "---"
      ]
    },
    {
      "cell_type": "code",
      "metadata": {
        "id": "Nh2vMTdy6ieM"
      },
      "source": [
        "x = 8\n",
        "if x > 9:\n",
        "  print('x is greater than 9')\n",
        "else:\n",
        "  print('x is not greater than 9')"
      ],
      "execution_count": null,
      "outputs": []
    },
    {
      "cell_type": "markdown",
      "metadata": {
        "id": "OplX8lwhLkR2"
      },
      "source": [
        "Often times though, we might want to compare across multiple conditions not just two. How can we do that?\n",
        "\n",
        "`If` statements can be combined with `elif` and `else` blocks to give you greater control over conditions. `elif` blocks allow you to specify a new condition, and `else` blocks run if none of the above conditions are met."
      ]
    },
    {
      "cell_type": "code",
      "metadata": {
        "id": "nJWEjqb-Lz9z"
      },
      "source": [
        "x = 10\n",
        "if x > 10:\n",
        "  print('x is greater than 10')\n",
        "elif x < 10:\n",
        "  print('x is less than 10')\n",
        "else: \n",
        "  print('x is 10')"
      ],
      "execution_count": null,
      "outputs": []
    },
    {
      "cell_type": "markdown",
      "metadata": {
        "id": "A6I1JJfWKmt0"
      },
      "source": [
        "You'll notice above that you are still only making one comparison at a time. This means that the _order_ in which you specify your `If` statements is important! \n",
        "\n",
        "Think about the following example. How have we set up our conditions? Do you we think we will get the answer we want? Why or why not?"
      ]
    },
    {
      "cell_type": "code",
      "metadata": {
        "id": "4znOA4LwLCqO"
      },
      "source": [
        "x = 'apple'\n",
        "\n",
        "if 'a' in x:\n",
        "  print('x contains a')\n",
        "elif 'e' in x:\n",
        "  print('x contains e')\n",
        "elif 'apple' in x:\n",
        "  print('x contains apple')\n",
        "elif x == 'apple':\n",
        "  print('x is apple')\n",
        "else:\n",
        "  print('x has nothing to do with apples')"
      ],
      "execution_count": null,
      "outputs": []
    },
    {
      "cell_type": "markdown",
      "metadata": {
        "id": "eZlKuuGPLZK_"
      },
      "source": [
        "How can we improve the code above to get the output we want?"
      ]
    },
    {
      "cell_type": "markdown",
      "metadata": {
        "id": "Kg5EwDWLMYyG"
      },
      "source": [
        "You can also nest `if` statements inside each other. \n",
        "\n",
        "Review the following code. What are the operations going on here? What will this code output if run as is?"
      ]
    },
    {
      "cell_type": "code",
      "metadata": {
        "id": "W7wcnbvmMcZR"
      },
      "source": [
        "x = 10\n",
        "if x > 20:\n",
        "  if x%2 == 0:\n",
        "    print('x is even')\n",
        "  else:\n",
        "    print('x is odd')\n",
        "else:\n",
        "  print('x isn\\'t large enough')"
      ],
      "execution_count": null,
      "outputs": []
    },
    {
      "cell_type": "markdown",
      "metadata": {
        "id": "d7usKFT6IDaA"
      },
      "source": [
        "Some programming languages rely on paratheses () and brackets {} to define the scope of the code. Python uses  **indentation** (white space at the beginning of a line, noted by the `tab` key). Everything that is indented belongs to the `if` statement."
      ]
    },
    {
      "cell_type": "markdown",
      "metadata": {
        "id": "DeZacpKHKp3m"
      },
      "source": [
        "###Exercise 5\n",
        "The following function will tell you if an integer is odd or even, and whether it is greater than 10. However, the code doesn't work because of incorrect indentation. Fix the indentation to make it work!"
      ]
    },
    {
      "cell_type": "code",
      "metadata": {
        "id": "Ugi8knweKoRG",
        "colab": {
          "base_uri": "https://localhost:8080/"
        },
        "outputId": "79106638-fe43-447b-9f6b-f3eb038359d5"
      },
      "source": [
        "#try the following values of x: 3, 4, 10, 11, 12, 3.0, '3', and True\n",
        "x = 3\n",
        "if isinstance(x, int):\n",
        "  if x > 10:\n",
        "    if x%2 == 0:\n",
        "      print('x is an integer, greater than 10, and even.')\n",
        "    else:\n",
        "      print('x is an integer, greater than 10, and odd.')\n",
        "  else:\n",
        "    if x%2 == 0:\n",
        "      print('x is an integer, not greater than 10, and even.')\n",
        "    else:\n",
        "      print('x is an integer, not greater than 10, and odd.')\n",
        "elif isinstance(x, str):\n",
        "  print('x is a string')\n",
        "else:\n",
        "  print('x is neither an integer or string')"
      ],
      "execution_count": null,
      "outputs": [
        {
          "output_type": "stream",
          "name": "stdout",
          "text": [
            "x is an integer, not greater than 10, and odd.\n"
          ]
        }
      ]
    },
    {
      "cell_type": "markdown",
      "metadata": {
        "id": "RQtsyDUftrmw"
      },
      "source": [
        "Finally, remember from before that we can use logical operators (`and`, `or`, and `not`) to build complicated, highly specific condition criteria."
      ]
    },
    {
      "cell_type": "code",
      "metadata": {
        "id": "xFe3SeTKttSt"
      },
      "source": [
        "x = 5.1\n",
        "if (isinstance(x, int) or isinstance(x, float)) and x > 5:\n",
        "  print('x is greater than 5')\n",
        "elif isinstance(x, str) and not len(x) <= 10:\n",
        "  print('x has more than 10 characters')\n",
        "else:\n",
        "  print(\"Isn't programming fun?!\")"
      ],
      "execution_count": null,
      "outputs": []
    },
    {
      "cell_type": "markdown",
      "metadata": {
        "id": "SIYF-N23O3Lm"
      },
      "source": [
        "## Your Turn\n",
        "Now it your turn to put everything we have learned together. "
      ]
    },
    {
      "cell_type": "markdown",
      "metadata": {
        "id": "jMHXgp5OzQrN"
      },
      "source": [
        "###Exercise 6\n",
        "Build a nested if statement that does the following:\n",
        "- If the variable is an integer or float, then if it has more 5 numbers in it (**Hint:** how can you use casting and `len()` to check this?), then divide the number by 2, square the result, and the print out the following: `\"The result is: ___\" - Ashley`. If it doesn't have more than 5 numbers in it, increment it by 1 using an assignment operator and then print out: `\"Whoops, ___ is too small!\" - Bob`\n",
        "- If the variable is a string and its length is greater than 10, then if the first letter in the string is an 'A', print out `\"It's an A!\" - Charlie`. if the first letter is not an 'A', print out the entire string followed by the last character 3 times (if the string is `\"happy\"`, print out `happyyyy`).\n",
        "- If none of the above conditions apply, print out: `\"Well, we tried!\" - Daniela`."
      ]
    },
    {
      "cell_type": "code",
      "metadata": {
        "id": "svHpA8ByOmQK",
        "colab": {
          "base_uri": "https://localhost:8080/",
          "height": 232
        },
        "outputId": "14a2ebd7-7847-4070-d561-7cc819eaefac"
      },
      "source": [
        "#Write your function here!\n",
        "x = \"Alphabetical order\"\n",
        "if (isinstance(x, int) or isinstance(x, str)):\n",
        "  if len(str(x)) >= 5:\n",
        "    print('\"The result is: ' + str((x/2)**2) + '\" - Ashley')\n",
        "  else:\n",
        "    x = 1\n",
        "    print('\"Whoops,\"' + str(x) + '\"is too small! - Bob\"')\n",
        "elif type(x) == str:\n",
        "  if len(x) > 10:\n",
        "    if x[0] == 'A':\n",
        "      print('\"It\\'s an A!\" - Charlie')\n",
        "    else:\n",
        "      print(str(x) + str(x[-1]) + str(x[-1]) + str(x[-1]))\n",
        "else:\n",
        "    print('\"Well, we tried!\" - Daniela')"
      ],
      "execution_count": null,
      "outputs": [
        {
          "output_type": "error",
          "ename": "TypeError",
          "evalue": "ignored",
          "traceback": [
            "\u001b[0;31m---------------------------------------------------------------------------\u001b[0m",
            "\u001b[0;31mTypeError\u001b[0m                                 Traceback (most recent call last)",
            "\u001b[0;32m<ipython-input-3-32476248c8a4>\u001b[0m in \u001b[0;36m<module>\u001b[0;34m()\u001b[0m\n\u001b[1;32m      3\u001b[0m \u001b[0;32mif\u001b[0m \u001b[0;34m(\u001b[0m\u001b[0misinstance\u001b[0m\u001b[0;34m(\u001b[0m\u001b[0mx\u001b[0m\u001b[0;34m,\u001b[0m \u001b[0mint\u001b[0m\u001b[0;34m)\u001b[0m \u001b[0;32mor\u001b[0m \u001b[0misinstance\u001b[0m\u001b[0;34m(\u001b[0m\u001b[0mx\u001b[0m\u001b[0;34m,\u001b[0m \u001b[0mstr\u001b[0m\u001b[0;34m)\u001b[0m\u001b[0;34m)\u001b[0m\u001b[0;34m:\u001b[0m\u001b[0;34m\u001b[0m\u001b[0;34m\u001b[0m\u001b[0m\n\u001b[1;32m      4\u001b[0m   \u001b[0;32mif\u001b[0m \u001b[0mlen\u001b[0m\u001b[0;34m(\u001b[0m\u001b[0mstr\u001b[0m\u001b[0;34m(\u001b[0m\u001b[0mx\u001b[0m\u001b[0;34m)\u001b[0m\u001b[0;34m)\u001b[0m \u001b[0;34m>=\u001b[0m \u001b[0;36m5\u001b[0m\u001b[0;34m:\u001b[0m\u001b[0;34m\u001b[0m\u001b[0;34m\u001b[0m\u001b[0m\n\u001b[0;32m----> 5\u001b[0;31m     \u001b[0mprint\u001b[0m\u001b[0;34m(\u001b[0m\u001b[0;34m'\"The result is: '\u001b[0m \u001b[0;34m+\u001b[0m \u001b[0mstr\u001b[0m\u001b[0;34m(\u001b[0m\u001b[0;34m(\u001b[0m\u001b[0mx\u001b[0m\u001b[0;34m/\u001b[0m\u001b[0;36m2\u001b[0m\u001b[0;34m)\u001b[0m\u001b[0;34m**\u001b[0m\u001b[0;36m2\u001b[0m\u001b[0;34m)\u001b[0m \u001b[0;34m+\u001b[0m \u001b[0;34m'\" - Ashley'\u001b[0m\u001b[0;34m)\u001b[0m\u001b[0;34m\u001b[0m\u001b[0;34m\u001b[0m\u001b[0m\n\u001b[0m\u001b[1;32m      6\u001b[0m   \u001b[0;32melse\u001b[0m\u001b[0;34m:\u001b[0m\u001b[0;34m\u001b[0m\u001b[0;34m\u001b[0m\u001b[0m\n\u001b[1;32m      7\u001b[0m     \u001b[0mx\u001b[0m \u001b[0;34m=\u001b[0m \u001b[0;36m1\u001b[0m\u001b[0;34m\u001b[0m\u001b[0;34m\u001b[0m\u001b[0m\n",
            "\u001b[0;31mTypeError\u001b[0m: unsupported operand type(s) for /: 'str' and 'int'"
          ]
        }
      ]
    },
    {
      "cell_type": "markdown",
      "metadata": {
        "id": "e9aCGbwWOoiP"
      },
      "source": [
        "### Exercise 7\n",
        "\n",
        "You are running a two part study to test the effects of rewards on attention. The first part of your study involves teaching your participants different cues that represent or are associated with different reward values (e.g., 1 dollar vs. 5 dollars). In order to make sure that by the second part of your study, your subjects have _actually_ learned the reward associations, you need to verify their performance. to measure performance, you are looking at 3 factors:\n",
        "\n",
        "- Their total score on the learning test\n",
        "- Their scores for each reward condition\n",
        "- The number of trials it took them to reach learning stabilization\n",
        "\n",
        "To organize your factors, you decide that the most important part is that their total score was above a 65 on the learning test. \n",
        "\n",
        "Next, they need to have scored at least a 30 in _both_ reward conditions. \n",
        "\n",
        "Finally, if they scored above a 85, it doesn't matter how many trials they did, but if they scored below 85 but equal to or above 70, they need to have done 200 trials, and if they're below 70, they need to have done 300 trials in order to move on. \n",
        "\n",
        "Build a nested if statement to solve the following problem and test the following participants:\n",
        "\n",
        "```\n",
        "Participant 112\n",
        "Total Score: 88\n",
        "Low reward condition: 22\n",
        "High reward condition: 66\n",
        "Number of trials: 336\n",
        "\n",
        "Participant 134\n",
        "Total Score: 70\n",
        "Low reward condition: 35\n",
        "High reward condition: 35\n",
        "Number of trials: 187\n",
        "\n",
        "Participant 191\n",
        "Total Score: 50\n",
        "Low reward condition: 34\n",
        "High reward condition: 16\n",
        "Number of trials: 476\n",
        "```\n"
      ]
    },
    {
      "cell_type": "code",
      "metadata": {
        "id": "8HxxqmBbOnN9"
      },
      "source": [
        ""
      ],
      "execution_count": null,
      "outputs": []
    }
  ]
}