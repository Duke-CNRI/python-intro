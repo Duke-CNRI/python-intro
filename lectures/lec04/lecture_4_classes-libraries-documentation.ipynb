{
 "cells": [
  {
   "cell_type": "markdown",
   "metadata": {
    "id": "Un5YZpOJmqfm"
   },
   "source": [
    "# Class 4: Classes, object oriented programming, and packages!!!\n",
    "\n",
    "Created by Abby Hsiung & Miles Martinez\n",
    "\n",
    "Today, we will learn some advanced Python tools that will be useful for programming, and learn about libraries and packages!\n",
    "\n",
    "## Objectives:\n",
    "To learn some *buzzwords* for talking about programming in Python, and learn about how we call, use, and understand `libraries`. \n",
    "\n",
    "## Learning Outcomes:\n",
    "- Know what classes are\n",
    "- Understand how classes fit into 'object oriented programming'\n",
    "- Know what packages/libraries are and why they're important\n",
    "- Understand the relationship between classes and libraries\n",
    "- Learn how to import a library in Jupyter Notebook\n",
    "- Learn where to search for information about a library \n",
    "\n",
    "## Homework:\n",
    "- research packages needed for project\n",
    "- install packages through Anaconda\n",
    "\n",
    "---\n"
   ]
  },
  {
   "cell_type": "markdown",
   "metadata": {
    "id": "y1649ppPq4xR"
   },
   "source": [
    "## What's the deal with classes?\n",
    "\n",
    "As we saw in the previous lecture, `functions` are super great -- they can help us reduce our code duplication, keep our code clean and easy to read, and can be more efficient to run!\n",
    "\n",
    "We didn't have the chance to touch on `methods`, so here is a QUICK quick explanation: `methods` are functions that are specific to (or _belong to_) a particular `class`. For example the method `append` _belongs to_ the class of `lists` and its functional use is limited/restricted to `lists`. You've run into these before, without us telling you their name: for instance, lists have lots of `methods`, but if we try to apply those methods to a string they might not work!"
   ]
  },
  {
   "cell_type": "code",
   "execution_count": null,
   "metadata": {},
   "outputs": [],
   "source": [
    "l = []\n",
    "for i in range(10):\n",
    "  l.append(i)"
   ]
  },
  {
   "cell_type": "code",
   "execution_count": null,
   "metadata": {},
   "outputs": [],
   "source": [
    "print(l)"
   ]
  },
  {
   "cell_type": "code",
   "execution_count": null,
   "metadata": {},
   "outputs": [],
   "source": [
    "print(l)\n",
    "l.clear()\n",
    "print(l)"
   ]
  },
  {
   "cell_type": "code",
   "execution_count": null,
   "metadata": {},
   "outputs": [],
   "source": [
    "s = 'this is a string!'\n",
    "\n",
    "try: \n",
    "    s.append('hello!')\n",
    "    print(s)\n",
    "\n",
    "except: \n",
    "    try:\n",
    "        s.clear()\n",
    "    except:\n",
    "        print('strings have no append OR clear method!')\n",
    "    \n",
    "try: \n",
    "    s.clear() \n",
    "    print(s)\n",
    "    \n",
    "except: print('strings have no clear method!!')\n",
    "    \n",
    "try: \n",
    "    attempt = s.split(' ')\n",
    "    print(attempt)\n",
    "    \n",
    "except: print('strings have no split method!!!')"
   ]
  },
  {
   "cell_type": "markdown",
   "metadata": {
    "id": "y1649ppPq4xR"
   },
   "source": [
    "I mentioned that functions are class-specific, but we haven't really talked about what classes are. So:\n",
    "**What exactly is a class?**\n",
    "\n",
    "Generally, `classes` are like templates that help us build things (usually called `objects` when talking about the general thing being built or an `instance` when referring to a specific moment of a thing being built).\n",
    "\n",
    "Why use classes? Why not just build functions forever? Without getting too much into the nitty gritty, classes help keep our code and programming _even_ lighter and more flexible. Basically, classes help us package code into discrete chunks (often called `modules`) that keep the details hidden away, allowing for easy-to-read (abstract), \"clean\" code. \n",
    "Technically, everything we've used so far (outside of functions) is a class! Lists are a class, floats are a class, strings are a class.....classes are central to everything that we do in Python.\n",
    "\n",
    "What kind of code gets \"packaged into discrete chunks\"? When we think about creating a template, we typically want to think about _what_ is going into that template and _how_ we want it to work together. This might feel a bit too abstract so...\n",
    "\n",
    "Let's get started with an example:\n",
    "\n",
    "```\n",
    "class Cat:\n",
    "```\n",
    "\n",
    "In this class, I am creating a template to make a cat (maybe I'm making a video game to test how fast people approach cats???)\n",
    "\n",
    "If I'm creating this template, I might think about _what features of a cat do I want to include here_. \n",
    "\n",
    "I might want to include:\n",
    "- The color of the cat\n",
    "- The size\n",
    "- What their name is\n",
    "- What their nickname is\n",
    "\n",
    "These are called `attributes`! And we can add them into our class similarly to how you add arguments in functions. \n",
    "\n",
    "```\n",
    "class Cat:\n",
    "  def __init__(self, color, size, name, nickname):\n",
    "```\n",
    "\n",
    "To set attributes in classes, we use `def __init__` which _constructs_ our object. To that constructor, we add the `self` (the specific instances we're creating -- this will make more sense later) and all of our `attributes` much like arguments in functions. We then add these attributes to the self (like assigning these attributes to that specific...cat). \n",
    "\n",
    "```\n",
    "class Cat:\n",
    "  def __init__(self, color, size, name, nickname):\n",
    "    self.color = color\n",
    "    self.size = size\n",
    "    self.name = name\n",
    "    self.nickname = nickname\n",
    "```\n",
    "\n",
    "This is what's going on inside every class we've used so far, at the core of their templates. To actually create *instances* of these classes, we need to run that init function. To do this in the case of 'Cat', we'd run:\n",
    "```\n",
    "newCat = Cat(color, size, name, nickname)\n",
    "```\n",
    "where color, size, name, and nickname are all variables we'd have to define earlier in our code. We've **implicitly** run similar lines many times in our code, when using our basic variables: \n",
    "\n",
    "```\n",
    "newList = [] (List.__init__())\n",
    "newList2 = ['hello','goodbye'] (List.__init__(('hello,'goodbye')))\n",
    "\n",
    "newString = 'hello' (String.__init__('hello') basically)\n",
    "```\n",
    "These are special since they are basic variables that we use everywhere."
   ]
  },
  {
   "cell_type": "code",
   "execution_count": 1,
   "metadata": {
    "id": "5X0b7qTJl9_1"
   },
   "outputs": [],
   "source": [
    "# define class Cat\n",
    "class Cat:\n",
    "  def __init__(self, color, size, name, nickname):\n",
    "    \n",
    "    self.color = color\n",
    "    self.size = size\n",
    "    self.name = name\n",
    "    self.nickname = nickname\n",
    "     "
   ]
  },
  {
   "cell_type": "code",
   "execution_count": 2,
   "metadata": {
    "id": "GK44MFn42t91"
   },
   "outputs": [],
   "source": [
    "my_cat = Cat('black', 'slim', 'Millie', 'Tiny Munchkin')\n"
   ]
  },
  {
   "cell_type": "code",
   "execution_count": 4,
   "metadata": {
    "colab": {
     "base_uri": "https://localhost:8080/",
     "height": 35
    },
    "executionInfo": {
     "elapsed": 137,
     "status": "ok",
     "timestamp": 1633550141838,
     "user": {
      "displayName": "Abby Hsiung",
      "photoUrl": "https://lh3.googleusercontent.com/a/default-user=s64",
      "userId": "01152592401722013049"
     },
     "user_tz": 240
    },
    "id": "wid2p6nO3EIn",
    "outputId": "ff0a079c-fcfd-41a0-f28e-e7023ba60eea"
   },
   "outputs": [
    {
     "data": {
      "text/plain": [
       "'Tiny Munchkin'"
      ]
     },
     "execution_count": 4,
     "metadata": {},
     "output_type": "execute_result"
    }
   ],
   "source": [
    "my_cat.nickname\n"
   ]
  },
  {
   "cell_type": "markdown",
   "metadata": {
    "id": "MsqIAJoK3Opl"
   },
   "source": [
    "Meet Millie, aka Tiny Munchkin! \n",
    "\n",
    "We can access all of `my_cat`'s attributes through the 'dot' syntax (remember from the last class!). Except this time, because something is an `attribute`, you don't need the `()` afterwards; it's not a function just a descriptive (some light foreshadowing here...).\n",
    "\n",
    "Cats, importantly, don't just have attributes, they can _do stuff_. So the next part of our class might give use a template of _how we want our cats to work_. \n",
    "\n",
    "```\n",
    "class Cat:\n",
    "  def __init__(self, color, size, name, nickname):\n",
    "    self.color = color\n",
    "    self.size = size\n",
    "    self.name = name\n",
    "    self.nickname = nickname\n",
    "\n",
    "  def purr(self):\n",
    "    print('Purring...')\n",
    "\n",
    "  def headbutt(self):\n",
    "    print('Head butting...')\n",
    "\n",
    "  def find_weight(self):\n",
    "    return self.size\n",
    "```\n",
    "\n",
    "Similar to what we went over last time, these _do stuff_ things are functions (defined using `def` and taking in arguments x, y, and z). However, because they are contained within a class, they are _specific to that class_, so...they're methods!\n",
    "\n",
    "We can use these methods the same way we can for other classes..."
   ]
  },
  {
   "cell_type": "code",
   "execution_count": null,
   "metadata": {
    "id": "CkJ1JJq63H7C"
   },
   "outputs": [],
   "source": [
    "class Cat:\n",
    "  def __init__(self, color, size, name, nickname):\n",
    "    self.color = color\n",
    "    self.size = size\n",
    "    self.name = name\n",
    "    self.nickname = nickname\n",
    "\n",
    "  def purr(self):\n",
    "    print('Purring...')\n",
    "\n",
    "  def headbutt(self):\n",
    "    print('Head butting...')\n",
    "\n",
    "  def making_biscuits(self, number):\n",
    "    for i in range(number):\n",
    "      print('biscuit')\n",
    "\n",
    "  def find_weight(self):\n",
    "    return self.size"
   ]
  },
  {
   "cell_type": "code",
   "execution_count": null,
   "metadata": {
    "id": "jSmlN2u0KHDS"
   },
   "outputs": [],
   "source": [
    "my_cat = Cat('black', 'slim', 'Millie', 'Tiny Munchkin')\n",
    "my_other_cat = Cat('orange', 'chonk', 'Franklin', 'Bean Boy')"
   ]
  },
  {
   "cell_type": "code",
   "execution_count": null,
   "metadata": {
    "colab": {
     "base_uri": "https://localhost:8080/"
    },
    "executionInfo": {
     "elapsed": 122,
     "status": "ok",
     "timestamp": 1633550285903,
     "user": {
      "displayName": "Abby Hsiung",
      "photoUrl": "https://lh3.googleusercontent.com/a/default-user=s64",
      "userId": "01152592401722013049"
     },
     "user_tz": 240
    },
    "id": "n1C0cz3vKOKv",
    "outputId": "a985f5b1-b804-46fc-bf04-7348930083a7"
   },
   "outputs": [],
   "source": [
    "my_cat.making_biscuits(14)"
   ]
  },
  {
   "cell_type": "markdown",
   "metadata": {
    "id": "rJSga-DCTQbP"
   },
   "source": [
    "Notice that when I went to call `making_biscuits`, I used the same \"dot\" syntax as with attributes but this time I _did_ include the `()` and even included the necessary argument `number`. That's because `making_biscuits` is a `method` -> it's not just describing the cat, it's giving that cat a function (or action). \n",
    "\n",
    "Now that we have two `instances` of our `Cat` class, it's important to note how Python can keep track of these independent calls. "
   ]
  },
  {
   "cell_type": "code",
   "execution_count": null,
   "metadata": {
    "colab": {
     "base_uri": "https://localhost:8080/"
    },
    "executionInfo": {
     "elapsed": 120,
     "status": "ok",
     "timestamp": 1633550378635,
     "user": {
      "displayName": "Abby Hsiung",
      "photoUrl": "https://lh3.googleusercontent.com/a/default-user=s64",
      "userId": "01152592401722013049"
     },
     "user_tz": 240
    },
    "id": "NyTZYzvWSwDr",
    "outputId": "30c87cf5-e5b3-43a6-9ff3-77e77fada43c"
   },
   "outputs": [],
   "source": [
    "print(my_other_cat.find_weight())\n",
    "print(my_cat.find_weight())"
   ]
  },
  {
   "cell_type": "markdown",
   "metadata": {
    "id": "2Cd369QpKXBu"
   },
   "source": [
    "This is where `self` notation really comes into play! The `Cat` class uses `self` as a reference -- to figure out which instance of the class is being called so it can respond accordingly. So, when we call the function `find_weight` on the instance of `my_other_cat` and `my_cat`, python knows which weight we want for each specific instance of the class. Just to demonstrate, however, that these are still both cats - and to show the overall difference between the `Cat` class and out instances, `my_other_cat` and `my_cat` - let's see what the **type** of each cat is:"
   ]
  },
  {
   "cell_type": "code",
   "execution_count": null,
   "metadata": {},
   "outputs": [],
   "source": [
    "print(type(my_other_cat))\n",
    "print(type(my_cat))"
   ]
  },
  {
   "cell_type": "markdown",
   "metadata": {
    "id": "2Cd369QpKXBu"
   },
   "source": [
    "So even though these are separate instances, Python knows that they are still cats!! This is just a brief overview of what classes are and why we might want to use them. Classes are pretty powerful and are an integral part of **\"Object-Oriented Programming\"**. We won't really go into detail here but something to look up if you're interested!\n",
    "\n",
    "It's important to understand the basis of classes because this is the structure that's used to create packages and libraries!"
   ]
  },
  {
   "cell_type": "markdown",
   "metadata": {},
   "source": [
    "### Exercise 1\n",
    "\n",
    "#### Part A\n",
    "\n",
    "We have three cats! Their names are Grandpa Cilantro, Peony, and Cement. Grandpa Cilantro is tabby, medium-sized, and his nickname is grimy gremlin. Peony is gray, slim, and her nickname is flipper. Cement is tuxedo, chonk, and her nickname is small fellow. We want to tell Python all about our cats - please create three cat instances (`grandpa_c`,`peony`,and `cement`) with the attributes of each of the cats! Remember that to construct a cat, we do\n",
    "\n",
    "```\n",
    "cat_instance = Cat(color,size,name,nickname)\n",
    "```"
   ]
  },
  {
   "cell_type": "code",
   "execution_count": null,
   "metadata": {},
   "outputs": [],
   "source": [
    "###### Making Cats #########\n",
    "\n",
    "###### Make Cement #########\n",
    "\n",
    "cement = ???\n",
    "\n",
    "##### Make Peony #######\n",
    "\n",
    "peony = ???\n",
    "\n",
    "##### Make Grandpa Cilantro ####\n",
    "\n",
    "grandpa_c = ???"
   ]
  },
  {
   "cell_type": "markdown",
   "metadata": {},
   "source": [
    "#### Part B\n",
    "\n",
    "Our cats are such good little chefs! Cement is the best chef, however, and makes far more biscuits than the other two. Make Cement make 14 biscuits, Peony make 6, and Grandpa Cilantro make 7"
   ]
  },
  {
   "cell_type": "code",
   "execution_count": null,
   "metadata": {},
   "outputs": [],
   "source": [
    "#### Making Cats Make Biscuits ######\n",
    "\n",
    "## cat_instance.making_biscuits(number)\n",
    "\n",
    "????"
   ]
  },
  {
   "cell_type": "markdown",
   "metadata": {},
   "source": [
    "#### Part C\n",
    "\n",
    "Our cats aren't solo little dudes though - they like to play with each other. Most of the time! They do have some enemies, though - Grandpa Cilantro is a grumpy old man and doesn't like to play with either Peony or Cilantro, whereas Peony just doesn't like to play with Grandpa Cilantro! Cement loves everyone. However, our current cat class doesn't let them them play, and doesn't tell us who they don't like. Edit the `Cat` class to have a new method!\n",
    "\n",
    "We want the new attribute to be called `cat_enemies`. This attribute should expect a **list of strings** as input. If you're feeling ambitious, make this attribute an optional input, with a default value of an **empty list**.\n",
    "\n",
    "We want our method to be called `play()`. This method should take a `Cat` instance as input (or, if you're feeling ambitious, make it flexible enough to take multiple cats as input). Once we give this method an input, we need to check whether or not the cats are enemies. Check if the input cat (`input_cat.name`) is in the cat who is trying to play's enemies (`self.cat_enemies`). Then, check the reverse direction (if `self.name` is in `input_cat.cat_enemies`). If neither is an enemy, print \"playing!! meow meow meow\". If either is an enemy of the other, print \"hisssssssss....\"."
   ]
  },
  {
   "cell_type": "code",
   "execution_count": null,
   "metadata": {},
   "outputs": [],
   "source": [
    "class Cat:\n",
    "  def __init__(self, color, size, name, nickname, cat_enemies):\n",
    "    self.color = color\n",
    "    self.size = size\n",
    "    self.name = name\n",
    "    self.nickname = nickname\n",
    "    self.cat_enemies = cat_enemies       \n",
    "    \n",
    "\n",
    "  def purr(self):\n",
    "    print('Purring...')\n",
    "\n",
    "  def headbutt(self):\n",
    "    print('Head butting...')\n",
    "\n",
    "  def making_biscuits(self, number):\n",
    "    for i in range(number):\n",
    "      print('biscuit')\n",
    "\n",
    "  def find_weight(self):\n",
    "    return self.size\n",
    "               \n",
    "  def play(self,cat_instance):\n",
    "    \n",
    "   #?????\n",
    "    return #????"
   ]
  },
  {
   "cell_type": "markdown",
   "metadata": {},
   "source": [
    "#### Part D \n",
    "\n",
    "Last part! Now that we've made this method, let's test it out! Make Grandpa Cilantro try to play with Cement, and make Cement try to play with Peony. "
   ]
  },
  {
   "cell_type": "code",
   "execution_count": null,
   "metadata": {},
   "outputs": [],
   "source": [
    "### Before we try out the function we need to re-define our instances - otherwise they won't include our new play method ###\n",
    "### Copy your code from 1a here, adding in the enemies ###\n",
    "cement = Cat('tuxedo','chonk','Cement','small fellow',[])\n",
    "\n",
    "\n",
    "peony = Cat('tuxedo','chonk','Peony','small fellow',['Grandpa Cilantro'])\n",
    "\n",
    "\n",
    "grandpa_c = Cat('tuxedo','chonk','Grandpa Cilantro','small fellow', ['Cement','Peony'])\n",
    "\n",
    "##### Playtime! #####\n",
    "\n",
    "#### Grandpa C playtime ####\n",
    "\n",
    "# we should see: \"hisssssssss....\".\n",
    "\n",
    "############################\n",
    "\n",
    "\n",
    "#### Cement Playtime ########\n",
    "\n",
    "# we should see: \"playing!! meow meow meow\"\n",
    "#############################"
   ]
  },
  {
   "cell_type": "markdown",
   "metadata": {
    "id": "4I9YWTLbLIIP"
   },
   "source": [
    "## Packages & Libraries\n",
    "\n",
    "For our purposes, we will use `package` and `library` interchangeably. \n",
    "\n",
    "`Packages` are collections of modules (reusable pieces of code) and often modules include classes since they are easy templates to use, and use again, and use again...\n",
    "\n",
    "You don't need to worry too much about the details here or the specific terminology. But it's nice to keep these things in mind: \n",
    "- **Semantically** - Focus on the idea that packages and libraries are huge banks or reusable code that is going to be readable and farily elegant\n",
    "- **Syntactically** - Focus on using these packages similarly to how we've just described them (attributes + methods)"
   ]
  },
  {
   "cell_type": "markdown",
   "metadata": {
    "id": "VdHstCG0Nydi"
   },
   "source": [
    "Some examples of libraries that we will be using very soon are:\n",
    "- `NumPy`: library for much math stuff, linear algebra, random number generators\n",
    "- `Pandas`: library for dataframe viewing and manipulation\n",
    "- `Matplotlib`: library for data visualizations (also see: `Seaborn`)\n",
    "- `PsychoPy`: library for building psychological experiments!"
   ]
  },
  {
   "cell_type": "markdown",
   "metadata": {
    "id": "457wVQirQPgn"
   },
   "source": [
    "### Accessing and Using Libraries\n",
    "\n",
    "So, libraries offer a way to use pre-written classes and functions with many cool tools that we don't have to engineer ourselves. Awesome, quick question, _how do I get them_?\n",
    "\n",
    "This is where we are going to expand our knowledge outside of the domain of Google Colab. While Google Colab is great because it provides in-house access to many of the most standard python libraries, this doesn't really teach you the background of how we can get such packages to use on your own. \n",
    "\n",
    "So taking a step back, we will first review the concept of **package managers**."
   ]
  },
  {
   "cell_type": "markdown",
   "metadata": {
    "id": "Vr3w6M5nBf0C"
   },
   "source": [
    "#### **Package Managers**\n",
    "\n",
    "This will be an abridged version of package management but hopefully it'll get you thinking about the main elements.\n",
    "\n",
    "To start, each Python package does not come readily installed on every machine nor does in come with the basic installing of python. So, in order to access python libraries, we first have to install them where we want to use them.\n",
    "\n",
    "Not as simply as you might think! The key next step is after you install a library, you have to tell Python where this library lives on your computer so that Python can access it and allow you to use it. \n",
    "\n",
    "To help with this organizing (because we don't really want to have to do this), we use **package managers**! \n",
    "\n",
    "Package managers do as they say they will -- they manage your packages so you don't have to! This helps keep everything stored in streamline manners, making accessibility easy!\n",
    "\n",
    "For Python, the language comes with its own package manager: `pip`\n",
    "\n",
    "`pip` helps install, upgrade, and track your python packages. We can practice using `pip` below:"
   ]
  },
  {
   "cell_type": "code",
   "execution_count": null,
   "metadata": {
    "colab": {
     "base_uri": "https://localhost:8080/",
     "height": 130
    },
    "executionInfo": {
     "elapsed": 124,
     "status": "error",
     "timestamp": 1633550770169,
     "user": {
      "displayName": "Abby Hsiung",
      "photoUrl": "https://lh3.googleusercontent.com/a/default-user=s64",
      "userId": "01152592401722013049"
     },
     "user_tz": 240
    },
    "id": "PCBzdIdYGYvi",
    "outputId": "f7d07240-1467-444d-f8cd-c63c58a53dd1"
   },
   "outputs": [],
   "source": [
    "# to install new packages \n",
    "!pip install seaborn"
   ]
  },
  {
   "cell_type": "code",
   "execution_count": null,
   "metadata": {
    "colab": {
     "base_uri": "https://localhost:8080/"
    },
    "executionInfo": {
     "elapsed": 3217,
     "status": "ok",
     "timestamp": 1633448469417,
     "user": {
      "displayName": "Abby Hsiung",
      "photoUrl": "https://lh3.googleusercontent.com/a/default-user=s64",
      "userId": "01152592401722013049"
     },
     "user_tz": 240
    },
    "id": "XQ-I8Bh6HXCG",
    "outputId": "7021488d-c052-4efe-a2cc-4cb0ee085bad"
   },
   "outputs": [],
   "source": [
    "# to upgrade existing packages\n",
    "!pip install seaborn --upgrade"
   ]
  },
  {
   "cell_type": "markdown",
   "metadata": {
    "id": "SmmuyRfJGynb"
   },
   "source": [
    "If seaborn is already installed, `pip` helps make sure we don't have any duplicate copies! \n",
    "\n",
    "You can also get a lot of information from this output. What are some things you notice?"
   ]
  },
  {
   "cell_type": "markdown",
   "metadata": {
    "id": "qokznb34Hivs"
   },
   "source": [
    "_Sidenote: there are many many package managers and some that can manager packages across different languages (`pip` is specific to python). We won't review much more here but there's much more to be said for **package management**, creating **evironments**, etc. if you're interested!_"
   ]
  },
  {
   "cell_type": "markdown",
   "metadata": {
    "id": "JL8ng92TDH-y"
   },
   "source": [
    "#### **Dependencies**\n",
    "\n",
    "A dependency is code that is required for your program to function properly.\n",
    "\n",
    "So for example, if I created a script to help with my math homework, I might want to leverage some of the functions from the `NumPy` library. Now, say that my friend also wanted to use these same scripts. I am not averse to sharing, so I say sure and give her my code. But she comes back and says, \"hey, I can't run your code on my computer, what gives!\" \n",
    "\n",
    "Well, in short, one problem could be that I didn't tell her that in order to run my code, she would _not only_ need base Python but she would _also_ need a version of `NumPy`! My code, therefore, it _dependent_ on `NumPy`.\n",
    "\n",
    "Packages themselves can also have their own dependencies. Managing all these dependencies can be hard, lots of different versions, lots of dependencies in dependencies. \n",
    "\n",
    "An important way that computer scientists keep track of all these dependencies is with a **`requirements.txt`** file. These files are standard in many types of programming and simply contain a list of all the packages and their versions that are needed to run a set of code. So, going back to my example, for my friend, I might also send a `.txt` file along with my script that reads:\n",
    "\n",
    "`requirements.txt`\n",
    "```\n",
    "numpy==1.19.5\n",
    "```\n",
    "\n",
    "`requirements.txt` will be important during your experiment design, so if anyone else wants to run your experiment, they'll be able to!"
   ]
  },
  {
   "cell_type": "markdown",
   "metadata": {
    "id": "htOd9pICO42R"
   },
   "source": [
    "#### **Importing**\n",
    "\n",
    "So now that I have some packages installed (we're going to pretend we did all the installation but Google Colab did most of it...), can I just start using them? Not quite! For each script that you write, you need to first tell Python what packages you'll be using so that Python can load in all those cool functions and make them available. \n",
    "\n",
    "For an introduction, we will look at `NumPy` but you will get a better sense of what `NumPy` specifically does a little later.\n",
    "\n",
    "The first question is how do we tell Python that we want to use a library?"
   ]
  },
  {
   "cell_type": "code",
   "execution_count": null,
   "metadata": {
    "id": "xWOnSYjBNxz1"
   },
   "outputs": [],
   "source": [
    "import numpy as np # numpy is commonly abbreviated as 'np' but you can use the full numpy as well"
   ]
  },
  {
   "cell_type": "markdown",
   "metadata": {
    "id": "Ssn70SGuIolE"
   },
   "source": [
    "Now, remembering what we learned from `classes`..."
   ]
  },
  {
   "cell_type": "code",
   "execution_count": null,
   "metadata": {
    "colab": {
     "base_uri": "https://localhost:8080/"
    },
    "executionInfo": {
     "elapsed": 123,
     "status": "ok",
     "timestamp": 1633551126612,
     "user": {
      "displayName": "Abby Hsiung",
      "photoUrl": "https://lh3.googleusercontent.com/a/default-user=s64",
      "userId": "01152592401722013049"
     },
     "user_tz": 240
    },
    "id": "KZxf2yzFKQIQ",
    "outputId": "2b107143-fd2b-4ff5-98fa-a340d9fbdfe5"
   },
   "outputs": [],
   "source": [
    "np.random.choice(19, 10) # a method of numpy, what is this method doing?"
   ]
  },
  {
   "cell_type": "code",
   "execution_count": null,
   "metadata": {
    "colab": {
     "base_uri": "https://localhost:8080/",
     "height": 35
    },
    "executionInfo": {
     "elapsed": 112,
     "status": "ok",
     "timestamp": 1633551141713,
     "user": {
      "displayName": "Abby Hsiung",
      "photoUrl": "https://lh3.googleusercontent.com/a/default-user=s64",
      "userId": "01152592401722013049"
     },
     "user_tz": 240
    },
    "id": "DhYFDrrxK9Kj",
    "outputId": "92c8ef16-897f-4f21-e462-a6425b0365d0"
   },
   "outputs": [],
   "source": [
    "np.__version__ # an attribute of numpy"
   ]
  },
  {
   "cell_type": "markdown",
   "metadata": {
    "id": "tmljTOojI3cJ"
   },
   "source": [
    "Once you have a package imported, you are free to use all of the functions and attributes that package has to offer! \n",
    "\n",
    "That's a lot of methods and attributes though... how do I know what to use? Or even more so, how do I know _how_ to use them?\n",
    "\n",
    "Well, much like in functions how you provide descriptions of what arguments a function takes, what the return value will be, etc. Libraries also have written descriptions! But since libraries are huge, we refer to these written descriptions as **Documentation**."
   ]
  },
  {
   "cell_type": "markdown",
   "metadata": {
    "id": "870evF5WQmET"
   },
   "source": [
    "### Documentation\n",
    "\n",
    "A written account of all things package related! So, as an example, let's check out the documentation for the function we used earlier, `np.random.choice()`. \n",
    "\n",
    "To find a library's documentation, we can just type the function name into Google (or if you're looking for a function, [library name] + [thing you want to do]). For instance, I work with PyTorch a lot - about half of my google search history looks like \"torch.stack\" or \"torch.cat\" or \"torch.backward not working help\".\n",
    "\n",
    "So let's try that out: [google search for np.random.choice](https://www.google.com/search?q=np.random.choice&oq=np.random.choice&aqs=chrome..69i57j0i512l9.8247j1j7&sourceid=chrome&ie=UTF-8)"
   ]
  },
  {
   "cell_type": "code",
   "execution_count": null,
   "metadata": {
    "id": "_CyXu_vPQlS8"
   },
   "outputs": [],
   "source": [
    "# google colab also offers numpy documentation in-house!\n",
    "np.random.choice()"
   ]
  },
  {
   "cell_type": "markdown",
   "metadata": {},
   "source": [
    "## Exercise time! \n",
    "\n",
    "Another library that we use all the time in research is Pandas. Let's go to the [pandas intro tutorial](https://pandas.pydata.org/docs/getting_started/intro_tutorials/01_table_oriented.html#min-tut-01-tableoriented), and follow along! "
   ]
  }
 ],
 "metadata": {
  "colab": {
   "name": "lecture_5_classes-libraries-documentation.ipynb",
   "provenance": []
  },
  "kernelspec": {
   "display_name": "Python 3 (ipykernel)",
   "language": "python",
   "name": "python3"
  },
  "language_info": {
   "codemirror_mode": {
    "name": "ipython",
    "version": 3
   },
   "file_extension": ".py",
   "mimetype": "text/x-python",
   "name": "python",
   "nbconvert_exporter": "python",
   "pygments_lexer": "ipython3",
   "version": "3.10.12"
  }
 },
 "nbformat": 4,
 "nbformat_minor": 1
}
