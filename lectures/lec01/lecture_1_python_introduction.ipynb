{
 "cells": [
  {
   "cell_type": "markdown",
   "metadata": {
    "id": "3No6YvB9Azv9"
   },
   "source": [
    "# Class 1: Introduction To Computer Programming for Experimental Research\n",
    "\n",
    "Created and edited by Raphael Geddert\n"
   ]
  },
  {
   "cell_type": "markdown",
   "metadata": {
    "id": "RnFjraZJDIBO"
   },
   "source": [
    "\n",
    "Welcome to week 1 of the CNRI Python and programming introductory course! Today's course will be an introduction to Python and will cover variables, operators, evaluations, and collections."
   ]
  },
  {
   "cell_type": "markdown",
   "metadata": {
    "id": "stlLy_ws5Ab8"
   },
   "source": [
    "### Objective:\n",
    "\n",
    "To learn the foundational elements of Python, including variables and data types.\n",
    "To learn the basic structure for communicating instructions through Python. \n",
    "\n",
    "### Learning Outcomes:\n",
    "- What is a variable and how do we define them?\n",
    "- Explore the different types of variables and why variable specification matters\n",
    "- Get familiar with the concept of Booleans and conditionality\n",
    "\n",
    "### Homework:\n",
    "- Finish reviewing this Notebook\n",
    "- Install Anaconda on your device"
   ]
  },
  {
   "cell_type": "markdown",
   "metadata": {
    "id": "4pNCHtBgsi1i"
   },
   "source": [
    "# Getting Started with Google Colab"
   ]
  },
  {
   "cell_type": "markdown",
   "metadata": {
    "id": "9OhjuYHx7zmJ"
   },
   "source": [
    "## **What is Google Colab**\n",
    "\n",
    "All programming languages (Python included!) need a computer program that understands what their instructions mean and how to execute them. Google Colab is a _browser-based_ program that does just that, letting you write and execute Python code on your device. \n",
    "\n",
    "Starting next week we will transition to other popular _Python Interpreters_, by downloading the _Anaconda_ package which has all sorts of cool built in packages and programs that make coding in Python super fast and easy. More on that later!\n",
    "\n",
    "\n"
   ]
  },
  {
   "cell_type": "markdown",
   "metadata": {
    "id": "xC36huBHEZ-8"
   },
   "source": [
    "-------------"
   ]
  },
  {
   "cell_type": "markdown",
   "metadata": {
    "id": "nXyrU7bEG4G2"
   },
   "source": [
    "The file you downloaded and opened in Google Colab is called a _python notebook_. The extension for these files is `.ipynb`, understandably! Note that this is **not** a Google Colab specific document. Python notebooks can be opened by all sorts of other software programs as well!"
   ]
  },
  {
   "cell_type": "markdown",
   "metadata": {
    "id": "Uf8IcF55HJIh"
   },
   "source": [
    "Python notebooks intermix text blocks with code blocks. **Double click on this text block to edit it!**\n",
    "\n",
    "This text is interpreted according to the **Markdown** programming standard, which you will encounter everywhere as you get into programming. Markdown's are just text documents with agreed upon standards for **bolding**, *italicizing*, and `adding code blocks` all in one document, as well as all sort of other convenient features."
   ]
  },
  {
   "cell_type": "code",
   "execution_count": null,
   "metadata": {
    "id": "TSbg1bp1GzMq"
   },
   "outputs": [],
   "source": [
    "#Python commands are executed in code blocks by pressing the play symbol!\n",
    "print(\"Yay! I ran my very first python command\")"
   ]
  },
  {
   "cell_type": "code",
   "execution_count": null,
   "metadata": {
    "id": "i6XVF_C2Gw12"
   },
   "outputs": [],
   "source": [
    "#Comments are written using the # symbol.\n",
    "# And code blocks will return an error if there is something wrong with your code.\n",
    "print \"Whoops, this doesn't work :'|\""
   ]
  },
  {
   "cell_type": "markdown",
   "metadata": {
    "id": "oZHeqwIXEh6V"
   },
   "source": [
    "# Introduction to Variables"
   ]
  },
  {
   "cell_type": "markdown",
   "metadata": {
    "id": "L5iHIdq5IR5D"
   },
   "source": [
    "With that brief introduction to the text and markdown features of python notebooks, let's get programming!"
   ]
  },
  {
   "cell_type": "markdown",
   "metadata": {
    "id": "dTncNUlN4QUm"
   },
   "source": [
    "Any program, such as a social media website, a phone application, or an online video game, needs to work with and store information. This information might be images, text, numbers, and much more.\n",
    "\n",
    "**Variables** are used to store this information. A variable is a \"named storage\" for data. Below are three examples, one variable called `x` that contains an integer, and another variable called `y` that contains a number with a decimal, and a variable called `z` that contains some text."
   ]
  },
  {
   "cell_type": "code",
   "execution_count": null,
   "metadata": {
    "id": "7FgBMFVK3LF_"
   },
   "outputs": [],
   "source": [
    "x = 2022\n",
    "y = 1.0\n",
    "z = \"CNRI\"\n",
    "print(x)\n",
    "print(y)\n",
    "print(z)"
   ]
  },
  {
   "cell_type": "markdown",
   "metadata": {
    "id": "Cb_GCVNC5cQF"
   },
   "source": [
    "A variable gets created the moment you first assign a value to it. All variables have a certain *type*, that indicates what kind of data that is being stored in it. The data types in the example above are an int (for integers), a float (for numbers with decimals), and a string (for text)."
   ]
  },
  {
   "cell_type": "code",
   "execution_count": null,
   "metadata": {
    "id": "7zOLqnDL4DAt"
   },
   "outputs": [],
   "source": [
    "print(type(x))\n",
    "print(type(y))\n",
    "print(type(z))"
   ]
  },
  {
   "cell_type": "markdown",
   "metadata": {
    "id": "krOv6XfK4PDR"
   },
   "source": [
    "Variables do not need to be declared as any particular type ahead of time; this is done automatically. If you give the variable a new value of a different type, the type will automatically change as well."
   ]
  },
  {
   "cell_type": "code",
   "execution_count": null,
   "metadata": {
    "id": "VcG4SuWB9vVN"
   },
   "outputs": [],
   "source": [
    "x = 5 # x is type int\n",
    "print(x)\n",
    "print(type(x))\n",
    "x = \"Hello world\" # x is now type str\n",
    "print(x)\n",
    "print(type(x))"
   ]
  },
  {
   "cell_type": "markdown",
   "metadata": {
    "id": "w3HSyE3JRkaF"
   },
   "source": [
    "You can also force a variable to take on a certain type using a technique called **casting**. To cast a variable, we use built-in python functions to change the type of the variable."
   ]
  },
  {
   "cell_type": "code",
   "execution_count": null,
   "metadata": {
    "id": "INyHeq-pRwP0"
   },
   "outputs": [],
   "source": [
    "x = 3\n",
    "y = str(3) #cast to string\n",
    "z = float(3) #cast to float\n",
    "print(x)\n",
    "print(type(x))\n",
    "print(y)\n",
    "print(type(y))\n",
    "print(z)\n",
    "print(type(z))"
   ]
  },
  {
   "cell_type": "markdown",
   "metadata": {
    "id": "93RUtoCsqJ0x"
   },
   "source": [
    "Be careful, however, not all type conversions are valid. For example, if we try to run this next cell, what do we imagine we will get?\n",
    "\n",
    "---\n",
    "\n"
   ]
  },
  {
   "cell_type": "code",
   "execution_count": null,
   "metadata": {
    "id": "_NypQj_7qSwn"
   },
   "outputs": [],
   "source": [
    "print(float('John'))"
   ]
  },
  {
   "cell_type": "markdown",
   "metadata": {
    "id": "9CT4s6Hk799s"
   },
   "source": [
    "_**A super cool feature of Google Colab, is that it's here to help you with potential errors you might experience as you get into coding. Click on the button above, where does it take you?_"
   ]
  },
  {
   "cell_type": "markdown",
   "metadata": {
    "id": "TXRzHnkdqmGD"
   },
   "source": [
    "You also need to be careful about *losing* information while casting. For example, the int() function will drop any decimal points given to it."
   ]
  },
  {
   "cell_type": "code",
   "execution_count": null,
   "metadata": {
    "id": "R4WaV1RXqs75"
   },
   "outputs": [],
   "source": [
    "print(float(3.14159))\n",
    "print(str(3.14159))\n",
    "print(int(3.14159))"
   ]
  },
  {
   "cell_type": "markdown",
   "metadata": {
    "id": "4psL5ekKOXpF"
   },
   "source": [
    "You can also assign multiple variables at a time, or set one variable equal to another. If you change one of the variables, however, the other will remain the same. \n",
    "\n",
    "---\n",
    "**Take a moment and think about what the three print statements will print. What values will x, y, and z have?**\n",
    "\n",
    "---"
   ]
  },
  {
   "cell_type": "code",
   "execution_count": null,
   "metadata": {
    "id": "RZUWtCCrOegt"
   },
   "outputs": [],
   "source": [
    "x, y = 1, 2\n",
    "z = x\n",
    "x = x + 2\n",
    "print(x)\n",
    "print(y)\n",
    "print(z)\n",
    "print('Blast off!')"
   ]
  },
  {
   "cell_type": "markdown",
   "metadata": {
    "id": "DhmPUJMu9ARA"
   },
   "source": [
    "Note: this is not always the case with more complicated data types, such as sets, dictionaries, and lists, which you will learn about later.\n",
    "\n",
    "\n",
    "_This is a very cool and powerful part of Python but can also cause some confusion if you are building a system that continually overwrites or changes variables. Something to keep in mind as you start to think about how to use pieces of code to build an entire script._"
   ]
  },
  {
   "cell_type": "markdown",
   "metadata": {
    "id": "-3QGf-_aJl3t"
   },
   "source": [
    "**Variable Naming**<br>\n",
    "Variables can be named anything, as long as they obey certain rules. These rules are:\n",
    "*   A variable name must start with a letter or an underscore (_)\n",
    "*   Variable names cannot start with a number\n",
    "*   Variable names can only contain alpha-numeric characters and underscores"
   ]
  },
  {
   "cell_type": "markdown",
   "metadata": {
    "id": "vOkw4xNZMV3E"
   },
   "source": [
    "Variables are also case sensitive. If a new variable has different capital letters than an old variable, a new variable will be created instead of overwriting the old one."
   ]
  },
  {
   "cell_type": "code",
   "execution_count": null,
   "metadata": {
    "id": "DJeLqpcIMa7M"
   },
   "outputs": [],
   "source": [
    "var = 5\n",
    "VAR = 10\n",
    "VaR = \"see?\"\n",
    "print(var)\n",
    "print(VAR)\n",
    "print(VaR)"
   ]
  },
  {
   "cell_type": "markdown",
   "metadata": {
    "id": "IOd775pVNdnt"
   },
   "source": [
    "The most common variable naming conventions are \"camel case\" and \"snake case\". `thisIsCamelCase` and `this_is_snake_case`. Use whichever one you prefer!"
   ]
  },
  {
   "cell_type": "markdown",
   "metadata": {
    "id": "yCBwYcm-Lq5g"
   },
   "source": [
    "####**Exercise 1**\n",
    "Comment out the invalid variable names below (add a # at the beginning of the line). Think carefully and try to get it right on the first try!\n",
    "<br>**Hint:** There are 5 valid variable names."
   ]
  },
  {
   "cell_type": "code",
   "execution_count": null,
   "metadata": {
    "id": "AnwFO0PYKLFt"
   },
   "outputs": [],
   "source": [
    "#Comment out the invalid lines below!\n",
    "myName = \"Raphael\"\n",
    "my name = \"Raphael\"\n",
    "my-name = \"Raphael\"\n",
    "_my_name_with_underscores_ =\"Raphael\"\n",
    "my*name_with@symbols& = \"Raphael\"\n",
    "_________ = \"Raphael\"\n",
    "MyNaMe = \"Raphael\"\n",
    "myAge = 27\n",
    "27age = 27\n",
    "print(\"Correct!\")"
   ]
  },
  {
   "cell_type": "markdown",
   "metadata": {
    "id": "17ofpbdqGwVt"
   },
   "source": [
    "# Data Types"
   ]
  },
  {
   "cell_type": "markdown",
   "metadata": {
    "id": "hMtWCptuAXq9"
   },
   "source": [
    "There are many different kinds of data types. Python's data types include:\n",
    "*   strings\n",
    "*   integers\n",
    "*   floats\n",
    "*   booleans\n",
    "*   lists\n",
    "*   ranges\n",
    "*   dictionaries\n",
    "*   tuples\n",
    "\n",
    "and many others! For a complete list, visit https://www.w3schools.com/python/python_datatypes.asp.\n",
    "\n",
    "Today we will be focusing on four common data types: strings, integers, floats, and booleans. We'll also touch on lists and dictionaries if time allows.\n"
   ]
  },
  {
   "cell_type": "markdown",
   "metadata": {
    "id": "q_JTYRz0JXC1"
   },
   "source": [
    "### **Strings**\n",
    "<br> Strings are used to store text. They can be surrounded by either single or double quotation marks.\n"
   ]
  },
  {
   "cell_type": "code",
   "execution_count": null,
   "metadata": {
    "id": "Li_9_BVCA60S"
   },
   "outputs": [],
   "source": [
    "x = 'hello'\n",
    "y = \"world\"\n",
    "print(x)\n",
    "print(y)\n",
    "print(type(x))\n",
    "print(type(y))"
   ]
  },
  {
   "cell_type": "markdown",
   "metadata": {
    "id": "yaKDdTI7tRde"
   },
   "source": [
    "Strings can also span multiple lines, using three quotes.\n"
   ]
  },
  {
   "cell_type": "code",
   "execution_count": null,
   "metadata": {
    "id": "LjZRfo8BtjnE"
   },
   "outputs": [],
   "source": [
    "x = \"\"\"This string spans multiple lines,\n",
    "unlike regular strings which would\n",
    "not allow you to do this\"\"\"\n",
    "print(x)"
   ]
  },
  {
   "cell_type": "markdown",
   "metadata": {
    "id": "KH4AjBeI_5pA"
   },
   "source": [
    "What happens if you try to break up a quote onto several lines without the triple quotes?"
   ]
  },
  {
   "cell_type": "code",
   "execution_count": null,
   "metadata": {
    "id": "caUXtDBjADsn"
   },
   "outputs": [],
   "source": [
    "y = \"I want this string to also span multiple lines\n",
    "but I think that the triple quotes look weird\n",
    "so I do not want to use them!\""
   ]
  },
  {
   "cell_type": "markdown",
   "metadata": {
    "id": "aGacx7NWATKm"
   },
   "source": [
    "---\n",
    "**Why did this happen?**\n",
    "\n",
    "---"
   ]
  },
  {
   "cell_type": "markdown",
   "metadata": {
    "id": "h5W4AXlnt0dY"
   },
   "source": [
    "What if you want to include a quote _in_ your string? For example, if I wanted to create an app that sent me positive quotes every morning.\n",
    "\n",
    "Creating a string with a quotations mark is simple. You can always use one kind of quotations inside another, or use backslash to create an \"escape quote\", which doesn't affect the string."
   ]
  },
  {
   "cell_type": "code",
   "execution_count": null,
   "metadata": {
    "id": "nSSaMn0mt8w8"
   },
   "outputs": [],
   "source": [
    "print(\"This \"wont\" work. Comment me out!\")\n",
    "print(\"'Hello,' said Bill.\")\n",
    "print('\"Hi\", said Amy.')\n",
    "print(\"This string has both 'single' AND \\\"double\\\" quotes!\")"
   ]
  },
  {
   "cell_type": "markdown",
   "metadata": {
    "id": "odv3ZZQKucro"
   },
   "source": [
    "We can also get the length of a string using the Python built-in `len()` function."
   ]
  },
  {
   "cell_type": "code",
   "execution_count": null,
   "metadata": {
    "id": "-kER4mUyucI-"
   },
   "outputs": [],
   "source": [
    "x = \"Mary had a little lamb\"\n",
    "print(len(x))"
   ]
  },
  {
   "cell_type": "markdown",
   "metadata": {
    "id": "DbGyxFtaA-B9"
   },
   "source": [
    "**Are spaces counted in the length function? How could you figure this out (besides counting by hand)?**"
   ]
  },
  {
   "cell_type": "markdown",
   "metadata": {
    "id": "usEppy0jxFx3"
   },
   "source": [
    "You will learn about lists and arrays another week, but it is possible to **index** each letter in a string by using square brackets.<br>\n",
    "Note: the first element of the string is indexed with a 0, not a 1! You will learn more about this later."
   ]
  },
  {
   "cell_type": "code",
   "execution_count": null,
   "metadata": {
    "id": "2hV8N4crxFWk"
   },
   "outputs": [],
   "source": [
    "x = \"Happy holidays!\"\n",
    "print(x[0])\n",
    "print(x[10])\n",
    "print(x[-1]) # indexing can be done backwards and forwards! Positive numbers index left to right, negative numbers index right to left\n",
    "print(x[3:7])"
   ]
  },
  {
   "cell_type": "markdown",
   "metadata": {
    "id": "m0o85dSXkeH7"
   },
   "source": [
    "####**Exercise 2**\n",
    "In the code block below, write code to print out the following quote, using only a single variable and print statement.\n",
    "\n",
    "> \"Programming isn't about what you know; <br>\n",
    "> it's about what you can figure out.\" <br>\n",
    "> \\- Chris Pine (not the actor) \n",
    "\n",
    "Don't forget to include both the double and single quotes!"
   ]
  },
  {
   "cell_type": "code",
   "execution_count": null,
   "metadata": {
    "id": "MVKwpbL4kdjD"
   },
   "outputs": [],
   "source": [
    "#write your code here"
   ]
  },
  {
   "cell_type": "markdown",
   "metadata": {
    "id": "YMtIyypzi8Dq"
   },
   "source": [
    "### **Integers and Floats**\n",
    "<br> Integers and floats are used to store integers and numbers with decimal points, respectively."
   ]
  },
  {
   "cell_type": "code",
   "execution_count": null,
   "metadata": {
    "id": "kN2R3WG4jFhP"
   },
   "outputs": [],
   "source": [
    "x = 5\n",
    "y = 5.0\n",
    "print(type(x))\n",
    "print(type(y))"
   ]
  },
  {
   "cell_type": "markdown",
   "metadata": {
    "id": "kPrjcpVLmmt7"
   },
   "source": [
    "Floats can also be scientific numbers with an \"e\" to indicate powers of 10."
   ]
  },
  {
   "cell_type": "code",
   "execution_count": null,
   "metadata": {
    "id": "gGZ3a8YymrcS"
   },
   "outputs": [],
   "source": [
    "x = 28e3\n",
    "y = 10e-1\n",
    "z = -123.23e100\n",
    "\n",
    "print(x)\n",
    "print(y)\n",
    "print(z)\n",
    "print(type(x))\n",
    "print(type(y))\n",
    "print(type(z))"
   ]
  },
  {
   "cell_type": "markdown",
   "metadata": {
    "id": "LQhSe2dyvGwB"
   },
   "source": [
    "When combining two variables, if one is an integer and the other a float, the result will always also be a float."
   ]
  },
  {
   "cell_type": "code",
   "execution_count": null,
   "metadata": {
    "id": "BQhs0WuLu9-R"
   },
   "outputs": [],
   "source": [
    "x = 5\n",
    "y = 1.0\n",
    "z = x + y\n",
    "print(z)\n",
    "print(type(z))"
   ]
  },
  {
   "cell_type": "markdown",
   "metadata": {
    "id": "xyiacGe71BOt"
   },
   "source": [
    "### **Booleans**\n",
    "<br> This is probably the most unfamiliar concept to new programmers. Taking some time to get used to how Booleans function and how we use them might take a bit more time. \n",
    "\n",
    "In programming it is often useful to know if an expression is `True` or `False`. You can evaluate any expression in Python and get one of two answers, `True` or `False`."
   ]
  },
  {
   "cell_type": "code",
   "execution_count": null,
   "metadata": {
    "id": "5V7FMtOa1QpL"
   },
   "outputs": [],
   "source": [
    "print(10 > 9)\n",
    "print(10 < 9)"
   ]
  },
  {
   "cell_type": "markdown",
   "metadata": {
    "id": "Rwr8avBl1U8U"
   },
   "source": [
    "A boolean is just another kind of variable whose value happens to be `True` or `False`."
   ]
  },
  {
   "cell_type": "markdown",
   "metadata": {
    "id": "Y28GNi8jDpa0"
   },
   "source": [
    "\n",
    "---\n",
    "**Under what circumstances would we want a Boolean variable in an experiment?** \n",
    "\n",
    "---"
   ]
  },
  {
   "cell_type": "code",
   "execution_count": null,
   "metadata": {
    "id": "hyHMcbP61cTl"
   },
   "outputs": [],
   "source": [
    "x = True\n",
    "y = 10 > 9\n",
    "print(type(x))\n",
    "print(type(y))"
   ]
  },
  {
   "cell_type": "markdown",
   "metadata": {
    "id": "jHpunNiB1nlb"
   },
   "source": [
    "It is even possible to evaluate whether or not an integer or string is `True` or `False`. This is sometimes done to determine if a string is empty or not, or if a number is 0 or not. "
   ]
  },
  {
   "cell_type": "code",
   "execution_count": null,
   "metadata": {
    "id": "bTfApQ8t1l8s"
   },
   "outputs": [],
   "source": [
    "print(bool(\"Hello\"))\n",
    "print(bool(\"\"))\n",
    "print(bool(10))\n",
    "print(bool(0))"
   ]
  },
  {
   "cell_type": "markdown",
   "metadata": {
    "id": "ZkVCWjXD1xsz"
   },
   "source": [
    "Fun fact: data values that are `True` or `False` like this are referred to as being `Truthy` and `Falsy`. "
   ]
  },
  {
   "cell_type": "markdown",
   "metadata": {
    "id": "SDPYEr-cniZV"
   },
   "source": [
    "Almost all values evaluate as True, as long as they have some sort of content. The exceptions are empty lists and similar data types, the number 0, and the value `None`."
   ]
  },
  {
   "cell_type": "code",
   "execution_count": null,
   "metadata": {
    "id": "BWKmHB7tnzdR"
   },
   "outputs": [],
   "source": [
    "print(bool(False))\n",
    "print(bool(None))\n",
    "print(bool(0))\n",
    "print(bool(\"\"))\n",
    "print(bool(()))\n",
    "print(bool([]))\n",
    "print(bool({}))"
   ]
  },
  {
   "cell_type": "markdown",
   "metadata": {
    "id": "XA-lCyFNoPCw"
   },
   "source": [
    "**Checking data types** <br>\n",
    "One way to check the data type of a variable is with the built-in `isinstance()` Python function. The `isinstance()` function returns `True` or `False` if the variable is of that data type."
   ]
  },
  {
   "cell_type": "code",
   "execution_count": null,
   "metadata": {
    "id": "BzDj8fQbpxRb"
   },
   "outputs": [],
   "source": [
    "x = 100\n",
    "print(isinstance(x, int))\n",
    "y = 3.0\n",
    "print(isinstance(y, float))\n",
    "z = \"hello\"\n",
    "print(isinstance(y, bool))"
   ]
  },
  {
   "cell_type": "markdown",
   "metadata": {
    "id": "WthPj18BjilX"
   },
   "source": [
    "##Operators"
   ]
  },
  {
   "cell_type": "markdown",
   "metadata": {
    "id": "hiTxGiWJjkZa"
   },
   "source": [
    "Now that we have learned how to create variables, let's learn how to manipulate them. Operators are used to perform operations on variables and values."
   ]
  },
  {
   "cell_type": "markdown",
   "metadata": {
    "id": "UYvVQQ2Hlv6j"
   },
   "source": [
    "**Arithmetic operators** are used to perform common mathematical operations. Try manipulating `x` and `y` below to see how each operation behaves."
   ]
  },
  {
   "cell_type": "code",
   "execution_count": null,
   "metadata": {
    "id": "uBrUPZyIjxQM"
   },
   "outputs": [],
   "source": [
    "x = \n",
    "y = \n",
    "print(x + y) #addition\n",
    "print(x - y) #subtraction\n",
    "print(x * y) #multiplication\n",
    "print(x / y) #division\n",
    "print(x ** y) #exponentiation\n",
    "print(x % y) #remainder after division\n",
    "print(x // y) #floor division (rounds down)"
   ]
  },
  {
   "cell_type": "markdown",
   "metadata": {
    "id": "wI6f9SQFvhMB"
   },
   "source": [
    "The **+** operator can also be used to combine (or \"concatenate\") strings together."
   ]
  },
  {
   "cell_type": "code",
   "execution_count": null,
   "metadata": {
    "id": "9hjusuZtvgd_"
   },
   "outputs": [],
   "source": [
    "x = \"I love \"\n",
    "y = \"Cognitive Neuroscience!\"\n",
    "print(x + y)"
   ]
  },
  {
   "cell_type": "markdown",
   "metadata": {
    "id": "gEuOKVDvvwig"
   },
   "source": [
    "What happens when you try and combine different data types? How would we get the print statement to work using casting?"
   ]
  },
  {
   "cell_type": "code",
   "execution_count": null,
   "metadata": {
    "id": "5b_L6osLqO8b"
   },
   "outputs": [],
   "source": [
    "x = 7\n",
    "y = \" days in a week\"\n",
    "print(x + y)"
   ]
  },
  {
   "cell_type": "markdown",
   "metadata": {
    "id": "Movn9_39E6rM"
   },
   "source": [
    "What happens when you try and combine compatiable data types but with, different operators? "
   ]
  },
  {
   "cell_type": "code",
   "execution_count": null,
   "metadata": {
    "id": "CIkKyfr0FT8-"
   },
   "outputs": [],
   "source": [
    "a = 'I love learning Python'\n",
    "b = 'Computer Programming'\n",
    "\n",
    "print(a - b)"
   ]
  },
  {
   "cell_type": "markdown",
   "metadata": {
    "id": "QgsWRl3WF7Uq"
   },
   "source": [
    "---\n",
    "**Why might we want to print multiple variables like this in an experiment?**\n",
    "\n",
    "---"
   ]
  },
  {
   "cell_type": "markdown",
   "metadata": {
    "id": "8rcmkBm6wFqu"
   },
   "source": [
    "###**Exercise 3**\n",
    "Fix the code below so the output is \"Katy is 10 years old\", WITHOUT changing the variables. Hint: try casting!"
   ]
  },
  {
   "cell_type": "code",
   "execution_count": null,
   "metadata": {
    "id": "mWlGz00Cv2PJ"
   },
   "outputs": [],
   "source": [
    "x = \"Katy is \"\n",
    "y = 10.0\n",
    "z = \" years old.\"\n",
    "print(x + y + z) # <- change me"
   ]
  },
  {
   "cell_type": "markdown",
   "metadata": {
    "id": "i1hnZTnOn3Iy"
   },
   "source": [
    "**Assignment Operators** are shorthands used to quickly update the values of variables. They include:\n",
    "\n",
    "Operator | Same As\n",
    "-------- | --------\n",
    "x += 5 | x = x + 5\n",
    "x -= 5 | x = x - 5\n",
    "x *= 5 | x = x * 5\n",
    "x /= 5 | x = x / 5\n",
    "x **= 5 | x = x ** 5\n",
    "\n",
    "\n",
    "\n"
   ]
  },
  {
   "cell_type": "code",
   "execution_count": null,
   "metadata": {
    "id": "UD3dRqxIoFYg"
   },
   "outputs": [],
   "source": [
    "x = 5\n",
    "x += 10\n",
    "print(x)\n",
    "\n",
    "y = 5\n",
    "y *= 10\n",
    "print(y)"
   ]
  },
  {
   "cell_type": "markdown",
   "metadata": {
    "id": "UiQBmxkVqg7E"
   },
   "source": [
    "In particular, x+=1 is often used in `for` and `while` loops, which you will learn about next week."
   ]
  },
  {
   "cell_type": "markdown",
   "metadata": {
    "id": "joJoyCHppg5l"
   },
   "source": [
    "**Comparison Operators** are used to compare two values, and return a boolean."
   ]
  },
  {
   "cell_type": "code",
   "execution_count": null,
   "metadata": {
    "id": "XsAcZe002639"
   },
   "outputs": [],
   "source": [
    "x = \n",
    "y = \n",
    "print(x == y) #equal\n",
    "print(x != y) #not equal\n",
    "print(x > y) #greater than\n",
    "print(x < y) #less than\n",
    "print(x >= y) #greater than or equal to\n",
    "print(x <= y) # less than or equal to"
   ]
  },
  {
   "cell_type": "markdown",
   "metadata": {
    "id": "C88ahQQz3Xd5"
   },
   "source": [
    "Finally, **logical operators** are used to combine **conditional statements** (which we will expand upon below). \n",
    "\n",
    "The logical operators are `and`, `or`, and `not`. "
   ]
  },
  {
   "cell_type": "code",
   "execution_count": null,
   "metadata": {
    "id": "hZHl19av34rE"
   },
   "outputs": [],
   "source": [
    "# and returns True if both statements are True\n",
    "print(True and True)\n",
    "print(True and False)\n",
    "# or returns True if either statement is True\n",
    "print(True or False)\n",
    "print(False or False)\n",
    "# not changes True to False and False to True\n",
    "print(not True)\n",
    "print(not False)"
   ]
  },
  {
   "cell_type": "markdown",
   "metadata": {
    "id": "iCpQw41l35Go"
   },
   "source": [
    "All of these operators can be combined to create complicated conditional expressions. Parantheses are used to organize groups within these expression. For example: `((_____ or ______) or (_____ and ______))` returns a single boolean `True` or `False`.\n",
    "\n",
    "---\n",
    "\n",
    "**Before you run the cell below, what do you think the output will be?**"
   ]
  },
  {
   "cell_type": "code",
   "execution_count": null,
   "metadata": {
    "id": "sPnhhR0l3XIh"
   },
   "outputs": [],
   "source": [
    "a = 4\n",
    "b = 5\n",
    "c = 8\n",
    "d = 10\n",
    "print(a + b < c or (d%c == c/a and d > a))"
   ]
  },
  {
   "cell_type": "markdown",
   "metadata": {
    "id": "-NudojJy5B4r"
   },
   "source": [
    "###**Exercise 4**\n",
    "Fill in the following code to make the expression evaluate as `True`.\n",
    "\n",
    "Don't change the numbers, only the different operators available to you!"
   ]
  },
  {
   "cell_type": "code",
   "execution_count": null,
   "metadata": {
    "id": "kr9Aup_E5HCT"
   },
   "outputs": [],
   "source": [
    "x = 2\n",
    "y = 4\n",
    "z = 5\n",
    "print((z ... y < x and x ... y) and (z < y ... z < x * y))"
   ]
  },
  {
   "cell_type": "markdown",
   "metadata": {
    "id": "BPHesLM1s3t8"
   },
   "source": []
  },
  {
   "cell_type": "markdown",
   "metadata": {
    "id": "IztfcfwLtZVP"
   },
   "source": [
    "# Collections"
   ]
  },
  {
   "cell_type": "markdown",
   "metadata": {
    "id": "0D1vzHLUtbKr"
   },
   "source": [
    "Sometimes when we program, it is helpful to keep track of many values at the same time. Variables that store multiple values are known as **collections**. "
   ]
  },
  {
   "cell_type": "markdown",
   "metadata": {
    "id": "4nScgZ0utlmx"
   },
   "source": [
    "## Lists"
   ]
  },
  {
   "cell_type": "markdown",
   "metadata": {
    "id": "axmOkp_EtnRb"
   },
   "source": [
    "The most common kind of Python collection is the **list**. A list is an ordered list of values that can be indexed by designating a particular position in that list. Lists are created using square brackets."
   ]
  },
  {
   "cell_type": "code",
   "execution_count": null,
   "metadata": {
    "id": "Yci8AUmoty6O"
   },
   "outputs": [],
   "source": [
    "names = [\"Zach\", \"Ashley\", \"Katlynn\"]\n",
    "print(names[0])"
   ]
  },
  {
   "cell_type": "markdown",
   "metadata": {
    "id": "4d6UoM3ouHju"
   },
   "source": [
    "We can add values to a list by using the `.append()` method, like below. There are lots of other methods as well. If you are interested, see here! https://www.w3schools.com/python/python_ref_list.asp"
   ]
  },
  {
   "cell_type": "code",
   "execution_count": null,
   "metadata": {
    "id": "oixX0CaHuMgQ"
   },
   "outputs": [],
   "source": [
    "names.append(\"Miles\")\n",
    "names"
   ]
  },
  {
   "cell_type": "markdown",
   "metadata": {
    "id": "e0mdHoLjuVJq"
   },
   "source": [
    "We can also easily change the element of a list."
   ]
  },
  {
   "cell_type": "code",
   "execution_count": null,
   "metadata": {
    "id": "bXGEkfaTuYeM"
   },
   "outputs": [],
   "source": [
    "names[2] = \"Look it changed!\"\n",
    "names"
   ]
  },
  {
   "cell_type": "markdown",
   "metadata": {
    "id": "y6LQEBWSuRc1"
   },
   "source": [
    "There are all sorts of details when it comes to how we **index** lists. Check out the examples below!"
   ]
  },
  {
   "cell_type": "code",
   "execution_count": null,
   "metadata": {
    "id": "qB0JrRLou6ho"
   },
   "outputs": [],
   "source": [
    "myfruits = [\"apple\", \"banana\", \"apricot\", \"orange\", \"watermelon\"]\n",
    "print(myfruits[0]) #the counting starts at 0, not 1!\n",
    "print(myfruits[:]) #selecting all with :\n",
    "print(myfruits[-1]) #going backwards from the end with -\n",
    "print(myfruits[1:4]) #getting just some of elements\n",
    "print(myfruits[0:5:2]) #getting every second element starting from index 0 through 5"
   ]
  },
  {
   "cell_type": "markdown",
   "metadata": {
    "id": "-ZaNgeUVyxkA"
   },
   "source": [
    "Finally, lists can contain all sorts of information, not just strings! Any variable type can be contained in a list, even other lists and collections."
   ]
  },
  {
   "cell_type": "code",
   "execution_count": null,
   "metadata": {
    "id": "OOgGwOY9y4BH"
   },
   "outputs": [],
   "source": [
    "my_crazy_list = [5, \"apple\", [True, \"bacon\"], 3.14]\n",
    "my_crazy_list"
   ]
  },
  {
   "cell_type": "markdown",
   "metadata": {
    "id": "fHSbUxYVyjuZ"
   },
   "source": [
    "## Dictionaries"
   ]
  },
  {
   "cell_type": "markdown",
   "metadata": {
    "id": "ctLkdjUMyt8t"
   },
   "source": [
    "While lists are great, sometimes an index is not very informative as to which information is contained within. For example, which would you expect the output of `mydefinitions[1]` to be? Without looking at the `mydefinitions` list it would be impossible to tell.\n",
    "\n",
    "In such cases, it is often useful to give each value a label that corresponds to it. This label is known as a `key`, and the keys and values form `key: value` pairs. This kind of collection is known as a dictionary, which makes sense! Dictionaries in real life have many words (the keys) and for each word an associated definition."
   ]
  },
  {
   "cell_type": "code",
   "execution_count": null,
   "metadata": {
    "id": "JU6JqVNoymEb"
   },
   "outputs": [],
   "source": [
    "mydefinitions = {'apple': 'a delicious red fruit, great for pies', 'banana': 'also delicious, but maybe not for pies'}\n",
    "print(mydefinitions['apple'])"
   ]
  },
  {
   "cell_type": "markdown",
   "metadata": {
    "id": "PA6EI4RKz4-r"
   },
   "source": [
    "As you can see, `mydefinitions['apple']` is immediately suggestive of what the output might be, unlike `mydefinitions[1]`."
   ]
  },
  {
   "cell_type": "markdown",
   "metadata": {
    "id": "DAhoQfOC30Df"
   },
   "source": [
    "And that is it for today! Great work, really. Homework this week is to go to https://www.anaconda.com/products/distribution and download it on to your computer. This contains all sorts of amazing tools for programming in Python, such as **Jupyter Notebook**, **PyCharm**, and **Spyder**, three excellent tools for running python locally on your device. We'll need it!"
   ]
  }
 ],
 "metadata": {
  "colab": {
   "collapsed_sections": [],
   "provenance": [],
   "toc_visible": true
  },
  "kernelspec": {
   "display_name": "Python 3 (ipykernel)",
   "language": "python",
   "name": "python3"
  },
  "language_info": {
   "codemirror_mode": {
    "name": "ipython",
    "version": 3
   },
   "file_extension": ".py",
   "mimetype": "text/x-python",
   "name": "python",
   "nbconvert_exporter": "python",
   "pygments_lexer": "ipython3",
   "version": "3.9.13"
  }
 },
 "nbformat": 4,
 "nbformat_minor": 1
}
