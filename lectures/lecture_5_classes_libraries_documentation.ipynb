{
  "nbformat": 4,
  "nbformat_minor": 0,
  "metadata": {
    "colab": {
      "name": "lecture_5_classes-libraries-documentation.ipynb",
      "provenance": [],
      "toc_visible": true,
      "authorship_tag": "ABX9TyO2++I2xAR97j82V3MQnahy",
      "include_colab_link": true
    },
    "kernelspec": {
      "name": "python3",
      "display_name": "Python 3"
    },
    "language_info": {
      "name": "python"
    }
  },
  "cells": [
    {
      "cell_type": "markdown",
      "metadata": {
        "id": "view-in-github",
        "colab_type": "text"
      },
      "source": [
        "<a href=\"https://colab.research.google.com/github/Duke-CNRI/python-intro/blob/main/lectures/lecture_5_classes_libraries_documentation.ipynb\" target=\"_parent\"><img src=\"https://colab.research.google.com/assets/colab-badge.svg\" alt=\"Open In Colab\"/></a>"
      ]
    },
    {
      "cell_type": "markdown",
      "metadata": {
        "id": "Un5YZpOJmqfm"
      },
      "source": [
        "# Class 5: Moving beyond base Python! Libraries, Packages, Documentation, oh my!\n",
        "\n",
        "Created by Abby Hsiung\n",
        "\n",
        "Today, we will branch out beyond base python to look at some cool tools that will make building an experiment `much` easier and more fun! \n",
        "\n",
        "## Objectives:\n",
        "To learn about how we call, use, and understand `libraries`. To introduce and take an overview of `PsychoPy`\n",
        "\n",
        "## Learning Outcomes:\n",
        "- Know what packages/libraries are and why they're important\n",
        "- Understand the relationship between classes and libraries\n",
        "- Learn how to import a library in Google Collab\n",
        "- Learn where to search for information about a library \n",
        "- Download and open `PsychoPy` IDE\n",
        "\n",
        "## Homework:\n",
        "- Download and open `PsychoPy` IDE \n",
        "- HW 3: PsychoPy practice 1\n",
        "\n",
        "---\n"
      ]
    },
    {
      "cell_type": "markdown",
      "metadata": {
        "id": "y1649ppPq4xR"
      },
      "source": [
        "## What's the deal with classes?\n",
        "\n",
        "As we saw in the previous lecture, `functions` are super great -- they can help us reduce our code duplication, keep our code clean and easy to read, and can be more efficient to run!\n",
        "\n",
        "We also touched on `methods`, functions that are specific to (or _belong to_) a particular `class`. For example the method `append` _belongs to_ the class of `lists` and its functional use is limited/restricted to `lists`. \n",
        "\n",
        "**What exactly is a class?**\n",
        "\n",
        "Generally, `classes` are like templates that help us build things (usually called `objects` when talking about the general thing being built or an `instance` when referring to a specific moment of a thing being built).\n",
        "\n",
        "Why use classes? Why not just build functions forever? Without getting too much into the nitty gritty, classes help keep our code and programming _even_ lighter and more flexible. Basically, classes help us package code into discrete chunks (often called `modules`) that keep the details hidden away, allowing for easy-to-read (abstract), \"clean\" code. \n",
        "\n",
        "What kind of code gets \"packaged into discrete chunks\"? When we think about creating a template, we typically want to think about _what_ is going into that template and _how_ we want it to work together. This might feel a bit too abstract so...\n",
        "\n",
        "Let's get started with an example:\n",
        "\n",
        "```\n",
        "class Cat:\n",
        "```\n",
        "\n",
        "In this class, I am creating a template to make a cat (maybe I'm making a video game to test how fast people approach cats???)\n",
        "\n",
        "If I'm creating this template, I might think about _what features of a cat do I want to include here_. \n",
        "\n",
        "I might want to include:\n",
        "- The color of the car\n",
        "- The size\n",
        "- What their name is\n",
        "- What their nickname is\n",
        "\n",
        "These are called `attributes`! And we can add them into our class similarly to how you add arguments in functions. \n",
        "\n",
        "```\n",
        "class Cat:\n",
        "  def __init__(self, color, size, name, nickname):\n",
        "```\n",
        "\n",
        "To set attributes in classes, we use `def __init__` which _constructs_ our object. To that constructor, we add the `self` (the specific instances we're creating -- this will make more sense later) and all of our `attributes` much like arguments in functions. We then add these attributes to the self (like assigning these attributes to that specific...cat). \n",
        "\n",
        "```\n",
        "class Cat:\n",
        "  def __init__(self, color, size, name, nickname):\n",
        "    self.color = color\n",
        "    self.size = size\n",
        "    self.name = name\n",
        "    self.nickname = nickname\n",
        "```\n",
        "\n",
        "So if we were to create a cat, how would we do that?"
      ]
    },
    {
      "cell_type": "code",
      "metadata": {
        "id": "5X0b7qTJl9_1"
      },
      "source": [
        "# define class Cat\n",
        "class Cat:\n",
        "  def __init__(self, color, size, name, nickname):\n",
        "    self.color = color\n",
        "    self.size = size\n",
        "    self.name = name\n",
        "    self.nickname = nickname"
      ],
      "execution_count": 1,
      "outputs": []
    },
    {
      "cell_type": "code",
      "metadata": {
        "id": "GK44MFn42t91"
      },
      "source": [
        "my_cat = Cat('black', 'slim', 'Millie', 'Tiny Munchkin')"
      ],
      "execution_count": 4,
      "outputs": []
    },
    {
      "cell_type": "code",
      "metadata": {
        "colab": {
          "base_uri": "https://localhost:8080/",
          "height": 35
        },
        "id": "wid2p6nO3EIn",
        "outputId": "274e7675-a169-4688-dbec-2301dc5ca37b"
      },
      "source": [
        "my_cat.nickname"
      ],
      "execution_count": 6,
      "outputs": [
        {
          "output_type": "execute_result",
          "data": {
            "application/vnd.google.colaboratory.intrinsic+json": {
              "type": "string"
            },
            "text/plain": [
              "'Tiny Munchkin'"
            ]
          },
          "metadata": {},
          "execution_count": 6
        }
      ]
    },
    {
      "cell_type": "markdown",
      "metadata": {
        "id": "MsqIAJoK3Opl"
      },
      "source": [
        "Meet Millie, aka Tiny Munchkin! \n",
        "\n",
        "We can access all of `my_cat`'s attributes through the 'dot' syntax (remember from the last class!). Except this time, because something is an `attribute`, you don't need the `()` afterwards; it's not a function just a descriptive (some light foreshadowing here...).\n",
        "\n",
        "Cats, importantly, don't just have attributes, they can _do stuff_. So the next part of our class might give use a template of _how we want our cats to work_. \n",
        "\n",
        "```\n",
        "class Cat:\n",
        "  def __init__(self, color, size, name, nickname):\n",
        "    self.color = color\n",
        "    self.size = size\n",
        "    self.name = name\n",
        "    self.nickname = nickname\n",
        "\n",
        "  def purr(self):\n",
        "    print('Purring...')\n",
        "\n",
        "  def headbutt(self):\n",
        "    print('Head butting...')\n",
        "\n",
        "  def find_weight(self):\n",
        "    return self.size\n",
        "```\n",
        "\n",
        "Similar to what we went over last time, these _do stuff_ things are functions (defined using `def` and taking in arguments x, y, and z). However, because they are contained within a class, they are _specific to that class_, so...they're methods!\n",
        "\n",
        "We can use these methods the same way we can for other classes..."
      ]
    },
    {
      "cell_type": "code",
      "metadata": {
        "id": "CkJ1JJq63H7C"
      },
      "source": [
        "class Cat:\n",
        "  def __init__(self, color, size, name, nickname):\n",
        "    self.color = color\n",
        "    self.size = size\n",
        "    self.name = name\n",
        "    self.nickname = nickname\n",
        "\n",
        "  def purr(self):\n",
        "    print('Purring...')\n",
        "\n",
        "  def headbutt(self):\n",
        "    print('Head butting...')\n",
        "\n",
        "  def making_biscuits(self, number):\n",
        "    for i in range(number):\n",
        "      print('biscuit')\n",
        "\n",
        "  def find_weight(self):\n",
        "    return self.size"
      ],
      "execution_count": 2,
      "outputs": []
    },
    {
      "cell_type": "code",
      "metadata": {
        "id": "jSmlN2u0KHDS"
      },
      "source": [
        "my_other_cat = Cat('orange', 'chonk', 'Franklin', 'Bean Boy')"
      ],
      "execution_count": 3,
      "outputs": []
    },
    {
      "cell_type": "code",
      "metadata": {
        "colab": {
          "base_uri": "https://localhost:8080/"
        },
        "id": "n1C0cz3vKOKv",
        "outputId": "354ebc0c-9518-486f-efff-4d3578f8dbf9"
      },
      "source": [
        "my_other_cat.making_biscuits(4)"
      ],
      "execution_count": 14,
      "outputs": [
        {
          "output_type": "stream",
          "name": "stdout",
          "text": [
            "biscuit\n",
            "biscuit\n",
            "biscuit\n",
            "biscuit\n"
          ]
        }
      ]
    },
    {
      "cell_type": "markdown",
      "metadata": {
        "id": "rJSga-DCTQbP"
      },
      "source": [
        "Notice that when I went to call `making_biscuits`, I used the same \"dot\" syntax as with attributes but this time I _did_ incluce the `()` and even included the necessary argument `number`. That's because `making_biscuits` is a `method` -> it's not just describing the cat, it's giving that cat a function (or action). \n",
        "\n",
        "Now that we have two `instances` of our `Cat` class, it's important to note how Python can keep track of these independent calls. "
      ]
    },
    {
      "cell_type": "code",
      "metadata": {
        "colab": {
          "base_uri": "https://localhost:8080/"
        },
        "id": "NyTZYzvWSwDr",
        "outputId": "290d82dc-4f03-412e-fbde-a879cf3aa594"
      },
      "source": [
        "print(my_other_cat.find_weight())\n",
        "print(my_cat.find_weight())"
      ],
      "execution_count": 5,
      "outputs": [
        {
          "output_type": "stream",
          "name": "stdout",
          "text": [
            "chonk\n",
            "slim\n"
          ]
        }
      ]
    },
    {
      "cell_type": "markdown",
      "metadata": {
        "id": "2Cd369QpKXBu"
      },
      "source": [
        "This is where `self` notation really comes into play! The `Cat` class uses `self` as a reference -- to figure out which instance of the class is being called so it can respond accordingly. So, when we call the function `find_weight` on the instance of `my_other_cat` and `my_cat`, python knows which weight we want for each specific instance of the class.\n",
        "\n",
        "\n",
        "\n",
        "This is just a brief overview of what classes are and why we might want to use them. Classes are pretty powerful and are an integral part of **\"Object-Oriented Programming\"**. We won't really go into detail here but something to look up if you're interested!\n",
        "\n",
        "It's important to understand the basis of classes because this is the structure that's used to create packages and libraries!\n",
        "\n"
      ]
    },
    {
      "cell_type": "markdown",
      "metadata": {
        "id": "4I9YWTLbLIIP"
      },
      "source": [
        "## Packages & Libraries\n",
        "\n",
        "For our purposes, we will use `package` and `library` interchangeably. \n",
        "\n",
        "`Packages` are collections of modules (reusable pieces of code) and often modules include classes since they are easy templates to use, and use again, and use again...\n",
        "\n",
        "You don't need to worry too much about the details here or the specific terminology. But it's nice to keep these things in mind: \n",
        "- **Semantically** - Focus on the idea that packages and libraries are huge banks or reusable code that is going to be readable and farily elegant\n",
        "- **Syntactically** - Focus on using these packages similarly to how we've just described them (attributes + methods)"
      ]
    },
    {
      "cell_type": "markdown",
      "metadata": {
        "id": "VdHstCG0Nydi"
      },
      "source": [
        "Some examples of libraries that we will be using very soon are:\n",
        "- `NumPy`: library for much math stuff, linear algebra, random number generators\n",
        "- `Pandas`: library for dataframe viewing and manipulation\n",
        "- `Matplotlib`: library for data visualizations (also see: `Seaborn`)\n",
        "- `PsychoPy`: library for building psychological experiments!"
      ]
    },
    {
      "cell_type": "markdown",
      "metadata": {
        "id": "457wVQirQPgn"
      },
      "source": [
        "### Accessing and Using Libraries\n",
        "\n",
        "So, libraries offer a way to use pre-written classes and functions with many cool tools that we don't have to engineer ourselves. Awesome, quick question, _how do I get them_?\n",
        "\n",
        "This is where we are going to expand our knowledge outside of the domain of Google Colab. While Google Colab is great because it provides in-house access to many of the most standard python libraries, this doesn't really teach you the background of how we can get such packages to use on your own. \n",
        "\n",
        "So taking a step back, we will first review the concept of **package managers**."
      ]
    },
    {
      "cell_type": "markdown",
      "metadata": {
        "id": "Vr3w6M5nBf0C"
      },
      "source": [
        "#### **Package Managers**\n",
        "\n",
        "This will be an abridged version of package management but hopefully it'll get you thinking about the main elements.\n",
        "\n",
        "To start, each Python package does not come readily installed on every machine nor does in come with the basic installing of python. So, in order to access python libraries, we first have to install them where we want to use them.\n",
        "\n",
        "Not as simply as you might think! The key next step is after you install a library, you have to tell Python where this library lives on your computer so that Python can access it and allow you to use it. \n",
        "\n",
        "To help with this organizing (because we don't really want to have to do this), we use **package managers**! \n",
        "\n",
        "Package managers do as they say they will -- they manage your packages so you don't have to! This helps keep everything stored in streamline manners, making accessibility easy!\n",
        "\n",
        "For Python, the language comes with its own package manager: `pip`\n",
        "\n",
        "`pip` helps install, upgrade, and track your python packages. We can practice using `pip` below:"
      ]
    },
    {
      "cell_type": "code",
      "metadata": {
        "colab": {
          "base_uri": "https://localhost:8080/"
        },
        "id": "PCBzdIdYGYvi",
        "outputId": "ca3bc7d0-3f48-476a-b407-d0d768fd88c7"
      },
      "source": [
        "# to install new packages \n",
        "pip install seaborn"
      ],
      "execution_count": 7,
      "outputs": [
        {
          "output_type": "stream",
          "name": "stdout",
          "text": [
            "Requirement already satisfied: seaborn in /usr/local/lib/python3.7/dist-packages (0.11.2)\n",
            "Requirement already satisfied: scipy>=1.0 in /usr/local/lib/python3.7/dist-packages (from seaborn) (1.4.1)\n",
            "Requirement already satisfied: numpy>=1.15 in /usr/local/lib/python3.7/dist-packages (from seaborn) (1.19.5)\n",
            "Requirement already satisfied: pandas>=0.23 in /usr/local/lib/python3.7/dist-packages (from seaborn) (1.1.5)\n",
            "Requirement already satisfied: matplotlib>=2.2 in /usr/local/lib/python3.7/dist-packages (from seaborn) (3.2.2)\n",
            "Requirement already satisfied: python-dateutil>=2.1 in /usr/local/lib/python3.7/dist-packages (from matplotlib>=2.2->seaborn) (2.8.2)\n",
            "Requirement already satisfied: cycler>=0.10 in /usr/local/lib/python3.7/dist-packages (from matplotlib>=2.2->seaborn) (0.10.0)\n",
            "Requirement already satisfied: pyparsing!=2.0.4,!=2.1.2,!=2.1.6,>=2.0.1 in /usr/local/lib/python3.7/dist-packages (from matplotlib>=2.2->seaborn) (2.4.7)\n",
            "Requirement already satisfied: kiwisolver>=1.0.1 in /usr/local/lib/python3.7/dist-packages (from matplotlib>=2.2->seaborn) (1.3.2)\n",
            "Requirement already satisfied: six in /usr/local/lib/python3.7/dist-packages (from cycler>=0.10->matplotlib>=2.2->seaborn) (1.15.0)\n",
            "Requirement already satisfied: pytz>=2017.2 in /usr/local/lib/python3.7/dist-packages (from pandas>=0.23->seaborn) (2018.9)\n"
          ]
        }
      ]
    },
    {
      "cell_type": "code",
      "metadata": {
        "colab": {
          "base_uri": "https://localhost:8080/"
        },
        "id": "XQ-I8Bh6HXCG",
        "outputId": "7021488d-c052-4efe-a2cc-4cb0ee085bad"
      },
      "source": [
        "# to upgrade existing packages\n",
        "pip install seaborn --upgrade"
      ],
      "execution_count": 8,
      "outputs": [
        {
          "output_type": "stream",
          "name": "stdout",
          "text": [
            "Requirement already satisfied: seaborn in /usr/local/lib/python3.7/dist-packages (0.11.2)\n",
            "Requirement already satisfied: matplotlib>=2.2 in /usr/local/lib/python3.7/dist-packages (from seaborn) (3.2.2)\n",
            "Requirement already satisfied: numpy>=1.15 in /usr/local/lib/python3.7/dist-packages (from seaborn) (1.19.5)\n",
            "Requirement already satisfied: pandas>=0.23 in /usr/local/lib/python3.7/dist-packages (from seaborn) (1.1.5)\n",
            "Requirement already satisfied: scipy>=1.0 in /usr/local/lib/python3.7/dist-packages (from seaborn) (1.4.1)\n",
            "Requirement already satisfied: python-dateutil>=2.1 in /usr/local/lib/python3.7/dist-packages (from matplotlib>=2.2->seaborn) (2.8.2)\n",
            "Requirement already satisfied: kiwisolver>=1.0.1 in /usr/local/lib/python3.7/dist-packages (from matplotlib>=2.2->seaborn) (1.3.2)\n",
            "Requirement already satisfied: pyparsing!=2.0.4,!=2.1.2,!=2.1.6,>=2.0.1 in /usr/local/lib/python3.7/dist-packages (from matplotlib>=2.2->seaborn) (2.4.7)\n",
            "Requirement already satisfied: cycler>=0.10 in /usr/local/lib/python3.7/dist-packages (from matplotlib>=2.2->seaborn) (0.10.0)\n",
            "Requirement already satisfied: six in /usr/local/lib/python3.7/dist-packages (from cycler>=0.10->matplotlib>=2.2->seaborn) (1.15.0)\n",
            "Requirement already satisfied: pytz>=2017.2 in /usr/local/lib/python3.7/dist-packages (from pandas>=0.23->seaborn) (2018.9)\n"
          ]
        }
      ]
    },
    {
      "cell_type": "markdown",
      "metadata": {
        "id": "SmmuyRfJGynb"
      },
      "source": [
        "As you can see, `seaborn` is already installed on Google Colab and up to date but that's okay, `pip` helps make sure we don't have any duplicate copies! \n",
        "\n",
        "You can also get a lot of information from this output. What are some things you notice?"
      ]
    },
    {
      "cell_type": "markdown",
      "metadata": {
        "id": "qokznb34Hivs"
      },
      "source": [
        "_Sidenote: there are many many package managers and some that can manager packages across different languages (`pip` is specific to python). We won't review much more here but there's much more to be said for **package management**, creating **evironments**, etc. if you're interested!_"
      ]
    },
    {
      "cell_type": "markdown",
      "metadata": {
        "id": "JL8ng92TDH-y"
      },
      "source": [
        "#### **Dependencies**\n",
        "\n",
        "A dependency is code that is required for your program to function properly.\n",
        "\n",
        "So for example, if I created a script to help with my math homework, I might want to leverage some of the functions from the `NumPy` library. Now, say that my friend also wanted to use these same scripts. I am not averse to sharing, so I say sure and give her my code. But she comes back and says, \"hey, I can't run your code on my computer, what gives!\" \n",
        "\n",
        "Well, in short, one problem could be that I didn't tell her that in order to run my code, she would _noy only_ need base Python but she would _also_ need a version of `NumPy`! My code, therefore, it _dependent_ on `NumPy`.\n",
        "\n",
        "Packages themselves can also have their own dependencies. Managing all these dependencies can be hard, lots of different versions, lots of dependencies in dependencies. \n",
        "\n",
        "An important way that computer scientists keep track of all these dependencies is with a **`requirements.txt`** file. These files are standard in many types of programming and simply contain a list of all the packages and their versions that are needed to run a set of code. So, going back to my example, for my friend, I might also send a `.txt` file along with my script that reads:\n",
        "\n",
        "`requirements.txt`\n",
        "```\n",
        "numpy==1.19.5\n",
        "```\n",
        "\n",
        "`requirements.txt` will be important during your experiment design, so if anyone else wants to run your experiment, they'll be able to!"
      ]
    },
    {
      "cell_type": "markdown",
      "metadata": {
        "id": "htOd9pICO42R"
      },
      "source": [
        "#### **Importing**\n",
        "\n",
        "So now that I have some packages installed (we're going to pretend we did all the installation but Google Colab did most of it...), can I just start using them? Not quite! For each script that you write, you need to first tell Python what packages you'll be using so that Python can load in all those cool functions and make them available. \n",
        "\n",
        "For an introduction, we will look at `NumPy` but you will get a better sense of what `NumPy` specifically does a little later.\n",
        "\n",
        "The first question is how do we tell Python that we want to use a library?"
      ]
    },
    {
      "cell_type": "code",
      "metadata": {
        "id": "xWOnSYjBNxz1"
      },
      "source": [
        "import numpy as np # numpy is commonly abbreviated as 'np' but you can use the full numpy as well"
      ],
      "execution_count": 10,
      "outputs": []
    },
    {
      "cell_type": "markdown",
      "metadata": {
        "id": "Ssn70SGuIolE"
      },
      "source": [
        "Now, remembering what we learned from `classes`..."
      ]
    },
    {
      "cell_type": "code",
      "metadata": {
        "colab": {
          "base_uri": "https://localhost:8080/"
        },
        "id": "KZxf2yzFKQIQ",
        "outputId": "eb8d4255-36c5-460c-bb35-91a95f672eae"
      },
      "source": [
        "np.random.choice(9, 1) # a method of numpy, what is this method doing?"
      ],
      "execution_count": 21,
      "outputs": [
        {
          "output_type": "execute_result",
          "data": {
            "text/plain": [
              "array([8])"
            ]
          },
          "metadata": {},
          "execution_count": 21
        }
      ]
    },
    {
      "cell_type": "code",
      "metadata": {
        "colab": {
          "base_uri": "https://localhost:8080/",
          "height": 35
        },
        "id": "DhYFDrrxK9Kj",
        "outputId": "2c0b4b2d-4b87-43f1-964f-b48521a1f53e"
      },
      "source": [
        "np.__version__ # an attribute of numpy"
      ],
      "execution_count": 18,
      "outputs": [
        {
          "output_type": "execute_result",
          "data": {
            "application/vnd.google.colaboratory.intrinsic+json": {
              "type": "string"
            },
            "text/plain": [
              "'1.19.5'"
            ]
          },
          "metadata": {},
          "execution_count": 18
        }
      ]
    },
    {
      "cell_type": "markdown",
      "metadata": {
        "id": "tmljTOojI3cJ"
      },
      "source": [
        "Once you have a package imported, you are feel to use all of the functions and attributes that package has to offer! \n",
        "\n",
        "That's a lot of methods and attributes though... how do I know what to use? Or even more so, how do I know _how_ to use them?\n",
        "\n",
        "Well, much like in functions how you provide descriptions of what arguments a function takes, what the return value will be, etc. Libraries also have written descriptions! But since libraries are huge, we refer to these written descriptions as **Documentation**."
      ]
    },
    {
      "cell_type": "markdown",
      "metadata": {
        "id": "870evF5WQmET"
      },
      "source": [
        "### Documentation\n",
        "\n",
        "A written account of all these package related! So, as an example, let's check out the documentation for the function we used earlier, `np.random.choice()`. \n",
        "\n",
        "To find a library's documentation, we can just type the function name into Google (or if you're looking for a function, [library name] + [thing you want to do]).\n",
        "\n",
        "So let's try that out: [google search for np.random.choice](https://www.google.com/search?q=np.random.choice&oq=np.random.choice&aqs=chrome..69i57j0i512l9.8247j1j7&sourceid=chrome&ie=UTF-8)"
      ]
    },
    {
      "cell_type": "code",
      "metadata": {
        "id": "_CyXu_vPQlS8"
      },
      "source": [
        "# google colab also offers numpy documentation in-house!\n",
        "np.random.choice()"
      ],
      "execution_count": 12,
      "outputs": []
    },
    {
      "cell_type": "markdown",
      "metadata": {
        "id": "HSvCv5XbQngO"
      },
      "source": [
        "### Introducing PsychoPy!\n",
        "\n",
        "With that set up, it's time to introduce the main library we will be using for experimenta building: `PsychoPy`! \n",
        "\n",
        "`PsychoPy` is a library with functionality that is specifically written for coding and running behavioral experiments (can also be used to run neuroimaging tasks!). \n",
        "\n",
        "If you remember way back to our first class together, building at experiment requires some particular elements, can you think of what they are?\n",
        "\n",
        "- displaying stimuli\n",
        "- timing\n",
        "- listening for and collecting responses\n",
        "- writing out data to a dataframe\n",
        "\n",
        "Well, `PsychoPy` has specific classes to help provide a template to build all of these things!\n",
        "\n",
        "These classes are called:\n",
        "- `Visual`\n",
        "- `Core`\n",
        "- `Event`\n",
        "- `Data`\n",
        "\n",
        "We will start to explore these classes in the next couple classes, but first, we need to get `PsychoPy` onto your computers. And, unfortunately, we will need to say goodbye to Google Colab (just a brief one!). \n",
        "\n",
        "Because `PsychoPy` will be building and presenting things to your computer screen, we need to run it _locally_. This is different than how things work on Google Colab (harken but to our first class where we talked about virtual machines...). \n",
        "\n",
        "So! Let's get started then."
      ]
    },
    {
      "cell_type": "markdown",
      "metadata": {
        "id": "DfBIQCjFQz8M"
      },
      "source": [
        "Things can get quite messy installing `PsychoPy` so we're going to offer two ways to do it. One way is faster and probably easier but a bit limiting, the other way is more tediuous and requires a bit more effort but it also provides a good foundation for other scripting and coding outside of Google Colab.\n",
        "\n",
        "We are here to help with either option and have used both options many times!\n",
        "\n",
        "\n",
        "[Install Standalone PsychoPy here](https://www.psychopy.org/download.html) (easier installation option)\n",
        "\n",
        "[Install PsychoPy through Anaconda here](https://github.com/alexdsbreslav/python_for_uxr/tree/master/step1_download_tools) (intermediate installation option)\n"
      ]
    }
  ]
}