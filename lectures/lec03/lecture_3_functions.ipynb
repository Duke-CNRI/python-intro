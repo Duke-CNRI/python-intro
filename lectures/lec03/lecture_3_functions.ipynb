{
 "cells": [
  {
   "cell_type": "markdown",
   "metadata": {
    "id": "6tPTZtrGhZAF"
   },
   "source": [
    "# Class 3: An Introduction into Functions and other Building Blocks\n",
    "\n",
    "Created by Kevin O'Neill, edited by Abby Hsiung, and recreated by Raphael Geddert\n",
    "\n",
    "Welcome to week 3 of Introducing Python Programming! Today, we will be learning about `functions`, what they are, how we can create them, and what they can help us do! "
   ]
  },
  {
   "cell_type": "markdown",
   "metadata": {},
   "source": [
    "Remember, in Jupyter Notebook, you hit ctrl+enter to run a code block, or shift+enter to run it and immediately select the next block."
   ]
  },
  {
   "cell_type": "markdown",
   "metadata": {
    "id": "D4oR34DuUUXY"
   },
   "source": [
    "### Objective:\n",
    "\n",
    "To learn about how we create `functions` and how we can use both `functions` and `methods`. \n",
    "\n",
    "### Learning Outcomes:\n",
    "- Know the building blocks for defining `functions`\n",
    "- Learn about how to use `functions` to transform data\n",
    "- Learn the different ways to create `functions`\n",
    "- Learn the difference between `functions` and `methods`\n",
    "\n",
    "### Homeworks:\n",
    "- Finish reviewing this Notebook\n",
    "- Write a project proposal with your partner by next week"
   ]
  },
  {
   "cell_type": "markdown",
   "metadata": {
    "id": "6F6FBMavUaIT"
   },
   "source": [
    "---"
   ]
  },
  {
   "cell_type": "markdown",
   "metadata": {
    "id": "e1iaTP6Td1wR"
   },
   "source": [
    "This is also the first time we are using a \"helper function(s)\". Helper functions are blocks of code that you don't need to worry about understanding, they just help make some of our work in this notebook easier! \n",
    "\n",
    "*For a bonus though, you can practice annotating (using comments `#`) to try and understand what is happening in the function below*"
   ]
  },
  {
   "cell_type": "code",
   "execution_count": null,
   "metadata": {
    "id": "nghl1PCWU6JT"
   },
   "outputs": [],
   "source": [
    "#@title Helper functions (click play before starting the notebook!)\n",
    "import math, random, time\n",
    "\n",
    "def printStimuli(*args, buffer=' ', width=30, clearLines=1):\n",
    "  \"\"\"Print one or more strings centered within a buffer of size 'width', \n",
    "  deleting 'clearLines' lines of text above the printed text.\n",
    "\n",
    "  Note: this does *not* print a newline after the output.\n",
    "  \"\"\"\n",
    "  if sum(list(map(len, args))) > width:\n",
    "    raise ValueError('arguments too wide to fit in buffer')\n",
    "\n",
    "  if len(args) == 0:\n",
    "    text = buffer * width\n",
    "  else:\n",
    "    text = ''\n",
    "    for a in args:\n",
    "      text += '{:^{width}}'\n",
    "    text = text.format(*args, width=math.floor(width / len(args)))\n",
    "\n",
    "  if clearLines <= 0:\n",
    "    text = '\\n' + text\n",
    "  else:\n",
    "    text = '\\b' * (width*clearLines) + text\n",
    "\n",
    "  print(text, end='')"
   ]
  },
  {
   "cell_type": "markdown",
   "metadata": {
    "id": "5aOKsZUvLWp-"
   },
   "source": [
    "## Review of Lists and Loops\n",
    "\n",
    "In the last lab, we talked about how to run a block of code multiple times using loops and lists. Loops are great because you can turn a long list of repetitive code like this:"
   ]
  },
  {
   "cell_type": "code",
   "execution_count": null,
   "metadata": {
    "id": "f77IEMBfKp__"
   },
   "outputs": [],
   "source": [
    "file1 = 'image_01.png'\n",
    "file2 = 'image_02.png'\n",
    "file3 = 'image_03.png'\n",
    "file4 = 'image_04.png'\n",
    "file5 = 'image_05.png'\n",
    "\n",
    "print(file1, file2, file3, file4, file5)"
   ]
  },
  {
   "cell_type": "markdown",
   "metadata": {
    "id": "7s8mJ5BBLVpy"
   },
   "source": [
    "into something more compact + readable like this:"
   ]
  },
  {
   "cell_type": "code",
   "execution_count": null,
   "metadata": {
    "id": "gxi_zLaZCeO_"
   },
   "outputs": [],
   "source": [
    "files = []\n",
    "for i in range(5):\n",
    "  files.append(f'image_0{i+1}.png')\n",
    "print(files)"
   ]
  },
  {
   "cell_type": "markdown",
   "metadata": {
    "id": "fy-6Dlw_ChMt"
   },
   "source": [
    "Now instead of five different variables to keep track of, we instead have a nice, compact single variable that is one list of filenames. But what happens if the code we need to repeat isn't so simple? What if we don't know what code we need to repeat yet? Or what if we might need to change what happens in the code later on? As we'll see, loops don't always solve our problems."
   ]
  },
  {
   "cell_type": "markdown",
   "metadata": {
    "id": "og0OPLGeJNl3"
   },
   "source": [
    "## Building Experimental Blocks\n"
   ]
  },
  {
   "cell_type": "markdown",
   "metadata": {
    "id": "kP5mnhfrJtDQ"
   },
   "source": [
    "When programming an experiment, it is natural to think of things in terms of the steps that take place in each trial. A typical task looks something like this:\n",
    "\n",
    "```python\n",
    "trials = 20\n",
    "for trial in range(trials):\n",
    "  # \n",
    "  # display a blank screen\n",
    "  # ...\n",
    "  #\n",
    "  # display a fixation cross\n",
    "  # ...\n",
    "  #\n",
    "  # display some stimulus\n",
    "  # ...\n",
    "  #\n",
    "  # record a response\n",
    "  # ...\n",
    "  #\n",
    "  # give feedback\n",
    "  # ...\n",
    "```\n",
    "\n",
    "That is, each trial starts with a blank screen, followed by a fixation cross. After the fixation cross a stimulus is presented and the participant makes a response. Finally, the participant is given feedback about whether their response is correct."
   ]
  },
  {
   "cell_type": "markdown",
   "metadata": {
    "id": "ZqpQlmhNQpq4"
   },
   "source": [
    "But with all of the code in a single for loop, things can get pretty messy. For example, here is code for a simple **delayed match to response task**. In this task, your only goal is to remember a stimulus, then report it after a short delay. The code uses a helper function `printStimuli` to display text to the screen. Don't worry about figuring out all the details for now, but see if you can make sense of what the code is doing:\n",
    "\n",
    "(We're going to first go through the code at a general, overview level. We will then step closer to see what each piece of the code is doing!)"
   ]
  },
  {
   "cell_type": "code",
   "execution_count": null,
   "metadata": {
    "id": "MvQ4MJkLUgJ1"
   },
   "outputs": [],
   "source": [
    "## experiment parameters\n",
    "letters = ['A', 'B', 'C', 'D']    # stimuli that can appear\n",
    "trials = 3                        # number of trials\n",
    "display_time = 0.2                # time (s) that the stimulus is shown\n",
    "delay = 3                         # time (s) between stimulus presentation & recognition\n",
    "ITI = 1                           # inter-trial interval (s)\n",
    "\n",
    "## experiment data (start off empty)\n",
    "data = {'target': [None]*trials,\n",
    "        'lure': [None]*trials,\n",
    "        'correct': [None]*trials}\n",
    "\n",
    "for trial in range(trials):\n",
    "  # randomly choose two stimuli (the first will be the target)\n",
    "  stim = random.sample(letters, 2)\n",
    "  data['target'][trial] = stim[0]\n",
    "  data['lure'][trial] = stim[1]\n",
    "\n",
    "  # display a blank screen\n",
    "  printStimuli('')\n",
    "  time.sleep(ITI)\n",
    "\n",
    "  # display a fixation cross\n",
    "  printStimuli('+')\n",
    "  time.sleep(ITI)\n",
    "\n",
    "  # display the target stimulus\n",
    "  printStimuli(data['target'][trial])\n",
    "  time.sleep(display_time)\n",
    "\n",
    "  # display a blank screen during the delay\n",
    "  printStimuli()\n",
    "  time.sleep(delay)\n",
    "\n",
    "  # display the two choices in random order\n",
    "  if random.random() > .5:\n",
    "    printStimuli(data['target'][trial], data['lure'][trial])\n",
    "  else:\n",
    "    printStimuli(data['lure'][trial], data['target'][trial])\n",
    "  \n",
    "  # get the participant's response\n",
    "  text = input()\n",
    "  print('\\b', end='')\n",
    "  \n",
    "  if text.upper() == stim[0]:\n",
    "    printStimuli('Correct :)')\n",
    "    data['correct'][trial] = 1\n",
    "  else:\n",
    "    printStimuli('Incorrect :(')\n",
    "    data['correct'][trial] = 0\n",
    "  time.sleep(ITI)\n",
    "\n",
    "printStimuli(f\"You got {sum(data['correct'])} out of {trials} correct.\")\n"
   ]
  },
  {
   "cell_type": "markdown",
   "metadata": {
    "id": "JREPmuRWX7Gl"
   },
   "source": [
    "It's not that easy, is it? When there's that much code inside of our loop, that makes it hard to figure out where variables are initialized and what each line of code does. While the code *works*, it's not very intuitive. Even if you wrote the code yourself, you'd probably have a hard time going through it in a year or two. The question is, is there a better way?"
   ]
  },
  {
   "cell_type": "markdown",
   "metadata": {
    "id": "ddql2pIeDG-f"
   },
   "source": [
    "# Functions\n",
    "\n",
    "As we saw above, sometimes it can get clunky to have all of your code laid out inside a for loop if a lot happens inside of that loop. To figure out how to solve this problem, we need functions. Before using functions to make our lives easier, however, we have to first understand **what functions are.**"
   ]
  },
  {
   "cell_type": "markdown",
   "metadata": {
    "id": "WplUPOkvJmoi"
   },
   "source": [
    "## What is a function?\n",
    "Simply put, a function maps inputs to outputs. So basically, you _give_ a function something, the function does its function-y things and _spits out_ something transformed. \n",
    "\n",
    "You've already encountered lots of functions already, actually! Take the `max` function, for instance, which takes some numbers and tells you which number is the largest:"
   ]
  },
  {
   "cell_type": "code",
   "execution_count": null,
   "metadata": {
    "id": "yNF_v6ccDXHw"
   },
   "outputs": [],
   "source": [
    "print(max)\n",
    "print(type(max))"
   ]
  },
  {
   "cell_type": "markdown",
   "metadata": {
    "id": "FOFdRuwMEJOs"
   },
   "source": [
    "As you can see, these are called \"build-in functions\" because they come standard with base Python.\n",
    "\n",
    "Here, we are just printing the `max` function itself. Python tells us that this is a function, but since there are no parentheses after the `max`, we have not called (or executed) the function yet."
   ]
  },
  {
   "cell_type": "code",
   "execution_count": null,
   "metadata": {
    "id": "JiPt5WpaGDpV"
   },
   "outputs": [],
   "source": [
    "max(1, 2, 3)"
   ]
  },
  {
   "cell_type": "markdown",
   "metadata": {
    "id": "HxsDA98lGPlE"
   },
   "source": [
    "In this block, we *called* the `max` function by giving it some *arguments* (1, 2, and 3) in parentheses. When we call a function on some arguments, we get a *return value*, which in this case corresponds to the largest argument given to `max` (3).\n",
    "\n",
    "In the case of the `max` function, it's pretty obvious from the name of the function what the function does: it gives the max of some numbers. But when it isn't very obvious, we can always ask Python for some help:"
   ]
  },
  {
   "cell_type": "code",
   "execution_count": null,
   "metadata": {
    "id": "kWMl-rpiGIGS"
   },
   "outputs": [],
   "source": [
    "help(max)"
   ]
  },
  {
   "cell_type": "markdown",
   "metadata": {
    "id": "DmUDUuAKG1_c"
   },
   "source": [
    "This documentation says that there are two definitions of `max`: one that uses an iterable (like a list), and one that takes the numbers individually. This lets us know that if we want to, we can also call `max` this way:"
   ]
  },
  {
   "cell_type": "code",
   "execution_count": null,
   "metadata": {
    "id": "5T3U1FhLHMlR"
   },
   "outputs": [],
   "source": [
    "max([1, 2, 3])"
   ]
  },
  {
   "cell_type": "markdown",
   "metadata": {
    "id": "2QqovXLJKL98"
   },
   "source": [
    "## Who needs functions?\n",
    "\n",
    "When programming, we use functions for three main reasons: **code duplication**, **abstraction**, and **efficiency**. Let's take a look at each of these reasons individually."
   ]
  },
  {
   "cell_type": "markdown",
   "metadata": {
    "id": "aqeUFnPLPok0"
   },
   "source": [
    "### **Code duplication**\n",
    "\n",
    "One huge reason that functions are so important is that when we write a function, we know that we will never have to write that same piece of code again. Loops can help us limit the amount of code that we duplicate, but they can only go so far.\n",
    "\n",
    "Consider the `max` function again: what would it be like to program without this function? What would you need to do? For instance, let's say we have some lists storing participants' average task accuracy, their average response time, their age, and their IQ, and we want to compute the maximum of each variable. Without the `max` function, we would need to figure out how to calculate the maximum of a list and write out the code to do that every single time we wanted to calculate a maximum."
   ]
  },
  {
   "cell_type": "markdown",
   "metadata": {},
   "source": [
    "Here is the code to find the max of a list of numbers manually."
   ]
  },
  {
   "cell_type": "code",
   "execution_count": null,
   "metadata": {},
   "outputs": [],
   "source": [
    "my_list_of_numbers = [1,2,4,3,5,2]\n",
    "\n",
    "max_num = my_list_of_numbers[0]\n",
    "print(f'Max num starts as {max_num}')\n",
    "for num in my_list_of_numbers:\n",
    "    print(f'Trying num: {num}')\n",
    "    if num > max_num:\n",
    "        print(f'{num} is greater than max_num ({max_num}). Setting max_num to {num}.')\n",
    "        max_num = num"
   ]
  },
  {
   "cell_type": "markdown",
   "metadata": {},
   "source": [
    "What is we had lots of variables in an experiment? We might need to find the max of all of these numbers. Here is what that would look like:"
   ]
  },
  {
   "cell_type": "code",
   "execution_count": null,
   "metadata": {
    "id": "-1JRWKolRBX1"
   },
   "outputs": [],
   "source": [
    "accuracy = [.54, .83, .39, .60, .92]\n",
    "rt = [2.4, 1.2, 5.6, 4.1, 3.9]\n",
    "age = [19, 22, 27, 32, 20]\n",
    "iq = [122, 118, 117, 132, 146]\n",
    "\n",
    "max_accuracy = accuracy[0]\n",
    "for a in accuracy:\n",
    "  if a > max_accuracy:\n",
    "    max_accuracy = a\n",
    "\n",
    "max_rt = rt[0]\n",
    "for r in rt:\n",
    "  if r > max_rt:\n",
    "    max_rt = r\n",
    "\n",
    "max_age = age[0]\n",
    "for ag in age:\n",
    "  if a > max_age:\n",
    "    max_age = a\n",
    "\n",
    "max_iq = iq[0]\n",
    "for i in iq:\n",
    "  if i > max_iq:\n",
    "    max_rt = i\n",
    "\n",
    "print(max_accuracy) #max should be .92\n",
    "print(max_rt) #max should 5.6\n",
    "print(max_age) #max should be 32\n",
    "print(max_iq) #max should be 146"
   ]
  },
  {
   "cell_type": "markdown",
   "metadata": {
    "id": "7Tw70Ga1UQSP"
   },
   "source": [
    "There are two major problems with this. First, it makes your code much, much longer! If we used the `max` function, we would only need a single line to calculate each maximum. Second, doing things this way is *effortful*, and almost always leads to bugs in your code. For example, **the code above actually has two different bugs! Can you find them?** These bugs are hard to find because the duplicated code looks so similar, and because if you need to make changes to the duplicated code, it's very hard to remember every single place you need to make this change to."
   ]
  },
  {
   "cell_type": "markdown",
   "metadata": {},
   "source": [
    "Instead, we of course just use the max function. This makes the code much much shorter, easier to read, and best of all, much easier to find bugs in."
   ]
  },
  {
   "cell_type": "code",
   "execution_count": null,
   "metadata": {},
   "outputs": [],
   "source": [
    "accuracy = [.54, .83, .39, .60, .92]\n",
    "rt = [2.4, 1.2, 5.6, 4.1, 3.9]\n",
    "age = [19, 22, 27, 32, 20]\n",
    "iq = [122, 118, 117, 132, 146]\n",
    "\n",
    "print(max(accuracy))\n",
    "print(max(rt))\n",
    "print(max(age))\n",
    "print(max(iq))"
   ]
  },
  {
   "cell_type": "markdown",
   "metadata": {
    "id": "P0Z-Ha3BProb"
   },
   "source": [
    "### **Abstraction**\n",
    "\n",
    "The other huge reason that functions are so great is that after we write a function, we no longer need to think about how the code inside the function works: we can just focus on what matters *at the current level of abstraction*.\n",
    "\n",
    "To get a good idea of what this means, let's return to the idea of building experimental blocks. As a reminder, most tasks can be construed as a loop over trials, which looks something like this:\n",
    "\n",
    "```python\n",
    "trials = 20\n",
    "for trial in range(trials):\n",
    "  # display a blank screen\n",
    "  # ...\n",
    "  #\n",
    "  # display a fixation cross\n",
    "  # ...\n",
    "  #\n",
    "  # display some stimulus\n",
    "  # ...\n",
    "  #\n",
    "  # record a response\n",
    "  # ...\n",
    "  #\n",
    "  # give feedback\n",
    "  # ...\n",
    "```\n",
    "\n",
    "If we try to program this task without functions, we will need all of the code to display each stimulus directly inside the loop. As we will see later on, displaying each stimulus can take a few lines of code, involving lots of  variables. Not only is this a lot of duplicate code, but it leads to another problem: if we have so much code inside our `for` loop, it is difficult to figure out what the loop is for without reading every single line of code, considering how each stimulus is drawn on the screen, how responses are recorded, etc. It is much better to have your task programmed something like this:\n",
    "\n",
    "```python\n",
    "trials = 20\n",
    "for trial in range(trials):\n",
    "  showStimulus('', 1)          # display a blank screen for 1s\n",
    "  showStimulus('+', 1)         # display a fixation cross for 1s\n",
    "  showStimulus('', 2)          # display some stimulus for 2s\n",
    "  \n",
    "  response = recordResponse()  # record a response\n",
    "  \n",
    "  # give feedback for 1s\n",
    "  if isCorrect(response):\n",
    "    showStimulus('correct', 1)\n",
    "  else:\n",
    "    showStimulus('incorrect', 1)\n",
    "```\n",
    "\n",
    "In addition to being much shorter, this is easier to read because it **abstracts** the unnecessary details away from loop. That is, when we read this loop, we don't need (or want) to know *how* stimuli are drawn on the screen, we just want to know which stimuli are drawn on the screen, in what order, etc. Likewise, we don't want to have to think about *how* the responses are recorded, it is enough to just know that they are being recorded."
   ]
  },
  {
   "cell_type": "markdown",
   "metadata": {
    "id": "_w7d48ORWoSc"
   },
   "source": [
    "### **Efficiency**\n",
    "\n",
    "Finally, functions are great because Python already has functions for so many things you need to do, and these existing functions will almost always be faster and more memory efficient than whatever code you could work out in a day or two. Efficiency is a source of pride for software developers, and so they spend a *lot* (really, a lot) of time making their code as efficient as possible. So why bother trying to write code yourself when better, faster code is already out there?\n",
    "\n",
    "To demonstrate this, let's assume that we want the average of a giant list of numbers. Here we will use the `random` module to generate a giant list, and use the `time` module to compare the runtime of two different approaches: using a `for` loop to calculate the average manually and using the `sum` function."
   ]
  },
  {
   "cell_type": "code",
   "execution_count": null,
   "metadata": {
    "id": "RvjEP-Cxe94o"
   },
   "outputs": [],
   "source": [
    "l = [1]*10000000\n",
    "\n",
    "print(f'{\"Algorithm\" : >10}{\"Result\" : ^10}{\"Time\" : ^10}') # <, ^: formatting cues\n",
    "\n",
    "### VERSION 1: FOR LOOP ###\n",
    "# for loop version for calculating the average\n",
    "start = time.time()\n",
    "list_sum = 0\n",
    "# loop through each item and add to total to find the sum\n",
    "for item in l:\n",
    "  list_sum = list_sum + item\n",
    "avg = list_sum / len(l)\n",
    "stop = time.time()\n",
    "print(f'{\"for loop\" : >10}{avg : ^10.2f}{stop - start : ^10.4f}') # 10.2, 10.4: number of decimal places\n",
    "\n",
    "### VERSION 2: SUM FUNCTION ###\n",
    "start = time.time()\n",
    "avg = sum(l) / len(l)\n",
    "stop = time.time()\n",
    "print(f'{\"sum\" : >10}{avg : ^10.2f}{stop - start : ^10.4f}')"
   ]
  },
  {
   "cell_type": "markdown",
   "metadata": {
    "id": "38vt4KWZhmJA"
   },
   "source": [
    "As we can see, the sum function isn't just less code, but it actually runs over 10 times faster than the loop version!"
   ]
  },
  {
   "cell_type": "markdown",
   "metadata": {
    "id": "-miCXTBVPMrb"
   },
   "source": [
    "## How do I make a function?\n",
    "\n",
    "Hopefully by now you are convinced that functions are important programming tools that can make your life easier. There are two ways to make a function in Python. \n",
    "\n",
    "We can:\n",
    "- Make a function with `def`\n",
    "- Make a function with `lambda`\n",
    "\n",
    "These ways are not synonymous, though and have important differences. Let's talk about each individually.\n"
   ]
  },
  {
   "cell_type": "markdown",
   "metadata": {
    "id": "kJgPFg62iK9X"
   },
   "source": [
    "### Making functions with `def`\n",
    "\n",
    "In most cases, you'll want to use the `def` keyword to write a new function. Functions defined with `def` look something like this:\n",
    "\n",
    "```python\n",
    "def my_function(argument1, argument2, ..., ):\n",
    "  \"\"\" A documentation string that tells you what \n",
    "  the function does and how to use it\"\"\"\n",
    "  # ...some code...\n",
    "  return value\n",
    "```\n",
    "Importantly, the way you specify the code in `(argument1, argument2, ...)` tells you how to reference those variables in the `...some code...` part.\n",
    "\n",
    "\n",
    "As an example, let's say we want to make a function for the average of a list of numbers. We would probably write a function like this:"
   ]
  },
  {
   "cell_type": "code",
   "execution_count": null,
   "metadata": {
    "id": "Tnhp8_YfrAkT"
   },
   "outputs": [],
   "source": [
    "def average(l):\n",
    "  \"\"\"Calculate the average of some numbers\"\"\"\n",
    "  return sum(l) / len(l) # l here (and up where it's defined) is like the placeholder for an eventual datatype"
   ]
  },
  {
   "cell_type": "markdown",
   "metadata": {
    "id": "Fo7e3RFSrP6W"
   },
   "source": [
    "Now that we have this function, it's easy to calculate the average of a bunch of lists!\n",
    "\n",
    "We were interested earlier in finding the max from these lists, but using our new function, we can also find the average!"
   ]
  },
  {
   "cell_type": "code",
   "execution_count": null,
   "metadata": {
    "id": "UR8KewN5rVHc"
   },
   "outputs": [],
   "source": [
    "accuracy = [.54, .83, .39, .60, .92]\n",
    "rt = [2.4, 1.2, 5.6, 4.1, 3.9]\n",
    "age = [19, 22, 27, 32, 20]\n",
    "iq = [122, 118, 117, 132, 146]\n",
    "\n",
    "print(average(accuracy))\n",
    "print(average(rt))\n",
    "print(average(age))\n",
    "print(average(iq))"
   ]
  },
  {
   "cell_type": "markdown",
   "metadata": {
    "id": "PUdxLP9E2--F"
   },
   "source": [
    "Since we included the **documentation string** in our function definition (that is what the \"\"\"Calculate the ...\"\"\" thing is), we can also call `help` if we forget how to use it:"
   ]
  },
  {
   "cell_type": "code",
   "execution_count": null,
   "metadata": {
    "id": "s-bNO2ZM3FlG"
   },
   "outputs": [],
   "source": [
    "help(average)"
   ]
  },
  {
   "cell_type": "markdown",
   "metadata": {
    "id": "YMw2z05gq9z9"
   },
   "source": [
    "If you're making complex functions, it's often helpful in the documentation string to include the input variables your function will take as well as the expected output. You won't do this so much this semester, but you can imagine how helpful this would be if somebody else was ever going to borrow your code!"
   ]
  },
  {
   "cell_type": "markdown",
   "metadata": {
    "id": "zXfITWkt24g0"
   },
   "source": [
    "### **Exercise**\n",
    "\n",
    "Now it is your turn! For this exercise, we are going to try to create our own mini experiment using functions.\n",
    "\n",
    "The experiment is this: a participant (you) will see a digit between 1 and 9 (not including 5). Then, they will need to indiate if it is greater or less than 5. If they get it correct, we will say \"yay!\". If they get it incorrect, we will say \"Boo!\"."
   ]
  },
  {
   "cell_type": "markdown",
   "metadata": {
    "id": "gVmgVQkU6dVP"
   },
   "source": [
    "Below are the parts of your experiment. It is up to you to create the functions necessary to make this work!\n",
    "\n",
    "```python\n",
    "stimulus = choose_stimulus() #pick a number between 1 and 9, not including 5\n",
    "\n",
    "display_stimulus(stimulus) #print the number\n",
    "\n",
    "response = get_response() #use input to get a response\n",
    "\n",
    "show_feedback(stimulus, response) #show if that response was correct\n",
    "```"
   ]
  },
  {
   "cell_type": "markdown",
   "metadata": {
    "id": "Fr7OOjN632Od"
   },
   "source": [
    "First, let's write a function called `choose_stimulus`, that returns a stimulus between 1 and 9 (not including 5). We will randomly choose a digit using `random.choice(list)`, where list is the list of numbers you'd like to choose from.\n",
    "\n",
    "---\n",
    "\n"
   ]
  },
  {
   "cell_type": "code",
   "execution_count": null,
   "metadata": {
    "id": "XNpLkgp731Ye"
   },
   "outputs": [],
   "source": [
    "#create a function choose_stimulus\n",
    "def choose_stimulus():\n",
    "  num_list = ...\n",
    "  stimulus = ...\n",
    "  return "
   ]
  },
  {
   "cell_type": "markdown",
   "metadata": {
    "id": "9Znrizum5P_H"
   },
   "source": [
    "Test the function below!"
   ]
  },
  {
   "cell_type": "code",
   "execution_count": null,
   "metadata": {
    "id": "hbqZ7sYx5IVP"
   },
   "outputs": [],
   "source": [
    "choose_stimulus()"
   ]
  },
  {
   "cell_type": "markdown",
   "metadata": {
    "id": "OEoQD1SI7Ihv"
   },
   "source": [
    "Great, lets display this stimulus! Create a function called `display_stimulus` that prints the stimulus. Note that we are using an input here, which is the number we would like to print."
   ]
  },
  {
   "cell_type": "code",
   "execution_count": null,
   "metadata": {
    "id": "f9yHeNd77imn"
   },
   "outputs": [],
   "source": [
    "#create a function display_stimulus"
   ]
  },
  {
   "cell_type": "markdown",
   "metadata": {
    "id": "c0jXH2KD77U1"
   },
   "source": [
    "Test it!"
   ]
  },
  {
   "cell_type": "code",
   "execution_count": null,
   "metadata": {
    "id": "TRzjHGg876F6"
   },
   "outputs": [],
   "source": []
  },
  {
   "cell_type": "markdown",
   "metadata": {
    "id": "FLssfFmW5TGy"
   },
   "source": [
    "Great! Now let's create a function called `get_response` to ask for a response from a participant. We can do this using `input(instruction text here)`. Ask for either a \"y\" or a \"n\"."
   ]
  },
  {
   "cell_type": "code",
   "execution_count": null,
   "metadata": {
    "id": "ACszCKO05owl"
   },
   "outputs": [],
   "source": [
    "#create a function get_response"
   ]
  },
  {
   "cell_type": "markdown",
   "metadata": {
    "id": "WCuvvO75595a"
   },
   "source": [
    "And test it (always!)"
   ]
  },
  {
   "cell_type": "code",
   "execution_count": null,
   "metadata": {
    "id": "2zqO9UFi59Kj"
   },
   "outputs": [],
   "source": []
  },
  {
   "cell_type": "markdown",
   "metadata": {
    "id": "dzCq2uJq6Drd"
   },
   "source": [
    "Great job! Now we are really getting somewhere. Finally we need a function called `show_feedback` to show feedback depending on if the answer is correct given the stimulus or not. This is the trickiest bit. We'll need to use if statements from last week to display \"Correct\" or \"Incorrect\" based on if the number is less than 5 or not. This requires checking not only whether they said \"y\" or \"n\", but also if the number is in fact greater or less than 5.\n",
    "\n",
    "Hint: we'll need two inputs to our function! What are they?"
   ]
  },
  {
   "cell_type": "code",
   "execution_count": null,
   "metadata": {
    "id": "XUZu3kAJ6DP7"
   },
   "outputs": [],
   "source": [
    "#create a function show_feedback"
   ]
  },
  {
   "cell_type": "markdown",
   "metadata": {
    "id": "Rc1VDWa_8nXE"
   },
   "source": [
    "You guessed it, test it!"
   ]
  },
  {
   "cell_type": "code",
   "execution_count": null,
   "metadata": {
    "id": "_y89WJSd8pME"
   },
   "outputs": [],
   "source": []
  },
  {
   "cell_type": "markdown",
   "metadata": {
    "id": "ZMblfBgF8p3c"
   },
   "source": [
    "We are finally ready to put this all together. Run the function below to see your experiment realized."
   ]
  },
  {
   "cell_type": "code",
   "execution_count": null,
   "metadata": {
    "id": "mIH82R3x8wHo"
   },
   "outputs": [],
   "source": [
    "stimulus = choose_stimulus()\n",
    "\n",
    "display_stimulus(stimulus)\n",
    "\n",
    "response = get_response()\n",
    "\n",
    "show_feedback(stimulus, response)"
   ]
  },
  {
   "cell_type": "markdown",
   "metadata": {
    "id": "RW4k2ebX9AXm"
   },
   "source": [
    "**BONUS** If you have time, how would you make the above experiment run for say 5 trials using a foor loop?\n",
    "\n",
    "**CHALLENGE BONUS** How would you rewrite the get_response() function to only accept certain answers?"
   ]
  },
  {
   "cell_type": "markdown",
   "metadata": {},
   "source": [
    "# The code below is bonus, and will only be covered if time allows. Feel free to read through at your own leisure outside of class if you want more details."
   ]
  },
  {
   "cell_type": "markdown",
   "metadata": {
    "id": "b-XGDYDSsfZ1"
   },
   "source": [
    "#### **Variable-length arguments**\n",
    "\n",
    "What if we want our average function to take numbers themselves, and not just a list of numbers? One way would be to write our function like this:"
   ]
  },
  {
   "cell_type": "code",
   "execution_count": null,
   "metadata": {
    "id": "kYE633l6tUGk"
   },
   "outputs": [],
   "source": [
    "def average(x1, x2):\n",
    "  \"\"\"Calculate the average of some numbers\"\"\"\n",
    "  return (x1+x2) / 2"
   ]
  },
  {
   "cell_type": "markdown",
   "metadata": {
    "id": "R2e078Qxt1g3"
   },
   "source": [
    "This works great anytime we want to average just two numbers. But what if we want the average of three, four, or more numbers? Or if we don't know how many numbers we will be averaging in advance? This is where **variable-length arguments** come in hand. We make a variable-length argument using the asterick `*`:"
   ]
  },
  {
   "cell_type": "code",
   "execution_count": null,
   "metadata": {
    "id": "Gx-Djy-RuLfH"
   },
   "outputs": [],
   "source": [
    "def average(*args):\n",
    "  \"\"\"Calculate the average of some numbers\"\"\"\n",
    "  return sum(args) / len(args)"
   ]
  },
  {
   "cell_type": "markdown",
   "metadata": {
    "id": "V3xtE0z5uV-Y"
   },
   "source": [
    "Now we can pass as many numbers as we want to our average function!"
   ]
  },
  {
   "cell_type": "code",
   "execution_count": null,
   "metadata": {
    "id": "U-8UJDE-uaFZ"
   },
   "outputs": [],
   "source": [
    "print(average(1))\n",
    "print(average(1, 2))\n",
    "print(average(1, 2, 3))\n",
    "print(average(1, 2, 3, 4))"
   ]
  },
  {
   "cell_type": "markdown",
   "metadata": {
    "id": "qhUZMVwsutj9"
   },
   "source": [
    "Sadly, our average function no longer works with lists anymore:"
   ]
  },
  {
   "cell_type": "code",
   "execution_count": null,
   "metadata": {
    "id": "l1TGADTau3rA"
   },
   "outputs": [],
   "source": [
    "average(accuracy)"
   ]
  },
  {
   "cell_type": "markdown",
   "metadata": {
    "id": "x-H-tAQEu8yJ"
   },
   "source": [
    "Why doesn't this work? Well, using variable-length arguments works by wrapping the arguments passed to the function into a list. So if we call `average(1, 2, 3)`, then the argument `args` will be set to the list `[1, 2, 3]` which is used to calculate the average. So when we pass in a list like `average([1, 2, 3])`, the argument `args` is being set to a list with this list inside of it (`[[1, 2, 3]]`)! \n",
    "\n",
    "To make our `average` function work both ways, then, we can remember all the amazing things we learned during control flow and use an `if` statement to check if args is a list containing a list:"
   ]
  },
  {
   "cell_type": "code",
   "execution_count": null,
   "metadata": {
    "id": "bOFQPrXqwEcO"
   },
   "outputs": [],
   "source": [
    "def average(*args):\n",
    "  \"\"\"Calculate the average of some numbers\"\"\"\n",
    "  if len(args) == 1 and isinstance(args[0], list):\n",
    "    args = args[0]\n",
    "  return sum(args) / len(args)"
   ]
  },
  {
   "cell_type": "code",
   "execution_count": null,
   "metadata": {
    "id": "9AUJDecOsGuM"
   },
   "outputs": [],
   "source": [
    "print(len([1,2,3]))\n",
    "print(len([[1,2,3]]))"
   ]
  },
  {
   "cell_type": "code",
   "execution_count": null,
   "metadata": {
    "id": "jGXv2Phb_Rwe"
   },
   "outputs": [],
   "source": []
  },
  {
   "cell_type": "markdown",
   "metadata": {
    "id": "1sF4VgEXwZfP"
   },
   "source": [
    "Now it should work both ways!"
   ]
  },
  {
   "cell_type": "code",
   "execution_count": null,
   "metadata": {
    "id": "t3ofy9iVwduQ"
   },
   "outputs": [],
   "source": [
    "print(average(1, 2, 3))\n",
    "print(average([1, 2, 3]))"
   ]
  },
  {
   "cell_type": "markdown",
   "metadata": {
    "id": "_nJWZfsNsTb7"
   },
   "source": [
    "#### **Keyword arguments**\n",
    "\n",
    "Another useful feature of `def` is that you can supply default values to arguments, known as **keyword arguments**. Keyword arguments are just regular old arguments with the `=` and some default value following the name of the argument. \n",
    "\n",
    "For example, let's say we want a function to normalize a list of values to some range, defined by a lower and upper value. We often do this is our data analysis to help standardize responses across people.We could write our function like so:"
   ]
  },
  {
   "cell_type": "code",
   "execution_count": null,
   "metadata": {
    "id": "DcqdX3iUyDs2"
   },
   "outputs": [],
   "source": [
    "def normalize(l, lower, upper):\n",
    "  \"\"\"Rescale l to the range [lower, upper]\"\"\"\n",
    "  scale = (upper - lower) / (max(l) - min(l))\n",
    "  return [scale*(x - min(l)) + lower for x in l]"
   ]
  },
  {
   "cell_type": "markdown",
   "metadata": {
    "id": "_9u0Q90oylI0"
   },
   "source": [
    "This function *works*, but it requires you to specify `min` and `max` every single time you call it:"
   ]
  },
  {
   "cell_type": "code",
   "execution_count": null,
   "metadata": {
    "id": "ILSoSjVByt42"
   },
   "outputs": [],
   "source": [
    "print(normalize(accuracy, 0, 1))\n",
    "print(normalize(rt, 0, 1))\n",
    "print(normalize(age, 0, 100))\n",
    "print(normalize(iq, -1, 1))"
   ]
  },
  {
   "cell_type": "markdown",
   "metadata": {
    "id": "w6icvJGI1pdk"
   },
   "source": [
    "If we try to call `normalize` without a specified range, things will break:"
   ]
  },
  {
   "cell_type": "code",
   "execution_count": null,
   "metadata": {
    "id": "6nOlk1zU1nlv"
   },
   "outputs": [],
   "source": [
    "normalize(accuracy)"
   ]
  },
  {
   "cell_type": "markdown",
   "metadata": {
    "id": "_ue0Y2Pe1epc"
   },
   "source": [
    "Usually, though, we will want to put our values into the range `[0, 1]`. To make these values default, we can put them into our function `def`:"
   ]
  },
  {
   "cell_type": "code",
   "execution_count": null,
   "metadata": {
    "id": "stBKn3yuyuG7"
   },
   "outputs": [],
   "source": [
    "def normalize(l, lower=0, upper=1):\n",
    "  \"\"\"Rescale l to the range [lower, upper]\"\"\"\n",
    "  scale = (upper - lower) / (max(l) - min(l))\n",
    "  return [scale*(x - min(l)) + lower for x in l]"
   ]
  },
  {
   "cell_type": "markdown",
   "metadata": {
    "id": "amCIVbLC15YG"
   },
   "source": [
    "Now if we don't specify which range to normalize our values to, the function will assume that we want it in `[0, 1]`!"
   ]
  },
  {
   "cell_type": "code",
   "execution_count": null,
   "metadata": {
    "id": "ys0b3vl22Dum"
   },
   "outputs": [],
   "source": [
    "print(normalize(age))"
   ]
  },
  {
   "cell_type": "markdown",
   "metadata": {
    "id": "nHeuD_fY2IS4"
   },
   "source": [
    "Finally, it's also helpful to know that we can use the same `=` syntax when *calling* the function with keyword arguments. This helps ensure that you are passing the right value to the right arguments, even if you put them out of order:"
   ]
  },
  {
   "cell_type": "code",
   "execution_count": null,
   "metadata": {
    "id": "saSNWkef2XHR"
   },
   "outputs": [],
   "source": [
    "print(normalize(age, lower=-1, upper=1))\n",
    "print(normalize(age, upper=1, lower=-1))"
   ]
  },
  {
   "cell_type": "markdown",
   "metadata": {
    "id": "uq4FUu6diPiJ"
   },
   "source": [
    "### Making anonymous functions with `lambda`\n",
    "\n",
    "In almost every case, we will want to use `def` to write our functions, since `def` gives us access to a bunch of features like documentation strings, variable length & keyword arguments, etc. \n",
    "\n",
    "Sometimes, though, we will need to make a function that will only be used one time. For example, let's say that our `age` data is off by one, and so we need to add one to every number in `age`. We could decide to write out the function as such:"
   ]
  },
  {
   "cell_type": "code",
   "execution_count": null,
   "metadata": {
    "id": "7ir9rcJs3wm_"
   },
   "outputs": [],
   "source": [
    "def add_one(x):\n",
    "  \"\"\"Take a number x, and return x+1\"\"\"\n",
    "  return x + 1\n",
    "\n",
    "print(age)\n",
    "print([add_one(x) for x in age])"
   ]
  },
  {
   "cell_type": "markdown",
   "metadata": {
    "id": "sLUoiJSR33r9"
   },
   "source": [
    "That's great and all, but how often will we *really* need this `add_one` function? Probably never again. If we will never use it again, it might not seem worth the effort to use all of the nice features of `def`: it should be obvious that the code adds one to a number, so extensive documentation seems unnecessary. That's where `lambda` comes in! `lambda` defines **anonymous functions**, which are one-off functions that don't have a name (hence anonymous). Here is the same code above, using `lambda` instead of `def`:"
   ]
  },
  {
   "cell_type": "code",
   "execution_count": null,
   "metadata": {
    "id": "fAKO1VPp5QNe"
   },
   "outputs": [],
   "source": [
    "age = [19, 22, 27, 32, 20]\n",
    "\n",
    "add_one = lambda x: x + 1\n",
    "\n",
    "print([add_one(x) for x in age])"
   ]
  },
  {
   "cell_type": "markdown",
   "metadata": {
    "id": "zrmRmLpa5W3Y"
   },
   "source": [
    "In this case `lambda` didn't save us a whole lot of space or time, because we still stored the function into the variable `add_one`, and we still needed a `for` loop to apply the function to every value in `age`. Thankfully, `lambda` can easily be used with functions like `map` and `filter`, which do the iteration for you!"
   ]
  },
  {
   "cell_type": "code",
   "execution_count": null,
   "metadata": {
    "id": "qCG3isbI5yPG"
   },
   "outputs": [],
   "source": [
    "list(map(lambda x: x + 1, age))"
   ]
  },
  {
   "cell_type": "markdown",
   "metadata": {
    "id": "cOCNJLFU57o5"
   },
   "source": [
    "Using a similar syntax, we can filter out the participants that are, say, over 25:"
   ]
  },
  {
   "cell_type": "code",
   "execution_count": null,
   "metadata": {
    "id": "T9ZdkEyo6D8C"
   },
   "outputs": [],
   "source": [
    "list(filter(lambda x: x >= 25, age))"
   ]
  },
  {
   "cell_type": "markdown",
   "metadata": {
    "id": "Q8e8Tmrz6KvE"
   },
   "source": [
    "**BONUS:** This type of programming is known as *functional programming*, since the focus is on applying functions to variables, not on the loops that make this all work. We won't talk much more about functional programming, but you should know that in many cases, using `map` can be much faster than writing out a `for` loop yourself (though in this case the list comprehension is fastest):"
   ]
  },
  {
   "cell_type": "code",
   "execution_count": null,
   "metadata": {
    "id": "K8aXWzFx60Zc"
   },
   "outputs": [],
   "source": [
    "l = [1]*10000000\n",
    "\n",
    "print(f'{\"Algorithm\" : >20}{\"Time\" : ^10}')\n",
    "\n",
    "start = time.time()\n",
    "l_plus_one = [None]*len(l)\n",
    "for i in range(len(l)):\n",
    "  l_plus_one[i] = l[i] + 1\n",
    "stop = time.time()\n",
    "print(f'{\"for loop\" : >20}{stop - start : ^10.4f}')\n",
    "\n",
    "start = time.time()\n",
    "l_plus_one = [x+1 for x in l]\n",
    "stop = time.time()\n",
    "print(f'{\"list comprehension\" : >20}{stop - start : ^10.4f}')\n",
    "\n",
    "start = time.time()\n",
    "l_plus_one = list(map(lambda x: x+1, l))\n",
    "stop = time.time()\n",
    "print(f'{\"map\" : >20}{stop - start : ^10.4f}')"
   ]
  },
  {
   "cell_type": "markdown",
   "metadata": {
    "id": "ygooWs_M9fgK"
   },
   "source": [
    "## How do I make sure my function works?\n",
    "\n",
    "One downside to writing functions is that you have to ensure that:\n",
    "- the function works as intended when it is called correctly, and \n",
    "- that the function does get called correctly. \n",
    "\n",
    "We'll spend some time on this later in the program, but it'll help to have some of these things in the back of your mind."
   ]
  },
  {
   "cell_type": "markdown",
   "metadata": {
    "id": "K-4XLycN-E8u"
   },
   "source": [
    "### Searching for bugs\n",
    "\n",
    "The most important thing when writing a function is to ensure that it does what you think it does when it is called properly. For instance, take our orignal average function:\n",
    "\n",
    "By looking at the code, we can see that `average` takes a list of numbers, and it returns the sum of those numbers divided by the number of them (a.k.a., the average):"
   ]
  },
  {
   "cell_type": "code",
   "execution_count": null,
   "metadata": {
    "id": "pLysebWP-Ecx"
   },
   "outputs": [],
   "source": [
    "def average(l):\n",
    "  \"\"\"Calculate the average of some numbers\"\"\"\n",
    "  return sum(l) / len(l)\n",
    "\n",
    "average([1, 2, 3])"
   ]
  },
  {
   "cell_type": "markdown",
   "metadata": {
    "id": "xbLnKasm_sKd"
   },
   "source": [
    "But we decided that we wanted our `average` function to work with individual numbers, too. But our original version gave us an error here:"
   ]
  },
  {
   "cell_type": "code",
   "execution_count": null,
   "metadata": {
    "id": "YWG2G3pP_7-V"
   },
   "outputs": [],
   "source": [
    "average(1, 2, 3)"
   ]
  },
  {
   "cell_type": "markdown",
   "metadata": {
    "id": "zsLHxzh-__Vn"
   },
   "source": [
    "To the extent that we want `average` to work in this case, the presence of this error is a bug! To fix it, we used variable-length arguments:"
   ]
  },
  {
   "cell_type": "code",
   "execution_count": null,
   "metadata": {
    "id": "Gb2BNaziAdIm"
   },
   "outputs": [],
   "source": [
    "def average(*args):\n",
    "  \"\"\"Calculate the average of some numbers\"\"\"\n",
    "  if len(args) == 1 and isinstance(args[0], list):\n",
    "    args = args[0]\n",
    "  return sum(args) / len(args)\n",
    "\n",
    "print(average([1, 2, 3]))\n",
    "print(average(1, 2, 3))"
   ]
  },
  {
   "cell_type": "markdown",
   "metadata": {
    "id": "7UNgAjk2Al7p"
   },
   "source": [
    "There are many kinds of different bugs that can occur in your functions, and this is just one type. But the only way to find bugs is to test your function on all of the different kinds of inputs you think it should be able to handle!"
   ]
  },
  {
   "cell_type": "code",
   "execution_count": null,
   "metadata": {
    "id": "UFdTnlTCx1_6"
   },
   "outputs": [],
   "source": [
    "print(average(42,8769,21))\n",
    "print(average(1.243512345, 5, 8.765))\n",
    "print(average('a', 'b', 45))"
   ]
  },
  {
   "cell_type": "markdown",
   "metadata": {
    "id": "VN2K6AwbA0_U"
   },
   "source": [
    "### Dealing with function misuse\n",
    "\n",
    "Another important thing to consider when writing a function is how people might try to use your function incorrectly. For example, it doesn't make sense to calculate the average of an empty list, since there are no numbers to average. But what happens when we call our `average` function on an empty list anyway?"
   ]
  },
  {
   "cell_type": "code",
   "execution_count": null,
   "metadata": {
    "id": "gWZW-t47BRZi"
   },
   "outputs": [],
   "source": [
    "l = []\n",
    "average(l)"
   ]
  },
  {
   "cell_type": "markdown",
   "metadata": {
    "id": "R6WUQLP2BT12"
   },
   "source": [
    "Python tells us that we're trying to divide by zero, and it reports an error. But if you aren't the one that wrote the average function, this error might be confusing for you: why am I getting a divide-by-zero error when I just want to calculate the average of my list? To make this easier on the user of the function, we can throw a more interpretable error:"
   ]
  },
  {
   "cell_type": "code",
   "execution_count": null,
   "metadata": {
    "id": "jMbqKSxkB3NE"
   },
   "outputs": [],
   "source": [
    "def average(*args):\n",
    "  \"\"\"Calculate the average of some numbers\"\"\"\n",
    "  if len(args) == 1 and isinstance(args[0], list):\n",
    "    args = args[0]\n",
    "  \n",
    "  if len(args) == 0:\n",
    "    raise ValueError('cannot compute the average of 0 numbers!')\n",
    "  return sum(args) / len(args)\n",
    "\n",
    "average(l)"
   ]
  },
  {
   "cell_type": "markdown",
   "metadata": {
    "id": "-s6k-yAREFZc"
   },
   "source": [
    "Now we still get an error when trying to average zero numbers, but our error message is more helpful: we know that we called the function improperly, and our list is empty when it shouldn't be.\n",
    "\n",
    "Trying to predict all of the ways in which a function might get misused can be difficult and can make your function unnecessarily complicated. \n",
    "\n",
    "However, it is important to try to \"break\" your functions in this way so that, inevitably, when someone else breaks your function in the same way, they will immediately know what they did wrong. Later on in the semester, y'all will help each other with this process as we test and debug our difference designs. "
   ]
  },
  {
   "cell_type": "markdown",
   "metadata": {
    "id": "mFYmNL91JX3R"
   },
   "source": [
    "# Methods\n",
    "\n",
    "All of the functions we've discussed so far are \"argument-neutral\" in that the functions don't *belong* to a particular argument. For instance, the `average` function gets applied over all of its arguments, and it doesn't make a whole lot of sense to say that `average` belongs to any particular argument. However, certain functions, known as **methods**, do belong to one of their arguments.\n",
    "\n",
    "You already have seen several different methods in the past. Lists, for example, have lots of methods including `append` and `clear`:"
   ]
  },
  {
   "cell_type": "code",
   "execution_count": null,
   "metadata": {
    "id": "c4ESNI9BGoVa"
   },
   "outputs": [],
   "source": [
    "l = []\n",
    "for i in range(10):\n",
    "  l.append(i)\n",
    "\n",
    "print(l)\n",
    "l.clear()\n",
    "print(l)"
   ]
  },
  {
   "cell_type": "markdown",
   "metadata": {
    "id": "lVFXJCw3HFFR"
   },
   "source": [
    "We can tell that `append` and `clear` are methods because they are called differently: rather than using the syntax `append(l, i)`, we use the \"dot\" syntax `l.append(i)`. This dot syntax is to make it clear that the `append` method belongs to the list `l`. Not only does it not make sense to append to anything that's not a list, but `append` isn't even defined for things that aren't lists. That is, you can't call `append` like this:"
   ]
  },
  {
   "cell_type": "code",
   "execution_count": null,
   "metadata": {
    "id": "2dTjGA6lH6iy"
   },
   "outputs": [],
   "source": [
    "append(l, 1)"
   ]
  },
  {
   "cell_type": "markdown",
   "metadata": {
    "id": "fn19jpVLIDtO"
   },
   "source": [
    "Unlike append, there are *some* other types of things that you can `clear`, however. Let's try it with a dictionary:"
   ]
  },
  {
   "cell_type": "code",
   "execution_count": null,
   "metadata": {
    "id": "5GWgo2HqILnj"
   },
   "outputs": [],
   "source": [
    "d = {'a': 1, 'b': 2, 'c': 3}\n",
    "print(d)\n",
    "d.clear()\n",
    "print(d)"
   ]
  },
  {
   "cell_type": "markdown",
   "metadata": {
    "id": "irUTHEXPIoJl"
   },
   "source": [
    "What's going on here? Well, the gist is that both `d` and `l` are *objects* that belong to a *class*. `l` is an object that belongs to the class `list`, and `d` is an object that belongs to the class `dict`. We can confirm this with the function `type`:"
   ]
  },
  {
   "cell_type": "code",
   "execution_count": null,
   "metadata": {
    "id": "ejaBZvPWI41E"
   },
   "outputs": [],
   "source": [
    "print(type(l))\n",
    "print(type(d))"
   ]
  },
  {
   "cell_type": "markdown",
   "metadata": {
    "id": "DUD-00V1Jul2"
   },
   "source": [
    "To understand what a method is, then, we need to understand what a class is. Basically, a class is a type of object in Python. Objects are instances of a class that have *attributes* and *methods*. *Attributes* are just variables that are a part of an object. You can think of objects like dictionaries and attributes like keys in that dictionary: attributes are just slots to store some data. Finally, as we saw above, *methods* are functions that belong to a class. It's easiest to see how this all works in action, so let's start off with a simple example."
   ]
  },
  {
   "cell_type": "markdown",
   "metadata": {
    "id": "cBjABrt5KbXN"
   },
   "source": [
    "## **BONUS:** Classes - points in space\n",
    "\n",
    "Let's say that you are presenting stimuli where you need to draw dots at different points on the screen. Points are just (x, y) coordinates, so if we have a bunch of points to draw, we might decide to store these coordinates in two different lists:"
   ]
  },
  {
   "cell_type": "code",
   "execution_count": null,
   "metadata": {
    "id": "uhnmIUkQLPi-"
   },
   "outputs": [],
   "source": [
    "x = [43, 61, 29, 49, 50]\n",
    "y = [82, 27, 73, 56, 39]\n",
    "\n",
    "for i in range(len(x)):\n",
    "  print(f'Point {i}: ({x[i]}, {y[i]})')"
   ]
  },
  {
   "cell_type": "markdown",
   "metadata": {
    "id": "SmAhkr07L9X7"
   },
   "source": [
    "For many purposes, this representation is totally fine. But if you're working a lot with these points, you'll want to define functions for them. Here's a function, for example, that translates a point:"
   ]
  },
  {
   "cell_type": "code",
   "execution_count": null,
   "metadata": {
    "id": "ERZYrJpMMOxn"
   },
   "outputs": [],
   "source": [
    "def translate(x, y, xshift=0, yshift=0):\n",
    "  \"\"\"Translate a point (x, y) by (xshift, yshift)\"\"\"\n",
    "  return (x+xshift, y+yshift)\n",
    "\n",
    "x_new = []\n",
    "y_new = []\n",
    "for i in range(len(x)):\n",
    "  new_point = translate(x[i], y[i], xshift=10, yshift=-10)\n",
    "  x_new.append(new_point[0])\n",
    "  y_new.append(new_point[1])\n",
    "  print(f'Point {i}: ({x_new[i]}, {y_new[i]})')"
   ]
  },
  {
   "cell_type": "markdown",
   "metadata": {
    "id": "OECflXsuM-xg"
   },
   "source": [
    "As we can see, this works, but it's clunky. For one, you have to keep two separate lists every time you translate a point. You also have to upack the x and y values returned from `translate` and append them to the new lists individually, which requires you to know that the x value is returned first, and the y value is returned second. One way to improve this is to use a list of lists:"
   ]
  },
  {
   "cell_type": "code",
   "execution_count": null,
   "metadata": {
    "id": "PxkddXhRNiPF"
   },
   "outputs": [],
   "source": [
    "points = [[43, 82], [61, 27], [29, 73], [49, 56], [50, 39]]\n",
    "\n",
    "def translate(point, xshift=0, yshift=0):\n",
    "  \"\"\"Translate a point [x, y] by (xshift, yshift)\"\"\"\n",
    "  return [point[0]+xshift, point[1]+yshift]\n",
    "\n",
    "p_new = []\n",
    "for i in range(len(points)):\n",
    "  p_new.append(translate(points[i], xshift=10, yshift=-10))\n",
    "  print(f'Point {i}: ({p_new[i][0]}, {p_new[i][1]})')"
   ]
  },
  {
   "cell_type": "markdown",
   "metadata": {
    "id": "T_Ew5LFjOa0v"
   },
   "source": [
    "This gives us the same result, but it's a little bit easier to work with since we only have one list to manage. But our `translate` function makes a hidden assumption: it assumes that the argument `point` is a list of exactly two numbers. And still, whoever uses the `translate` function needs to know that the points are represented with the x-value first and the y-value second. We can fix these problems by defining a class:"
   ]
  },
  {
   "cell_type": "code",
   "execution_count": null,
   "metadata": {
    "id": "SrJAw3FoNxbr"
   },
   "outputs": [],
   "source": [
    "class Point2D:\n",
    "  def __init__(self, x=0, y=0):\n",
    "    self.x = x\n",
    "    self.y = y\n",
    "\n",
    "  def translate(self, xshift=0, yshift=0):\n",
    "    self.x += xshift\n",
    "    self.y += yshift\n",
    "    return self\n",
    "\n",
    "  def __str__(self):\n",
    "    return '(' + str(self.x) + ', ' + str(self.y) + ')'"
   ]
  },
  {
   "cell_type": "markdown",
   "metadata": {
    "id": "WBlai5_kQ8Dy"
   },
   "source": [
    "There's quite a bit here, so let's break it down. First, the `class` keyword makes a new class, in this case one called `Point2D`. Inside the class definition, we have a bunch of function definitions. These functions are the methods of the class: they belong to the class, and can only be called on objects of that class. The first argument to every method must be `self`, which refers to the object that the method is being called on (i.e., the thing before the dot). \n",
    "\n",
    "The first is a method called `__init__`, also known as a constructor. Every Python class needs an `__init__` method, which is responsible for constructing new objects belonging to the class. We can see that `__init__` makes two attributes for the new object, called `x` and `y`. To nobody's surprise, these attributes store the x and y coordinates of the point.\n",
    "\n",
    "The next method is our `translate` function from before. As before, this just adds `xshift` to the x-value and `yshift` to the y-value. The only difference is that this version uses the `self.x` and `self.y` attributes of the point.\n",
    "\n",
    "Finally, we defined a method called `__str__`. This isn't strictly necessary, but it allows us to easily print out the points in the format `\"(x-value, y-value\"`.\n",
    "\n",
    "Okay, now that we have a class for points, what can we do with it? First, we call the `__init__` constructor using the name of the class as a function (weird, I know):"
   ]
  },
  {
   "cell_type": "code",
   "execution_count": null,
   "metadata": {
    "id": "wsKrYCrNUXAl"
   },
   "outputs": [],
   "source": [
    "p = Point2D(1, 4)\n",
    "print(p)"
   ]
  },
  {
   "cell_type": "markdown",
   "metadata": {
    "id": "chIrwPC-UbLo"
   },
   "source": [
    "We can access the x-value and y-value attributes of the point using the dot syntax:"
   ]
  },
  {
   "cell_type": "code",
   "execution_count": null,
   "metadata": {
    "id": "tqaByFw7Uha_"
   },
   "outputs": [],
   "source": [
    "print(p.x)\n",
    "print(p.y)"
   ]
  },
  {
   "cell_type": "markdown",
   "metadata": {
    "id": "a4SJhDeiUm3L"
   },
   "source": [
    "Finally, we can also call the method `translate` using the dot syntax:"
   ]
  },
  {
   "cell_type": "code",
   "execution_count": null,
   "metadata": {
    "id": "BBejYVrxUrT8"
   },
   "outputs": [],
   "source": [
    "print(p.translate(10, 10))"
   ]
  },
  {
   "cell_type": "markdown",
   "metadata": {
    "id": "UJrOqGH_UxtV"
   },
   "source": [
    "Putting this all together, here how we can translate a list of points:"
   ]
  },
  {
   "cell_type": "code",
   "execution_count": null,
   "metadata": {
    "id": "5xQyjamIU38s"
   },
   "outputs": [],
   "source": [
    "points = [Point2D(43, 82), Point2D(61, 27), Point2D(29, 73), Point2D(49, 56), Point2D(50, 39)]\n",
    "for i in range(len(points)):\n",
    "  print(f'Point {i}: {points[i].translate(10, -10)}')"
   ]
  },
  {
   "cell_type": "markdown",
   "metadata": {
    "id": "ohZ3fa2CVqL3"
   },
   "source": [
    "Just like how functions abstract the details about how the function works, classes and methods are nice because they abstract how the points are represented and how the methods themselves work. When we're translating points, we don't need to think about lists or attributes: we can just know that we're translating a point, and that's enough! We'll talk more about classes and methods later, but by now you've most of what they have to offer"
   ]
  },
  {
   "cell_type": "markdown",
   "metadata": {
    "id": "u7XUCVpNWcE5"
   },
   "source": [
    "# Putting it all together\n",
    "\n",
    "Today we covered a **lot** of material about functions. To wrap up, let's discuss some questions as a group:\n",
    "\n",
    "- What is a function, and what are functions good for?\n",
    "- Can we get by without writing functions? Should we?\n",
    "- What's the difference between a function defined using `def` and one using `lambda`?\n",
    "- How should we test our functions?\n",
    "- How is a function different from a method?\n",
    "- When might we prefer to make a function a method?\n"
   ]
  }
 ],
 "metadata": {
  "colab": {
   "collapsed_sections": [],
   "name": "lecture_4_functions_building_blocks (1).ipynb",
   "provenance": [],
   "toc_visible": true
  },
  "kernelspec": {
   "display_name": "Python 3 (ipykernel)",
   "language": "python",
   "name": "python3"
  },
  "language_info": {
   "codemirror_mode": {
    "name": "ipython",
    "version": 3
   },
   "file_extension": ".py",
   "mimetype": "text/x-python",
   "name": "python",
   "nbconvert_exporter": "python",
   "pygments_lexer": "ipython3",
   "version": "3.10.0"
  }
 },
 "nbformat": 4,
 "nbformat_minor": 1
}
