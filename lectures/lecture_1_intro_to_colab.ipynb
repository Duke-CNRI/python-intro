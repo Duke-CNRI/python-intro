{
  "nbformat": 4,
  "nbformat_minor": 0,
  "metadata": {
    "colab": {
      "name": "lecture_1_intro-to-colab.ipynb",
      "provenance": [],
      "collapsed_sections": [],
      "include_colab_link": true
    },
    "kernelspec": {
      "name": "python3",
      "display_name": "Python 3"
    },
    "language_info": {
      "name": "python"
    }
  },
  "cells": [
    {
      "cell_type": "markdown",
      "metadata": {
        "id": "view-in-github",
        "colab_type": "text"
      },
      "source": [
        "<a href=\"https://colab.research.google.com/github/Duke-CNRI/python-intro/blob/main/lectures/lecture_1_intro_to_colab.ipynb\" target=\"_parent\"><img src=\"https://colab.research.google.com/assets/colab-badge.svg\" alt=\"Open In Colab\"/></a>"
      ]
    },
    {
      "cell_type": "markdown",
      "metadata": {
        "id": "5bqrvXDwoCxM"
      },
      "source": [
        "# Class 1: An Introduction to Computer Programming for Experimental Research \n",
        "\n",
        "Created by Abby Hsiung\n",
        "\n",
        "\n"
      ]
    },
    {
      "cell_type": "markdown",
      "metadata": {
        "id": "Y4ruWcQp5L8n"
      },
      "source": [
        "Welcome to our first class! Today we will be reviewing _how_ we will be learning Python throughout the semester. Let's get started!"
      ]
    },
    {
      "cell_type": "markdown",
      "metadata": {
        "id": "AC_lykaS5J21"
      },
      "source": [
        "### Objective: \n",
        "\n",
        "To become familiar with Google Colab and to practice our first bits of Python!\n",
        "\n",
        "### Learning Outcomes:\n",
        "- Where to find lecture, workbook, and homework materials. \n",
        "- How to open Google Colab workbooks and homework.\n",
        "- Get familiar with using Google Colab, practice short hand operations, review Markdown format. \n",
        "- Get started practicing python variables and operators\n",
        "\n",
        "### Homework:\n",
        "- Finish reviewing this worksheet\n",
        "- Fill out research teams survey"
      ]
    },
    {
      "cell_type": "markdown",
      "metadata": {
        "id": "xRueh2mH5Fm0"
      },
      "source": [
        "---"
      ]
    },
    {
      "cell_type": "markdown",
      "metadata": {
        "id": "4pNCHtBgsi1i"
      },
      "source": [
        "## Getting Started with Google Colab"
      ]
    },
    {
      "cell_type": "markdown",
      "metadata": {
        "id": "9OhjuYHx7zmJ"
      },
      "source": [
        "### **What is Google Colab**\n",
        "\n",
        "Google Colab is what's called a _browser-based_ platform that let's you write and execute Python code. \n",
        "\n",
        "Browser-based means it runs on your web-browser, which allows you to use a _virtual machine_ that already has all the Python bits and pieces we want to use. This helps us standard our _programming environment_ so everyone will have hopefully the same access and outcome across different computer.\n",
        "\n",
        "In Google Colab, we will be working in **Notebooks** like the one you're reading here! More on Notebooks below.\n",
        "\n",
        "\n"
      ]
    },
    {
      "cell_type": "markdown",
      "metadata": {
        "id": "4feCEjR6w_Uw"
      },
      "source": [
        "### **Where to find Colab stuff**\n",
        "\n",
        "We will be using both GitHub and Google Drive to keep track of our Python materials this semester. We will house all of the workbooks on our GitHub page here: \n",
        "\n",
        "If you would like to fork the repository and work through the Notebooks that way, that's awesome! Help on that can be found here: \n",
        "\n",
        "Alternatively, you can download each Notebook to your own Google Drive (I recommend creating a folder in your Google Drive to organize your materials from this class).\n",
        "\n",
        "We will also make any lecture slides or other materials used in class available on both the GitHub page and/or our shared class folder. \n",
        "\n",
        "\n"
      ]
    },
    {
      "cell_type": "markdown",
      "metadata": {
        "id": "HUOYSw1Vw5YD"
      },
      "source": [
        "### **How to use Google Colab**\n",
        "\n",
        "To open a Notebook, simply double click on the file. It should open automatically in the current browser you are using. Although Colab works across many browsers, Google Chrome is preferred. \n",
        "\n",
        "We will discuss below how to use Google Colab's Markdown system to write code, run code, take notes, and more! "
      ]
    },
    {
      "cell_type": "markdown",
      "metadata": {
        "id": "H3mAqxkH8GTE"
      },
      "source": [
        "## Introduction to Markdown Files "
      ]
    },
    {
      "cell_type": "markdown",
      "metadata": {
        "id": "-ptxJ9Q38DOH"
      },
      "source": [
        "### **What are Markdown Files and Why use them?**\n",
        "\n",
        "Markdown files are text files that allow for quick and easy formatting of text. \n",
        "\n",
        "Markdown helps with _readability_. Using Markdown files allows up to embed \n",
        "- instructions\n",
        "- comments\n",
        "- and code \n",
        "\n",
        "all in the same document. \n",
        "\n",
        "Unlike a typical file, like a Word file where every line and every character exists in the same space, Markdown files are broken up into chunks or _cells_. These cells allow us to alternate between code and plain text. \n",
        "\n",
        "You can see this by double clicking on this block of text! This will open up the Markdown cell that contains the plain text (seen on the left-hand side) and the Markdown-ized formatted text (right-hand side).\n",
        "\n",
        "In the spaces below, we will practice using some of these formatting elements so you can get familiar with how these workbooks work!"
      ]
    },
    {
      "cell_type": "markdown",
      "metadata": {
        "id": "v7b0ikFMnTgh"
      },
      "source": [
        "\n",
        "###**Using Markdown**\n",
        "\n",
        "Keeping with plain text for right now (we will move to code momentarily), we will start with adding new cells to our workbooks. \n",
        "\n",
        "New cells are helpful for dividing up instructions or comments so that reading feels more digestible. \n",
        "\n",
        "1. Create a new cell below. In it, write your name, year at Duke, and where you grew up.\n",
        "---"
      ]
    },
    {
      "cell_type": "markdown",
      "metadata": {
        "id": "WtFOHsY5rJHF"
      },
      "source": [
        "---\n",
        "\n",
        "There are a couple ways to now format the text you've written. If you are inside a cell (visually, this is when you can actively type in the cell and your cell is split in half to reflect plain text (left) and formatted text (right)) you can see at the top of the cell box your typical text formatting options. \n",
        "\n",
        "\n",
        "Practice using these buttons to format your text and watch how those button presses are represented in the plain text below.\n",
        "\n",
        "You can use either the point-and-click method to edit text or the shortcut keyboard method."
      ]
    },
    {
      "cell_type": "markdown",
      "metadata": {
        "id": "ZIoODZtttjE0"
      },
      "source": [
        "Make this statement BOLD!"
      ]
    },
    {
      "cell_type": "markdown",
      "metadata": {
        "id": "jTp3lqodtpDU"
      },
      "source": [
        "And this one Italicized. "
      ]
    },
    {
      "cell_type": "markdown",
      "metadata": {
        "id": "s69Y4HSZuU40"
      },
      "source": [
        "Construct a list of your 3 favorite foods: "
      ]
    },
    {
      "cell_type": "markdown",
      "metadata": {
        "id": "7XBAUcO6t6Eu"
      },
      "source": [
        "Another cool feature of Markdown is how we can use **headings** to organize the sections of a Notebook. Just as you might start each new page of a physical Notebook with a new date to denote a new class period, headings allow us to segment our Notebook into sections that group like information with like information. \n",
        "\n",
        "\n",
        "You can explore this by clicking on each cell to see how the headings are organized. You can also see how the headings fit together on the left-hand side of your browser. \n",
        "\n",
        "\n",
        "Typically, headings are noted using **#**'s with 1 **#** as your biggest heading and **##, ###, ####** being your sub headings. \n",
        "\n",
        "\n",
        "## My Markdown File\n",
        "\n",
        "### In the file you can see my example headings\n",
        "\n",
        "#### We can segment our Notebooks lots of ways\n",
        "\n",
        "#### Headings can also contain other formatted text, like **this**"
      ]
    },
    {
      "cell_type": "markdown",
      "metadata": {
        "id": "NnIHTdkewvGg"
      },
      "source": [
        "Now that we got the hang on Markdown, let's start working with Python!"
      ]
    },
    {
      "cell_type": "markdown",
      "metadata": {
        "id": "gOA_TPZj8UiS"
      },
      "source": [
        "## Introduction to Python "
      ]
    },
    {
      "cell_type": "markdown",
      "metadata": {
        "id": "nOHHCz3exVCE"
      },
      "source": [
        "Now, we will explore the other cell type these Notebooks have to offer! These are `code` cells, where we can actually write and execute Python commands. \n",
        "\n",
        "Similar to text cells, `code` cells are _self-contained_ which means that when you run that cell, it only runs the code contained in the cell (as opposed to all the code in the Notebook). \n",
        "\n",
        "\n",
        "This will be important to remember later when we start building multi-cell code.\n",
        "\n",
        "`Code` cells will look slightly different than text cells. \n",
        "\n",
        "```\n",
        "They have a gray background and the text looks more...old-school typewriter-y.\n",
        "```\n",
        "They also start with a `[]` which helps us keep tract of what code we've run and what we still have left to go. \n",
        "\n",
        "Let's explore!"
      ]
    },
    {
      "cell_type": "markdown",
      "metadata": {
        "id": "-VDo4cNAywN1"
      },
      "source": [
        "To start, let's run the following piece of `code`. To run code, you can either press the play button next to the cell or if in the cell, hit `shift` and `enter`. "
      ]
    },
    {
      "cell_type": "code",
      "metadata": {
        "id": "3Jj5Eo0tsgCd",
        "colab": {
          "base_uri": "https://localhost:8080/"
        },
        "outputId": "895c9902-0bf6-42cb-8abc-3437e2e67c28"
      },
      "source": [
        "print('hello world')"
      ],
      "execution_count": null,
      "outputs": [
        {
          "output_type": "stream",
          "name": "stdout",
          "text": [
            "hello world\n"
          ]
        }
      ]
    },
    {
      "cell_type": "markdown",
      "metadata": {
        "id": "tjGUQC5jy_0G"
      },
      "source": [
        "**_Pause to review what happened, what we wrote, what we did, and how we can recognize the change_**"
      ]
    },
    {
      "cell_type": "markdown",
      "metadata": {
        "id": "hf3XHbmjzlPI"
      },
      "source": [
        "Before running any of the cells below, think about if Python will be able to understand what you want it to do. Which cells below do you think will successfully run and which do you think will come back with an error?"
      ]
    },
    {
      "cell_type": "code",
      "metadata": {
        "id": "qubK-G07vpj_"
      },
      "source": [
        "# Python, being a computer langauge, require immense specificity to excute commands.\n",
        "# Let's review the following code bits below: \n",
        "\n",
        "print hello world"
      ],
      "execution_count": null,
      "outputs": []
    },
    {
      "cell_type": "code",
      "metadata": {
        "id": "XN4pK2qUziTZ"
      },
      "source": [
        "print(hello world)"
      ],
      "execution_count": null,
      "outputs": []
    },
    {
      "cell_type": "code",
      "metadata": {
        "id": "i74tijOczlmM"
      },
      "source": [
        "print(\"hello world\")"
      ],
      "execution_count": null,
      "outputs": []
    },
    {
      "cell_type": "markdown",
      "metadata": {
        "id": "haSuMiQn0Cei"
      },
      "source": [
        "Learning the specifics (the ***syntax***) of Python is often the most challenging part. But don't worry! We will have plenty of practice throughout the semester!"
      ]
    },
    {
      "cell_type": "markdown",
      "metadata": {
        "id": "mDAwZYSA0azB"
      },
      "source": [
        "Onto the basics! The way the rest of this Notebook will proceed (and the ones to follow) is with mostly examples of different Python concepts. \n",
        "\n",
        "We want you to practice using Markdown and the flexibility of these Notebooks to take notes, provide explanations, and expand upon the code examples. "
      ]
    },
    {
      "cell_type": "markdown",
      "metadata": {
        "id": "IzA2IuZD8kTv"
      },
      "source": [
        "## Variables and Operators\n",
        "\n",
        "We will review these in more detail next week, but here is an introduction to some of the basic building blocks of Python! \n",
        "\n",
        "As with all of the Notebooks, this is your time to explore, change the code, write new code, and play around with what you can and can't (I promise error messages are informative) do! "
      ]
    },
    {
      "cell_type": "markdown",
      "metadata": {
        "id": "uQm9t9tI1dMc"
      },
      "source": [
        "### Operators \n",
        "\n",
        "Python is essentially a giant calculator, so one way in which we use Python is to compute mathmetical quantities. \n",
        "\n",
        "---\n",
        "\n",
        "**What are some examples of ways in which we would want to compute a mathmetical quantity during an experiment?**\n",
        "\n",
        "---"
      ]
    },
    {
      "cell_type": "code",
      "metadata": {
        "id": "kLmkXYSW8o6A",
        "colab": {
          "base_uri": "https://localhost:8080/"
        },
        "outputId": "aca435c1-fc1b-47ae-8c77-0906bc685bd5"
      },
      "source": [
        "\"# Python uses the basic operators for basic arithmetic:\n",
        "\n",
        "2 + 2"
      ],
      "execution_count": null,
      "outputs": [
        {
          "output_type": "execute_result",
          "data": {
            "text/plain": [
              "4"
            ]
          },
          "metadata": {},
          "execution_count": 4
        }
      ]
    },
    {
      "cell_type": "code",
      "metadata": {
        "colab": {
          "base_uri": "https://localhost:8080/"
        },
        "id": "GbRk-rSmMcSL",
        "outputId": "f42acd8a-ddaa-48f3-91ad-1335d10d9fa4"
      },
      "source": [
        "2 - 2"
      ],
      "execution_count": null,
      "outputs": [
        {
          "output_type": "execute_result",
          "data": {
            "text/plain": [
              "0"
            ]
          },
          "metadata": {},
          "execution_count": 5
        }
      ]
    },
    {
      "cell_type": "code",
      "metadata": {
        "colab": {
          "base_uri": "https://localhost:8080/"
        },
        "id": "Ij_XMjP9Me-i",
        "outputId": "3aefbfd3-5bb9-4b1a-a578-77ef546726d3"
      },
      "source": [
        "5 * 7 # use the * instead of x"
      ],
      "execution_count": null,
      "outputs": [
        {
          "output_type": "execute_result",
          "data": {
            "text/plain": [
              "35"
            ]
          },
          "metadata": {},
          "execution_count": 6
        }
      ]
    },
    {
      "cell_type": "code",
      "metadata": {
        "colab": {
          "base_uri": "https://localhost:8080/"
        },
        "id": "Ta0e-MfBMeqZ",
        "outputId": "c9a4e739-258d-4d80-861a-94835bf88954"
      },
      "source": [
        "10 / 3"
      ],
      "execution_count": null,
      "outputs": [
        {
          "output_type": "execute_result",
          "data": {
            "text/plain": [
              "3.3333333333333335"
            ]
          },
          "metadata": {},
          "execution_count": 8
        }
      ]
    },
    {
      "cell_type": "markdown",
      "metadata": {
        "id": "RRLrtUYMM-td"
      },
      "source": [
        "There are also some more unique ways to code operations, you can explore them [here](https://www.w3schools.com/python/python_operators.asp)."
      ]
    },
    {
      "cell_type": "markdown",
      "metadata": {
        "id": "M8sJnWd7231O"
      },
      "source": [
        "### Variables\n",
        "\n",
        "Oftentimes, we might want to refer to our data in shorthand instead of referencing the actual data itself (e.g., a participant's ID number, their condition, their responses to a question). \n",
        "\n",
        "---\n",
        "**Why might we want to do this?**\n",
        "\n",
        "---"
      ]
    },
    {
      "cell_type": "markdown",
      "metadata": {
        "id": "dyD3dlIuKa9w"
      },
      "source": [
        "**Variables** can become our **pointers** what represent or point to our real data but are much more flexible. \n",
        "\n",
        "In Python, variables are _dynamically-typed_ meaning that pointers can change where they're pointing to based on how you assign and reassign that variable (More on this in our next class). "
      ]
    },
    {
      "cell_type": "code",
      "metadata": {
        "colab": {
          "base_uri": "https://localhost:8080/"
        },
        "id": "hXp1K2XU26pr",
        "outputId": "45614dd4-764c-47e1-9277-cea183ee43b6"
      },
      "source": [
        "# To create and assign a value to a variable, all you have to do is follow the format:\n",
        "# [variable name] = [data]\n",
        "\n",
        "x = 5\n",
        "print(x)"
      ],
      "execution_count": null,
      "outputs": [
        {
          "output_type": "stream",
          "name": "stdout",
          "text": [
            "5\n"
          ]
        }
      ]
    },
    {
      "cell_type": "code",
      "metadata": {
        "id": "gJI71oS6Lh3Z"
      },
      "source": [
        "# Create another variable that points to the value 10.\n",
        "# What is the summation of variables x and y? What's the product? "
      ],
      "execution_count": null,
      "outputs": []
    },
    {
      "cell_type": "code",
      "metadata": {
        "id": "zWw_z5vkLzGN"
      },
      "source": [
        "# Update variable x so that it now points to the number 12. \n",
        "# Try to accomplish this is 2 different ways (You might have to \"re-point\" x to 5 between the two ways)"
      ],
      "execution_count": null,
      "outputs": []
    },
    {
      "cell_type": "markdown",
      "metadata": {
        "id": "bwfEvH6QMLTT"
      },
      "source": [
        "\n",
        "---\n",
        "**Why did you have to \"re-point\" x to 5 in between methods above?**\n",
        "\n",
        "---"
      ]
    },
    {
      "cell_type": "markdown",
      "metadata": {
        "id": "53CiHnYyHZ5o"
      },
      "source": [
        "## Python Syntax\n",
        "\n",
        "An important part of learning to program is understanding how the computer expects to receive instructions. This learning process will not always be the most intuitive but will become substantially easier with time and practice.\n",
        "\n",
        "\n",
        "Before our next class, make sure you have read through this blog post on Python Syntax:\n",
        "\n",
        "\n",
        "[A Quick Tour of Python Language Syntax](https://jakevdp.github.io/WhirlwindTourOfPython/02-basic-python-syntax.html)"
      ]
    },
    {
      "cell_type": "code",
      "metadata": {
        "id": "CNr_rhAjHcJa"
      },
      "source": [
        ""
      ],
      "execution_count": null,
      "outputs": []
    }
  ]
}