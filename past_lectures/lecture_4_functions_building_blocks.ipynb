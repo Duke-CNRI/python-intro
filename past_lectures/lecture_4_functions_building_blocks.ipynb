{
  "nbformat": 4,
  "nbformat_minor": 0,
  "metadata": {
    "colab": {
      "name": "lecture_4_functions-building-blocks.ipynb",
      "provenance": [],
      "collapsed_sections": [],
      "include_colab_link": true
    },
    "kernelspec": {
      "name": "python3",
      "display_name": "Python 3"
    },
    "language_info": {
      "name": "python"
    }
  },
  "cells": [
    {
      "cell_type": "markdown",
      "metadata": {
        "id": "view-in-github",
        "colab_type": "text"
      },
      "source": [
        "<a href=\"https://colab.research.google.com/github/Duke-CNRI/python-intro/blob/main/lectures/lecture_4_functions_building_blocks.ipynb\" target=\"_parent\"><img src=\"https://colab.research.google.com/assets/colab-badge.svg\" alt=\"Open In Colab\"/></a>"
      ]
    },
    {
      "cell_type": "markdown",
      "metadata": {
        "id": "6tPTZtrGhZAF"
      },
      "source": [
        "# Class 4: An Introduction into Functions and other Building Blocks\n",
        "\n",
        "Created by Kevin O'Neill, edited by Abby Hsiung\n",
        "\n",
        "We are now on our last base Python lecture! Today, we will be learning about `functions`, what they are, how we can create them, and what they can help us do! "
      ]
    },
    {
      "cell_type": "markdown",
      "metadata": {
        "id": "D4oR34DuUUXY"
      },
      "source": [
        "### Objective:\n",
        "\n",
        "To learn about how we create `functions` and how we can use both `functions` and `methods`. \n",
        "\n",
        "### Learning Outcomes:\n",
        "- Know the building blocks for defining `functions`\n",
        "- Learn about how to use `functions` to transform data\n",
        "- Learn the different ways to create `functions`\n",
        "- Learn the difference between `functions` and `methods`\n",
        "\n",
        "### Homeworks:\n",
        "- Finish reviewing this Notebook\n",
        "- Homework 2 exercises"
      ]
    },
    {
      "cell_type": "markdown",
      "metadata": {
        "id": "6F6FBMavUaIT"
      },
      "source": [
        "---"
      ]
    },
    {
      "cell_type": "markdown",
      "metadata": {
        "id": "e1iaTP6Td1wR"
      },
      "source": [
        "This is also the first time we are using a \"helper function(s)\". Helper functions are blocks of code that you don't need to worry about understanding, they just help make some of our work in this notebook easier! \n",
        "\n",
        "*For a bonus though, you can practice annotating (using comments `#`) to try and understand what is happening in the function below*"
      ]
    },
    {
      "cell_type": "code",
      "metadata": {
        "id": "nghl1PCWU6JT"
      },
      "source": [
        "#@title Helper functions (click play before starting the notebook!)\n",
        "import math, random, time\n",
        "\n",
        "def printStimuli(*args, buffer=' ', width=30, clearLines=1):\n",
        "  \"\"\"Print one or more strings centered within a buffer of size 'width', \n",
        "  deleting 'clearLines' lines of text above the printed text.\n",
        "\n",
        "  Note: this does *not* print a newline after the output.\n",
        "  \"\"\"\n",
        "  if sum(list(map(len, args))) > width:\n",
        "    raise ValueError('arguments too wide to fit in buffer')\n",
        "\n",
        "  if len(args) == 0:\n",
        "    text = buffer * width\n",
        "  else:\n",
        "    text = ''\n",
        "    for a in args:\n",
        "      text += '{:^{width}}'\n",
        "    text = text.format(*args, width=math.floor(width / len(args)))\n",
        "\n",
        "  if clearLines <= 0:\n",
        "    text = '\\n' + text\n",
        "  else:\n",
        "    text = '\\b' * (width*clearLines) + text\n",
        "\n",
        "  print(text, end='')"
      ],
      "execution_count": null,
      "outputs": []
    },
    {
      "cell_type": "markdown",
      "metadata": {
        "id": "5aOKsZUvLWp-"
      },
      "source": [
        "## Review of Lists and Loops\n",
        "\n",
        "In the last lab, we talked about how to run a block of code multiple times using loops and lists. Loops are great because you can turn a long list of repetitive code like this:"
      ]
    },
    {
      "cell_type": "code",
      "metadata": {
        "id": "f77IEMBfKp__",
        "colab": {
          "base_uri": "https://localhost:8080/"
        },
        "outputId": "f0fa146e-8fa2-4520-de0e-0f85755a5a16"
      },
      "source": [
        "file1 = 'image_01.png'\n",
        "file2 = 'image_02.png'\n",
        "file3 = 'image_03.png'\n",
        "file4 = 'image_04.png'\n",
        "file5 = 'image_05.png'\n",
        "\n",
        "print(file1, file2, file3, file4, file5)"
      ],
      "execution_count": null,
      "outputs": [
        {
          "output_type": "stream",
          "name": "stdout",
          "text": [
            "image_01.png image_02.png image_03.png image_04.png image_05.png\n"
          ]
        }
      ]
    },
    {
      "cell_type": "markdown",
      "metadata": {
        "id": "7s8mJ5BBLVpy"
      },
      "source": [
        "into something more compact + readable like this:"
      ]
    },
    {
      "cell_type": "code",
      "metadata": {
        "colab": {
          "base_uri": "https://localhost:8080/"
        },
        "id": "gxi_zLaZCeO_",
        "outputId": "7e65b9cc-c473-4180-8f5c-12b0ff6f9808"
      },
      "source": [
        "files = []\n",
        "for i in range(5):\n",
        "  files.append(f'image_0{i+1}.png')\n",
        "print(files)"
      ],
      "execution_count": null,
      "outputs": [
        {
          "output_type": "stream",
          "name": "stdout",
          "text": [
            "['image_01.png', 'image_02.png', 'image_03.png', 'image_04.png', 'image_05.png']\n"
          ]
        }
      ]
    },
    {
      "cell_type": "markdown",
      "metadata": {
        "id": "fy-6Dlw_ChMt"
      },
      "source": [
        "Now instead of five different variables to keep track of, we just end up with one list of filenames. But what happens if the code we need to repeat isn't so simple? What if we don't know what code we need to repeat yet? Or what if we might need to change what happens in the code later on? As we'll see, loops don't always solve our problems."
      ]
    },
    {
      "cell_type": "markdown",
      "metadata": {
        "id": "og0OPLGeJNl3"
      },
      "source": [
        "## Building Experimental Blocks\n"
      ]
    },
    {
      "cell_type": "markdown",
      "metadata": {
        "id": "kP5mnhfrJtDQ"
      },
      "source": [
        "When programming an experiment, it is natural to think of things in terms of the steps that take place in each trial. A typical task looks something like this:\n",
        "\n",
        "```python\n",
        "trials = 20\n",
        "for trial in range(trials):\n",
        "  # \n",
        "  # display a blank screen\n",
        "  # ...\n",
        "  #\n",
        "  # display a fixation cross\n",
        "  # ...\n",
        "  #\n",
        "  # display some stimulus\n",
        "  # ...\n",
        "  #\n",
        "  # record a response\n",
        "  # ...\n",
        "  #\n",
        "  # give feedback\n",
        "  # ...\n",
        "```\n",
        "\n",
        "That is, each trial starts with a blank screen, followed by a fixation cross. After the fixation cross a stimulus is presented and the participant makes a response. Finally, the participant is given feedback about whether their response is correct."
      ]
    },
    {
      "cell_type": "markdown",
      "metadata": {
        "id": "ZqpQlmhNQpq4"
      },
      "source": [
        "But with all of the code in a single for loop, things can get pretty messy. For example, here is code for a simple **delayed match to response task**. In this task, your only goal is to remember a stimulus, then report it after a short delay. The code uses a helper function `printStimuli` to display text to the screen. Don't worry about figuring out all the details for now, but see if you can make sense of what the code is doing:\n",
        "\n",
        "(We're going to first go through the code at a general, overview level. We will then step closer to see what each piece of the code is doing!)"
      ]
    },
    {
      "cell_type": "code",
      "metadata": {
        "id": "MvQ4MJkLUgJ1",
        "colab": {
          "base_uri": "https://localhost:8080/"
        },
        "outputId": "68e8d8b7-914d-4abd-c84b-8e428fd2610c"
      },
      "source": [
        "#@title\n",
        "## experiment parameters\n",
        "letters = ['A', 'B', 'C', 'D']    # stimuli that can appear\n",
        "trials = 3                        # number of trials\n",
        "display_time = 0.5                # time (s) that the stimulus is shown\n",
        "delay = 3                         # time (s) between stimulus presentation & recognition\n",
        "ITI = 1                           # inter-trial interval (s)\n",
        "\n",
        "## experiment data (start off empty)\n",
        "data = {'target': [None]*trials,\n",
        "        'lure': [None]*trials,\n",
        "        'correct': [None]*trials}\n",
        "\n",
        "for trial in range(trials):\n",
        "  # randomly choose two stimuli (the first will be the target)\n",
        "  stim = random.sample(letters, 2)\n",
        "  data['target'][trial] = stim[0]\n",
        "  data['lure'][trial] = stim[1]\n",
        "\n",
        "  # display a blank screen\n",
        "  printStimuli('')\n",
        "  time.sleep(ITI)\n",
        "\n",
        "  # display a fixation cross\n",
        "  printStimuli('+')\n",
        "  time.sleep(ITI)\n",
        "\n",
        "  # display the target stimulus\n",
        "  printStimuli(data['target'][trial])\n",
        "  time.sleep(display_time)\n",
        "\n",
        "  # display a blank screen during the delay\n",
        "  printStimuli()\n",
        "  time.sleep(delay)\n",
        "\n",
        "  # display the two choices in random order\n",
        "  if random.random() > .5:\n",
        "    printStimuli(data['target'][trial], data['lure'][trial])\n",
        "  else:\n",
        "    printStimuli(data['lure'][trial], data['target'][trial])\n",
        "  \n",
        "  # get the participant's response\n",
        "  text = input()\n",
        "  print('\\b', end='')\n",
        "  \n",
        "  if text.upper() == stim[0]:\n",
        "    printStimuli('Correct :)')\n",
        "    data['correct'][trial] = 1\n",
        "  else:\n",
        "    printStimuli('Incorrect :(')\n",
        "    data['correct'][trial] = 0\n",
        "  time.sleep(ITI)\n",
        "\n",
        "printStimuli(f\"You got {sum(data['correct'])} out of {trials} correct.\")\n"
      ],
      "execution_count": null,
      "outputs": [
        {
          "output_type": "stream",
          "name": "stdout",
          "text": [
            "\b\b\b\b\b\b\b\b\b\b\b\b\b\b\b\b\b\b\b\b\b\b\b\b\b\b\b\b\b\b                              \b\b\b\b\b\b\b\b\b\b\b\b\b\b\b\b\b\b\b\b\b\b\b\b\b\b\b\b\b\b              +               \b\b\b\b\b\b\b\b\b\b\b\b\b\b\b\b\b\b\b\b\b\b\b\b\b\b\b\b\b\b              B               \b\b\b\b\b\b\b\b\b\b\b\b\b\b\b\b\b\b\b\b\b\b\b\b\b\b\b\b\b\b                              \b\b\b\b\b\b\b\b\b\b\b\b\b\b\b\b\b\b\b\b\b\b\b\b\b\b\b\b\b\b       C              B       B\n",
            "\b\b\b\b\b\b\b\b\b\b\b\b\b\b\b\b\b\b\b\b\b\b\b\b\b\b\b\b\b\b\b          Correct :)          \b\b\b\b\b\b\b\b\b\b\b\b\b\b\b\b\b\b\b\b\b\b\b\b\b\b\b\b\b\b                              \b\b\b\b\b\b\b\b\b\b\b\b\b\b\b\b\b\b\b\b\b\b\b\b\b\b\b\b\b\b              +               \b\b\b\b\b\b\b\b\b\b\b\b\b\b\b\b\b\b\b\b\b\b\b\b\b\b\b\b\b\b              B               \b\b\b\b\b\b\b\b\b\b\b\b\b\b\b\b\b\b\b\b\b\b\b\b\b\b\b\b\b\b                              \b\b\b\b\b\b\b\b\b\b\b\b\b\b\b\b\b\b\b\b\b\b\b\b\b\b\b\b\b\b       B              A       B\n",
            "\b\b\b\b\b\b\b\b\b\b\b\b\b\b\b\b\b\b\b\b\b\b\b\b\b\b\b\b\b\b\b          Correct :)          \b\b\b\b\b\b\b\b\b\b\b\b\b\b\b\b\b\b\b\b\b\b\b\b\b\b\b\b\b\b                              \b\b\b\b\b\b\b\b\b\b\b\b\b\b\b\b\b\b\b\b\b\b\b\b\b\b\b\b\b\b              +               \b\b\b\b\b\b\b\b\b\b\b\b\b\b\b\b\b\b\b\b\b\b\b\b\b\b\b\b\b\b              B               \b\b\b\b\b\b\b\b\b\b\b\b\b\b\b\b\b\b\b\b\b\b\b\b\b\b\b\b\b\b                              \b\b\b\b\b\b\b\b\b\b\b\b\b\b\b\b\b\b\b\b\b\b\b\b\b\b\b\b\b\b       A              B       B\n",
            "\b\b\b\b\b\b\b\b\b\b\b\b\b\b\b\b\b\b\b\b\b\b\b\b\b\b\b\b\b\b\b          Correct :)          \b\b\b\b\b\b\b\b\b\b\b\b\b\b\b\b\b\b\b\b\b\b\b\b\b\b\b\b\b\b You got 3 out of 3 correct.  "
          ]
        }
      ]
    },
    {
      "cell_type": "markdown",
      "metadata": {
        "id": "JREPmuRWX7Gl"
      },
      "source": [
        "It's not that easy, is it? When there's that much code inside of our loop, that makes it hard to figure out where variables are initialized and what each line of code does. While the code *works*, it's not very intuitive. Even if you wrote the code yourself, you'd probably have a hard time going through it in a year or two. The question is, is there a better way?"
      ]
    },
    {
      "cell_type": "markdown",
      "metadata": {
        "id": "ddql2pIeDG-f"
      },
      "source": [
        "# Functions\n",
        "\n",
        "As we saw above, sometimes it can get clunky to have all of your code laid out inside a for loop if a lot happens inside of that loop. To figure out how to solve this problem, we need functions. Before using functions to make our lives easier, however, we have to first understand **what functions are.**"
      ]
    },
    {
      "cell_type": "markdown",
      "metadata": {
        "id": "WplUPOkvJmoi"
      },
      "source": [
        "## What is a function?\n",
        "Simply put, a function maps inputs to outputs. So basically, you _give_ a function something, the function does its function-y things and _spits out_ something transformed. \n",
        "\n",
        "You've already encountered lots of functions already, actually! Take the `max` function, for instance, which takes some numbers and tells you which number is the largest:"
      ]
    },
    {
      "cell_type": "code",
      "metadata": {
        "colab": {
          "base_uri": "https://localhost:8080/"
        },
        "id": "yNF_v6ccDXHw",
        "outputId": "26834d54-0f9d-4166-be3f-f1807378fd42"
      },
      "source": [
        "print(max)\n",
        "print(type(max))"
      ],
      "execution_count": null,
      "outputs": [
        {
          "output_type": "stream",
          "name": "stdout",
          "text": [
            "<built-in function max>\n",
            "<class 'builtin_function_or_method'>\n"
          ]
        }
      ]
    },
    {
      "cell_type": "markdown",
      "metadata": {
        "id": "FOFdRuwMEJOs"
      },
      "source": [
        "As you can see, these are called \"build-in functions\" because they come standard with base Python.\n",
        "\n",
        "Here, we are just printing the `max` function itself. Python tells us that this is a function, but since there are no parentheses after the `max`, we have not called (or executed) the function yet."
      ]
    },
    {
      "cell_type": "code",
      "metadata": {
        "colab": {
          "base_uri": "https://localhost:8080/"
        },
        "id": "JiPt5WpaGDpV",
        "outputId": "aa0bf554-97ac-48ac-86ec-ceabdf61629e"
      },
      "source": [
        "max(1, 2, 3)"
      ],
      "execution_count": null,
      "outputs": [
        {
          "output_type": "execute_result",
          "data": {
            "text/plain": [
              "3"
            ]
          },
          "metadata": {},
          "execution_count": 8
        }
      ]
    },
    {
      "cell_type": "markdown",
      "metadata": {
        "id": "HxsDA98lGPlE"
      },
      "source": [
        "In this block, we *called* the `max` function by giving it some *arguments* (1, 2, and 3) in parentheses. When we call a function on some arguments, we get a *return value*, which in this case corresponds to the largest argument given to `max` (3).\n",
        "\n",
        "In the case of the `max` function, it's pretty obvious from the name of the function what the function does: it gives the max of some numbers. But when it isn't very obvious, we can always ask Python for some help:"
      ]
    },
    {
      "cell_type": "code",
      "metadata": {
        "colab": {
          "base_uri": "https://localhost:8080/"
        },
        "id": "kWMl-rpiGIGS",
        "outputId": "070ad76f-19dd-4068-8cfc-e1c267cfa5d2"
      },
      "source": [
        "help(max)"
      ],
      "execution_count": null,
      "outputs": [
        {
          "output_type": "stream",
          "name": "stdout",
          "text": [
            "Help on built-in function max in module builtins:\n",
            "\n",
            "max(...)\n",
            "    max(iterable, *[, default=obj, key=func]) -> value\n",
            "    max(arg1, arg2, *args, *[, key=func]) -> value\n",
            "    \n",
            "    With a single iterable argument, return its biggest item. The\n",
            "    default keyword-only argument specifies an object to return if\n",
            "    the provided iterable is empty.\n",
            "    With two or more arguments, return the largest argument.\n",
            "\n"
          ]
        }
      ]
    },
    {
      "cell_type": "markdown",
      "metadata": {
        "id": "DmUDUuAKG1_c"
      },
      "source": [
        "This documentation says that there are two definitions of `max`: one that uses an iterable (like a list), and one that takes the numbers individually. This lets us know that if we want to, we can also call `max` this way:"
      ]
    },
    {
      "cell_type": "code",
      "metadata": {
        "colab": {
          "base_uri": "https://localhost:8080/"
        },
        "id": "5T3U1FhLHMlR",
        "outputId": "e311a18b-7770-4a5a-ecc4-33123dee6f95"
      },
      "source": [
        "max([1, 2, 3])"
      ],
      "execution_count": null,
      "outputs": [
        {
          "output_type": "execute_result",
          "data": {
            "text/plain": [
              "3"
            ]
          },
          "metadata": {},
          "execution_count": 10
        }
      ]
    },
    {
      "cell_type": "markdown",
      "metadata": {
        "id": "2QqovXLJKL98"
      },
      "source": [
        "## Who needs functions?\n",
        "\n",
        "When programming, we use functions for three main reasons: **code duplication**, **abstraction**, and **efficiency**. Let's take a look at each of these reasons individually."
      ]
    },
    {
      "cell_type": "markdown",
      "metadata": {
        "id": "aqeUFnPLPok0"
      },
      "source": [
        "### **Code duplication**\n",
        "\n",
        "One huge reason that functions are so important is that when we write a function, we know that we will never have to write that same piece of code again. Loops can help us limit the amount of code that we duplicate, but they can only go so far.\n",
        "\n",
        "Consider the `max` function again: what would it be like to program without this function? What would you need to do? For instance, let's say we have some lists storing participants' average task accuracy, their average response time, their age, and their IQ, and we want to compute the maximum of each variable. Without the `max` function, we would need to figure out how to calculate the maximum of a list and write out the code to do that every single time we wanted to calculate a maximum:"
      ]
    },
    {
      "cell_type": "code",
      "metadata": {
        "colab": {
          "base_uri": "https://localhost:8080/"
        },
        "id": "-1JRWKolRBX1",
        "outputId": "674861c9-cb19-44bb-e43d-e89cc6d00c92"
      },
      "source": [
        "accuracy = [.98, .83, .39, .60, .92]\n",
        "rt = [2.4, 1.2, 5.6, 4.1, 3.9]\n",
        "age = [19, 22, 27, 32, 20]\n",
        "iq = [122, 118, 117, 132, 146]\n",
        "\n",
        "max_accuracy = accuracy[0]\n",
        "for a in accuracy:\n",
        "  if a > max_accuracy:\n",
        "    max_accuracy = a\n",
        "\n",
        "max_rt = rt[0]\n",
        "for r in rt:\n",
        "  if r > max_rt:\n",
        "    max_rt = r\n",
        "\n",
        "max_age = age[0]\n",
        "for ag in age:\n",
        "  if ag > max_age:\n",
        "    max_age = a\n",
        "\n",
        "max_iq = iq[0]\n",
        "for i in iq:\n",
        "  if i > max_iq:\n",
        "    max_rt = i\n",
        "\n",
        "print(max_accuracy)\n",
        "print(max_rt)\n",
        "print(max_age)\n",
        "print(max_iq)"
      ],
      "execution_count": null,
      "outputs": [
        {
          "output_type": "stream",
          "name": "stdout",
          "text": [
            "0.98\n",
            "146\n",
            "19\n",
            "122\n"
          ]
        }
      ]
    },
    {
      "cell_type": "markdown",
      "metadata": {
        "id": "7Tw70Ga1UQSP"
      },
      "source": [
        "There are two major problems with this. First, it makes your code much, much longer! If we used the `max` function, we would only need a single line to calculate each maximum. Second, doing things this way is *effortful*, and almost always leads to bugs in your code. For example, the code above actually has two different bugs: can you find them? These bugs are hard to find because the duplicated code looks so similar, and because if you need to make changes to the duplicated code, it's very hard to remember every single place you need to make this change to."
      ]
    },
    {
      "cell_type": "markdown",
      "metadata": {
        "id": "P0Z-Ha3BProb"
      },
      "source": [
        "### **Abstraction**\n",
        "\n",
        "The other huge reason that functions are so great is that after we write a function, we no longer need to think about how the code inside the function works: we can just focus on what matters *at the current level of abstraction*.\n",
        "\n",
        "To get a good idea of what this means, let's return to the idea of building experimental blocks. As a reminder, most tasks can be construed as a loop over trials, which looks something like this:\n",
        "\n",
        "```python\n",
        "trials = 20\n",
        "for trial in range(trials):\n",
        "  # display a blank screen\n",
        "  # ...\n",
        "  #\n",
        "  # display a fixation cross\n",
        "  # ...\n",
        "  #\n",
        "  # display some stimulus\n",
        "  # ...\n",
        "  #\n",
        "  # record a response\n",
        "  # ...\n",
        "  #\n",
        "  # give feedback\n",
        "  # ...\n",
        "```\n",
        "\n",
        "If we try to program this task without functions, we will need all of the code to display each stimulus directly inside the loop. As we will see later on, displaying each stimulus can take a few lines of code, involving lots of temporary variables. Not only is this a lot of duplicate code, but it leads to another problem: if we have so much code inside our `for` loop, it is difficult to figure out what the loop is for without reading every single line of code, considering how each stimulus is drawn on the screen, how responses are recorded, etc. It is much better to have your task programmed something like this:\n",
        "\n",
        "```python\n",
        "trials = 20\n",
        "for trial in range(trials):\n",
        "  showStimulus('', 1)          # display a blank screen for 1s\n",
        "  showStimulus('+', 1)         # display a fixation cross for 1s\n",
        "  showStimulus('', 2)          # display some stimulus for 2s\n",
        "  \n",
        "  response = recordResponse()  # record a response\n",
        "  \n",
        "  # give feedback for 1s\n",
        "  if isCorrect(response):\n",
        "    showStimulus('correct', 1)\n",
        "  else:\n",
        "    showStimulus('incorrect', 1)\n",
        "```\n",
        "\n",
        "In addition to being much shorter, this is easier to read because it **abstracts** the unnecessary details away from loop. That is, when we read this loop, we don't need (or want) to know *how* stimuli are drawn on the screen, we just want to know which stimuli are drawn on the screen, in what order, etc. Likewise, we don't want to have to think about *how* the responses are recorded, it is enough to just know that they are being recorded."
      ]
    },
    {
      "cell_type": "markdown",
      "metadata": {
        "id": "_w7d48ORWoSc"
      },
      "source": [
        "### **Efficiency**\n",
        "\n",
        "Finally, functions are great because Python already has functions for so many things you need to do, and these existing functions will almost always be faster and more memory efficient than whatever code you could work out in a day or two. Efficiency is a source of pride for software developers, and so they spend a *lot* (really, a lot) of time making their code as efficient as possible. So why bother trying to write code yourself when better, faster code is already out there?\n",
        "\n",
        "To demonstrate this, let's assume that we want the average of a giant list of numbers. Here we will use the `random` module to generate a giant list, and use the `time` module to compare the runtime of three different approaches: using a `for` loop to calculate the average manually and using the `sum` function."
      ]
    },
    {
      "cell_type": "code",
      "metadata": {
        "colab": {
          "base_uri": "https://localhost:8080/"
        },
        "id": "RvjEP-Cxe94o",
        "outputId": "98673dd5-4853-4f9c-cb31-7d392fd0094e"
      },
      "source": [
        "l = [1]*10000000\n",
        "\n",
        "print(f'{\"Algorithm\" : >10}{\"Result\" : ^10}{\"Time\" : ^10}') # <, ^: formatting cues\n",
        "\n",
        "start = time.time()\n",
        "avg = 0\n",
        "for item in l:\n",
        "  avg = avg + item\n",
        "avg = avg / len(l)\n",
        "stop = time.time()\n",
        "print(f'{\"for loop\" : >10}{avg : ^10.2f}{stop - start : ^10.4f}') # 10.2, 10.4: number of decimal places\n",
        "\n",
        "start = time.time()\n",
        "avg = sum(l) / len(l)\n",
        "stop = time.time()\n",
        "print(f'{\"sum\" : >10}{avg : ^10.2f}{stop - start : ^10.4f}')"
      ],
      "execution_count": null,
      "outputs": [
        {
          "output_type": "stream",
          "name": "stdout",
          "text": [
            " Algorithm  Result     Time   \n",
            "  for loop   1.00     1.1478  \n",
            "       sum   1.00     0.0787  \n"
          ]
        }
      ]
    },
    {
      "cell_type": "markdown",
      "metadata": {
        "id": "38vt4KWZhmJA"
      },
      "source": [
        "As we can see, the sum function isn't just less code, but it actually runs over 10 times faster than the loop version!"
      ]
    },
    {
      "cell_type": "markdown",
      "metadata": {
        "id": "-miCXTBVPMrb"
      },
      "source": [
        "## How do I make a function?\n",
        "\n",
        "Hopefully by now you are convinced that functions are important programming tools that can make your life easier. There are two ways to make a function in Python. \n",
        "\n",
        "We can:\n",
        "- Make a function with `def`\n",
        "- Make a function with `lambda`\n",
        "\n",
        "These ways are not synonymous, though and have important differences. Let's talk about each individually.\n"
      ]
    },
    {
      "cell_type": "markdown",
      "metadata": {
        "id": "kJgPFg62iK9X"
      },
      "source": [
        "### Making functions with `def`\n",
        "\n",
        "In most cases, you'll want to use the `def` keyword to write a new function. Functions defined with `def` look something like this:\n",
        "\n",
        "```python\n",
        "def my_function(argument1, argument2, ..., ):\n",
        "  \"\"\" A documentation string that tells you what \n",
        "  the function does and how to use it\"\"\"\n",
        "  # ...some code...\n",
        "  return value\n",
        "```\n",
        "Importantly, the way you specify the code in `(argument1, argument2, ...)` tells you how to reference those variables in the `...some code...` part.\n",
        "\n",
        "\n",
        "As an example, let's say we want to make a function for the average of a list of numbers. We would probably write a function like this:"
      ]
    },
    {
      "cell_type": "code",
      "metadata": {
        "id": "Tnhp8_YfrAkT"
      },
      "source": [
        "def average(l):\n",
        "  \"\"\"Calculate the average of some numbers\"\"\"\n",
        "  return sum(l) / len(l) # l here (and up where it's defined) is like the placeholder for an eventual datatype"
      ],
      "execution_count": null,
      "outputs": []
    },
    {
      "cell_type": "markdown",
      "metadata": {
        "id": "Fo7e3RFSrP6W"
      },
      "source": [
        "Now that we have this function, it's easy to calculate the average of a bunch of lists!\n",
        "\n",
        "We were interested earlier in finding the max from these lists, but using our new function, we can also find the average!"
      ]
    },
    {
      "cell_type": "code",
      "metadata": {
        "colab": {
          "base_uri": "https://localhost:8080/"
        },
        "id": "UR8KewN5rVHc",
        "outputId": "809c445b-5101-4a85-dc25-ae60a9c30c66"
      },
      "source": [
        "accuracy = [.54, .83, .39, .60, .92]\n",
        "rt = [2.4, 1.2, 5.6, 4.1, 3.9]\n",
        "age = [19, 22, 27, 32, 20]\n",
        "iq = [122, 118, 117, 132, 146]\n",
        "\n",
        "print(average(accuracy))\n",
        "print(average(rt))\n",
        "print(average(age))\n",
        "print(average(iq))"
      ],
      "execution_count": null,
      "outputs": [
        {
          "output_type": "stream",
          "name": "stdout",
          "text": [
            "0.656\n",
            "3.44\n",
            "24.0\n",
            "127.0\n"
          ]
        }
      ]
    },
    {
      "cell_type": "markdown",
      "metadata": {
        "id": "PUdxLP9E2--F"
      },
      "source": [
        "Since we included the **documentation string** in our function definition, we can also call `help` if we forget how to use it:"
      ]
    },
    {
      "cell_type": "code",
      "metadata": {
        "colab": {
          "base_uri": "https://localhost:8080/"
        },
        "id": "s-bNO2ZM3FlG",
        "outputId": "86fec8cd-22f9-4549-b231-fe57ef6a0631"
      },
      "source": [
        "help(average)"
      ],
      "execution_count": null,
      "outputs": [
        {
          "output_type": "stream",
          "name": "stdout",
          "text": [
            "Help on function average in module __main__:\n",
            "\n",
            "average(l)\n",
            "    Calculate the average of a list of numbers\n",
            "\n"
          ]
        }
      ]
    },
    {
      "cell_type": "markdown",
      "metadata": {
        "id": "YMw2z05gq9z9"
      },
      "source": [
        "If you're making complex functions, it's often helpful in the documentation string to include the input variables your function will take as well as the expected output."
      ]
    },
    {
      "cell_type": "markdown",
      "metadata": {
        "id": "b-XGDYDSsfZ1"
      },
      "source": [
        "#### **Variable-length arguments**\n",
        "\n",
        "What if we want our average function to take numbers themselves, and not just a list of numbers? One way would be to write our function like this:"
      ]
    },
    {
      "cell_type": "code",
      "metadata": {
        "id": "kYE633l6tUGk"
      },
      "source": [
        "def average(x1, x2):\n",
        "  \"\"\"Calculate the average of some numbers\"\"\"\n",
        "  return (x1+x2) / 2"
      ],
      "execution_count": null,
      "outputs": []
    },
    {
      "cell_type": "markdown",
      "metadata": {
        "id": "R2e078Qxt1g3"
      },
      "source": [
        "This works great anytime we want to average just two numbers. But what if we want the average of three, four, or more numbers? Or if we don't know how many numbers we will be averaging in advance? This is where **variable-length arguments** come in hand. We make a variable-length argument using the asterick `*`:"
      ]
    },
    {
      "cell_type": "code",
      "metadata": {
        "id": "Gx-Djy-RuLfH"
      },
      "source": [
        "def average(*args):\n",
        "  \"\"\"Calculate the average of some numbers\"\"\"\n",
        "  return sum(args) / len(args)"
      ],
      "execution_count": null,
      "outputs": []
    },
    {
      "cell_type": "markdown",
      "metadata": {
        "id": "V3xtE0z5uV-Y"
      },
      "source": [
        "Now we can pass as many numbers as we want to our average function!"
      ]
    },
    {
      "cell_type": "code",
      "metadata": {
        "colab": {
          "base_uri": "https://localhost:8080/"
        },
        "id": "U-8UJDE-uaFZ",
        "outputId": "51622153-5289-4503-bc35-3dee19dab325"
      },
      "source": [
        "print(average(1))\n",
        "print(average(1, 2))\n",
        "print(average(1, 2, 3))\n",
        "print(average(1, 2, 3, 4))"
      ],
      "execution_count": null,
      "outputs": [
        {
          "output_type": "stream",
          "name": "stdout",
          "text": [
            "1.0\n",
            "1.5\n",
            "2.0\n",
            "2.5\n"
          ]
        }
      ]
    },
    {
      "cell_type": "markdown",
      "metadata": {
        "id": "qhUZMVwsutj9"
      },
      "source": [
        "Sadly, our average function no longer works with lists anymore:"
      ]
    },
    {
      "cell_type": "code",
      "metadata": {
        "colab": {
          "base_uri": "https://localhost:8080/",
          "height": 249
        },
        "id": "l1TGADTau3rA",
        "outputId": "2f3171ad-b0e4-4409-c5f1-39bd2f47d8c4"
      },
      "source": [
        "average(accuracy)"
      ],
      "execution_count": null,
      "outputs": [
        {
          "output_type": "error",
          "ename": "TypeError",
          "evalue": "ignored",
          "traceback": [
            "\u001b[0;31m---------------------------------------------------------------------------\u001b[0m",
            "\u001b[0;31mTypeError\u001b[0m                                 Traceback (most recent call last)",
            "\u001b[0;32m<ipython-input-52-096926422dd2>\u001b[0m in \u001b[0;36m<module>\u001b[0;34m()\u001b[0m\n\u001b[0;32m----> 1\u001b[0;31m \u001b[0maverage\u001b[0m\u001b[0;34m(\u001b[0m\u001b[0maccuracy\u001b[0m\u001b[0;34m)\u001b[0m\u001b[0;34m\u001b[0m\u001b[0;34m\u001b[0m\u001b[0m\n\u001b[0m",
            "\u001b[0;32m<ipython-input-50-d5af8e0952dd>\u001b[0m in \u001b[0;36maverage\u001b[0;34m(*args)\u001b[0m\n\u001b[1;32m      1\u001b[0m \u001b[0;32mdef\u001b[0m \u001b[0maverage\u001b[0m\u001b[0;34m(\u001b[0m\u001b[0;34m*\u001b[0m\u001b[0margs\u001b[0m\u001b[0;34m)\u001b[0m\u001b[0;34m:\u001b[0m\u001b[0;34m\u001b[0m\u001b[0;34m\u001b[0m\u001b[0m\n\u001b[1;32m      2\u001b[0m   \u001b[0;34m\"\"\"Calculate the average of a list of numbers\"\"\"\u001b[0m\u001b[0;34m\u001b[0m\u001b[0;34m\u001b[0m\u001b[0m\n\u001b[0;32m----> 3\u001b[0;31m   \u001b[0;32mreturn\u001b[0m \u001b[0msum\u001b[0m\u001b[0;34m(\u001b[0m\u001b[0margs\u001b[0m\u001b[0;34m)\u001b[0m \u001b[0;34m/\u001b[0m \u001b[0mlen\u001b[0m\u001b[0;34m(\u001b[0m\u001b[0margs\u001b[0m\u001b[0;34m)\u001b[0m\u001b[0;34m\u001b[0m\u001b[0;34m\u001b[0m\u001b[0m\n\u001b[0m",
            "\u001b[0;31mTypeError\u001b[0m: unsupported operand type(s) for +: 'int' and 'list'"
          ]
        }
      ]
    },
    {
      "cell_type": "markdown",
      "metadata": {
        "id": "x-H-tAQEu8yJ"
      },
      "source": [
        "Why doesn't this work? Well, using variable-length arguments works by wrapping the arguments passed to the function into a list. So if we call `average(1, 2, 3)`, then the argument `args` will be set to the list `[1, 2, 3]` which is used to calculate the average. So when we pass in a list like `average([1, 2, 3])`, the argument `args` is being set to a list with this list inside of it (`[[1, 2, 3]]`)! \n",
        "\n",
        "To make our `average` function work both ways, then, we can remember all the amazing things we learned during control flow and use an `if` statement to check if args is a list containing a list:"
      ]
    },
    {
      "cell_type": "code",
      "metadata": {
        "id": "bOFQPrXqwEcO"
      },
      "source": [
        "def average(*args):\n",
        "  \"\"\"Calculate the average of some numbers\"\"\"\n",
        "  if len(args) == 1 and isinstance(args[0], list):\n",
        "    args = args[0]\n",
        "  return sum(args) / len(args)"
      ],
      "execution_count": null,
      "outputs": []
    },
    {
      "cell_type": "code",
      "metadata": {
        "colab": {
          "base_uri": "https://localhost:8080/"
        },
        "id": "9AUJDecOsGuM",
        "outputId": "205c5ccd-db9e-4750-99b3-eb45afc35f0e"
      },
      "source": [
        "print(len([1,2,3]))\n",
        "print(len([[1,2,3]]))"
      ],
      "execution_count": null,
      "outputs": [
        {
          "output_type": "execute_result",
          "data": {
            "text/plain": [
              "1"
            ]
          },
          "metadata": {},
          "execution_count": 22
        }
      ]
    },
    {
      "cell_type": "markdown",
      "metadata": {
        "id": "1sF4VgEXwZfP"
      },
      "source": [
        "Now it should work both ways!"
      ]
    },
    {
      "cell_type": "code",
      "metadata": {
        "colab": {
          "base_uri": "https://localhost:8080/"
        },
        "id": "t3ofy9iVwduQ",
        "outputId": "f407ef23-1962-41b8-c9eb-e1108d2abe34"
      },
      "source": [
        "print(average(1, 2, 3))\n",
        "print(average([1, 2, 3]))"
      ],
      "execution_count": null,
      "outputs": [
        {
          "output_type": "stream",
          "name": "stdout",
          "text": [
            "2.0\n",
            "2.0\n"
          ]
        }
      ]
    },
    {
      "cell_type": "markdown",
      "metadata": {
        "id": "_nJWZfsNsTb7"
      },
      "source": [
        "#### **Keyword arguments**\n",
        "\n",
        "Another useful feature of `def` is that you can supply default values to arguments, known as **keyword arguments**. Keyword arguments are just regular old arguments with the `=` and some default value following the name of the argument. \n",
        "\n",
        "For example, let's say we want a function to normalize a list of values to some range, defined by a lower and upper value. We often do this is our data analysis to help standardize responses across people.We could write our function like so:"
      ]
    },
    {
      "cell_type": "code",
      "metadata": {
        "id": "DcqdX3iUyDs2"
      },
      "source": [
        "def normalize(l, lower, upper):\n",
        "  \"\"\"Rescale l to the range [lower, upper]\"\"\"\n",
        "  scale = (upper - lower) / (max(l) - min(l))\n",
        "  return [scale*(x - min(l)) + lower for x in l]"
      ],
      "execution_count": null,
      "outputs": []
    },
    {
      "cell_type": "markdown",
      "metadata": {
        "id": "_9u0Q90oylI0"
      },
      "source": [
        "This function *works*, but it requires you to specify `min` and `max` every single time you call it:"
      ]
    },
    {
      "cell_type": "code",
      "metadata": {
        "colab": {
          "base_uri": "https://localhost:8080/"
        },
        "id": "ILSoSjVByt42",
        "outputId": "021d1410-78c7-4802-c338-4d7e860a207b"
      },
      "source": [
        "print(normalize(accuracy, 0, 1))\n",
        "print(normalize(rt, 0, 1))\n",
        "print(normalize(age, 0, 100))\n",
        "print(normalize(iq, -1, 1))"
      ],
      "execution_count": null,
      "outputs": [
        {
          "output_type": "stream",
          "name": "stdout",
          "text": [
            "[0.2830188679245283, 0.8301886792452828, 0.0, 0.39622641509433953, 1.0]\n",
            "[0.27272727272727276, 0.0, 1.0, 0.6590909090909091, 0.6136363636363638]\n",
            "[0.0, 23.076923076923077, 61.53846153846154, 100.0, 7.6923076923076925]\n",
            "[-0.6551724137931034, -0.9310344827586207, -1.0, 0.034482758620689724, 1.0]\n"
          ]
        }
      ]
    },
    {
      "cell_type": "markdown",
      "metadata": {
        "id": "w6icvJGI1pdk"
      },
      "source": [
        "If we try to call `normalize` without a specified range, things will break:"
      ]
    },
    {
      "cell_type": "code",
      "metadata": {
        "colab": {
          "base_uri": "https://localhost:8080/",
          "height": 164
        },
        "id": "6nOlk1zU1nlv",
        "outputId": "0cf9a5d5-a64d-48bf-a4c8-5f6d1bba9102"
      },
      "source": [
        "normalize(accuracy)"
      ],
      "execution_count": null,
      "outputs": [
        {
          "output_type": "error",
          "ename": "TypeError",
          "evalue": "ignored",
          "traceback": [
            "\u001b[0;31m---------------------------------------------------------------------------\u001b[0m",
            "\u001b[0;31mTypeError\u001b[0m                                 Traceback (most recent call last)",
            "\u001b[0;32m<ipython-input-57-14f795a348f1>\u001b[0m in \u001b[0;36m<module>\u001b[0;34m()\u001b[0m\n\u001b[0;32m----> 1\u001b[0;31m \u001b[0mnormalize\u001b[0m\u001b[0;34m(\u001b[0m\u001b[0maccuracy\u001b[0m\u001b[0;34m)\u001b[0m\u001b[0;34m\u001b[0m\u001b[0;34m\u001b[0m\u001b[0m\n\u001b[0m",
            "\u001b[0;31mTypeError\u001b[0m: normalize() missing 2 required positional arguments: 'lower' and 'upper'"
          ]
        }
      ]
    },
    {
      "cell_type": "markdown",
      "metadata": {
        "id": "_ue0Y2Pe1epc"
      },
      "source": [
        "Usually, though, we will want to put our values into the range `[0, 1]`. To make these values default, we can put them into our function `def`:"
      ]
    },
    {
      "cell_type": "code",
      "metadata": {
        "id": "stBKn3yuyuG7"
      },
      "source": [
        "def normalize(l, lower=0, upper=1):\n",
        "  \"\"\"Rescale l to the range [lower, upper]\"\"\"\n",
        "  scale = (upper - lower) / (max(l) - min(l))\n",
        "  return [scale*(x - min(l)) + lower for x in l]"
      ],
      "execution_count": null,
      "outputs": []
    },
    {
      "cell_type": "markdown",
      "metadata": {
        "id": "amCIVbLC15YG"
      },
      "source": [
        "Now if we don't specify which range to normalize our values to, the function will assume that we want it in `[0, 1]`!"
      ]
    },
    {
      "cell_type": "code",
      "metadata": {
        "colab": {
          "base_uri": "https://localhost:8080/"
        },
        "id": "ys0b3vl22Dum",
        "outputId": "2260d5a6-674f-4dd0-901c-de4916cfe544"
      },
      "source": [
        "print(normalize(age))"
      ],
      "execution_count": null,
      "outputs": [
        {
          "output_type": "stream",
          "name": "stdout",
          "text": [
            "[0.0, 0.23076923076923078, 0.6153846153846154, 1.0, 0.07692307692307693]\n"
          ]
        }
      ]
    },
    {
      "cell_type": "markdown",
      "metadata": {
        "id": "nHeuD_fY2IS4"
      },
      "source": [
        "Finally, it's also helpful to know that we can use the same `=` syntax when *calling* the function with keyword arguments. This helps ensure that you are passing the right value to the right arguments, even if you put them out of order:"
      ]
    },
    {
      "cell_type": "code",
      "metadata": {
        "colab": {
          "base_uri": "https://localhost:8080/"
        },
        "id": "saSNWkef2XHR",
        "outputId": "9ac13f09-8d9b-4352-a66a-7586219a4d6a"
      },
      "source": [
        "print(normalize(age, lower=-1, upper=1))\n",
        "print(normalize(age, upper=1, lower=-1))"
      ],
      "execution_count": null,
      "outputs": [
        {
          "output_type": "stream",
          "name": "stdout",
          "text": [
            "[-1.0, -0.5384615384615384, 0.23076923076923084, 1.0, -0.8461538461538461]\n",
            "[-1.0, -0.5384615384615384, 0.23076923076923084, 1.0, -0.8461538461538461]\n"
          ]
        }
      ]
    },
    {
      "cell_type": "markdown",
      "metadata": {
        "id": "uq4FUu6diPiJ"
      },
      "source": [
        "### Making anonymous functions with `lambda`\n",
        "\n",
        "In almost every case, we will want to use `def` to write our functions, since `def` gives us access to a bunch of features like documentation strings, variable length & keyword arguments, etc. \n",
        "\n",
        "Sometimes, though, we will need to make a function that will only be used one time. For example, let's say that our `age` data is off by one, and so we need to add one to every number in `age`. We could decide to write out the function as such:"
      ]
    },
    {
      "cell_type": "code",
      "metadata": {
        "colab": {
          "base_uri": "https://localhost:8080/"
        },
        "id": "7ir9rcJs3wm_",
        "outputId": "698c46eb-3e46-4330-c36e-e640214a265d"
      },
      "source": [
        "def add_one(x):\n",
        "  \"\"\"Take a number x, and return x+1\"\"\"\n",
        "  return x + 1\n",
        "\n",
        "print([add_one(x) for x in age])"
      ],
      "execution_count": null,
      "outputs": [
        {
          "output_type": "stream",
          "name": "stdout",
          "text": [
            "[20, 23, 28, 33, 21]\n"
          ]
        }
      ]
    },
    {
      "cell_type": "markdown",
      "metadata": {
        "id": "sLUoiJSR33r9"
      },
      "source": [
        "That's great and all, but how often will we *really* need this `add_one` function? Probably never again. If we will never use it again, it might not seem worth the effort to use all of the nice features of `def`: it should be obvious that the code adds one to a number, so extensive documentation seems unnecessary. That's where `lambda` comes in! `lambda` defines **anonymous functions**, which are one-off functions that don't have a name (hence anonymous). Here is the same code above, using `lambda` instead of `def`:"
      ]
    },
    {
      "cell_type": "code",
      "metadata": {
        "colab": {
          "base_uri": "https://localhost:8080/"
        },
        "id": "fAKO1VPp5QNe",
        "outputId": "d51405c0-9dc8-4a63-8aa2-729935280788"
      },
      "source": [
        "age = [19, 22, 27, 32, 20]\n",
        "\n",
        "add_one = lambda x: x + 1\n",
        "\n",
        "print([add_one(x) for x in age])"
      ],
      "execution_count": null,
      "outputs": [
        {
          "output_type": "stream",
          "name": "stdout",
          "text": [
            "[20, 23, 28, 33, 21]\n"
          ]
        }
      ]
    },
    {
      "cell_type": "markdown",
      "metadata": {
        "id": "zrmRmLpa5W3Y"
      },
      "source": [
        "In this case `lambda` didn't save us a whole lot of space or time, because we still stored the function into the variable `add_one`, and we still needed a `for` loop to apply the function to every value in `age`. Thankfully, `lambda` can easily be used with functions like `map` and `filter`, which do the iteration for you!"
      ]
    },
    {
      "cell_type": "code",
      "metadata": {
        "colab": {
          "base_uri": "https://localhost:8080/"
        },
        "id": "qCG3isbI5yPG",
        "outputId": "4158c57f-0b0c-45f6-bbd0-aa104e4da795"
      },
      "source": [
        "list(map(lambda x: x + 1, age))"
      ],
      "execution_count": null,
      "outputs": [
        {
          "output_type": "execute_result",
          "data": {
            "text/plain": [
              "[20, 23, 28, 33, 21]"
            ]
          },
          "metadata": {},
          "execution_count": 30
        }
      ]
    },
    {
      "cell_type": "markdown",
      "metadata": {
        "id": "cOCNJLFU57o5"
      },
      "source": [
        "Using a similar syntax, we can filter out the participants that are, say, over 25:"
      ]
    },
    {
      "cell_type": "code",
      "metadata": {
        "colab": {
          "base_uri": "https://localhost:8080/"
        },
        "id": "T9ZdkEyo6D8C",
        "outputId": "4cfcf574-a523-49cc-c6c0-1b4ce36b3d45"
      },
      "source": [
        "list(filter(lambda x: x >= 25, age))"
      ],
      "execution_count": null,
      "outputs": [
        {
          "output_type": "execute_result",
          "data": {
            "text/plain": [
              "[27, 32]"
            ]
          },
          "metadata": {},
          "execution_count": 65
        }
      ]
    },
    {
      "cell_type": "markdown",
      "metadata": {
        "id": "Q8e8Tmrz6KvE"
      },
      "source": [
        "**BONUS:** This type of programming is known as *functional programming*, since the focus is on applying functions to variables, not on the loops that make this all work. We won't talk much more about functional programming, but you should know that in many cases, using `map` can be much faster than writing out a `for` loop yourself (though in this case the list comprehension is fastest):"
      ]
    },
    {
      "cell_type": "code",
      "metadata": {
        "colab": {
          "base_uri": "https://localhost:8080/"
        },
        "id": "K8aXWzFx60Zc",
        "outputId": "4bde7ee3-3a3c-41d4-f4c8-1fab7d6489da"
      },
      "source": [
        "l = [1]*10000000\n",
        "\n",
        "print(f'{\"Algorithm\" : >20}{\"Time\" : ^10}')\n",
        "\n",
        "start = time.time()\n",
        "l_plus_one = [None]*len(l)\n",
        "for i in range(len(l)):\n",
        "  l_plus_one[i] = l[i] + 1\n",
        "stop = time.time()\n",
        "print(f'{\"for loop\" : >20}{stop - start : ^10.4f}')\n",
        "\n",
        "start = time.time()\n",
        "l_plus_one = [x+1 for x in l]\n",
        "stop = time.time()\n",
        "print(f'{\"list comprehension\" : >20}{stop - start : ^10.4f}')\n",
        "\n",
        "start = time.time()\n",
        "l_plus_one = list(map(lambda x: x+1, l))\n",
        "stop = time.time()\n",
        "print(f'{\"map\" : >20}{stop - start : ^10.4f}')"
      ],
      "execution_count": null,
      "outputs": [
        {
          "output_type": "stream",
          "name": "stdout",
          "text": [
            "           Algorithm   Time   \n",
            "            for loop  2.0921  \n",
            "  list comprehension  0.6435  \n",
            "                 map  0.9080  \n"
          ]
        }
      ]
    },
    {
      "cell_type": "markdown",
      "metadata": {
        "id": "ygooWs_M9fgK"
      },
      "source": [
        "## How do I make sure my function works?\n",
        "\n",
        "One downside to writing functions is that you have to ensure that:\n",
        "- the function works as intended when it is called correctly, and \n",
        "- that the function does get called correctly. \n",
        "\n",
        "We'll spend some time on this later in the program, but it'll help to have some of these things in the back of your mind."
      ]
    },
    {
      "cell_type": "markdown",
      "metadata": {
        "id": "K-4XLycN-E8u"
      },
      "source": [
        "### Searching for bugs\n",
        "\n",
        "The most important thing when writing a function is to ensure that it does what you think it does when it is called properly. For instance, take our orignal average function:\n",
        "\n",
        "By looking at the code, we can see that `average` takes a list of numbers, and it returns the sum of those numbers divided by the number of them (a.k.a., the average):"
      ]
    },
    {
      "cell_type": "code",
      "metadata": {
        "colab": {
          "base_uri": "https://localhost:8080/"
        },
        "id": "pLysebWP-Ecx",
        "outputId": "2f398c6f-ff7a-4e3c-f1fc-125b17e85c1c"
      },
      "source": [
        "def average(l):\n",
        "  \"\"\"Calculate the average of some numbers\"\"\"\n",
        "  return sum(l) / len(l)\n",
        "\n",
        "average([1, 2, 3])"
      ],
      "execution_count": null,
      "outputs": [
        {
          "output_type": "execute_result",
          "data": {
            "text/plain": [
              "2.0"
            ]
          },
          "metadata": {},
          "execution_count": 32
        }
      ]
    },
    {
      "cell_type": "markdown",
      "metadata": {
        "id": "xbLnKasm_sKd"
      },
      "source": [
        "But we decided that we wanted our `average` function to work with individual numbers, too. But our original version gave us an error here:"
      ]
    },
    {
      "cell_type": "code",
      "metadata": {
        "colab": {
          "base_uri": "https://localhost:8080/",
          "height": 164
        },
        "id": "YWG2G3pP_7-V",
        "outputId": "e69b911e-917d-48c9-ea25-8072b4842fb3"
      },
      "source": [
        "average(1, 2, 3)"
      ],
      "execution_count": null,
      "outputs": [
        {
          "output_type": "error",
          "ename": "TypeError",
          "evalue": "ignored",
          "traceback": [
            "\u001b[0;31m---------------------------------------------------------------------------\u001b[0m",
            "\u001b[0;31mTypeError\u001b[0m                                 Traceback (most recent call last)",
            "\u001b[0;32m<ipython-input-33-3bb35997875e>\u001b[0m in \u001b[0;36m<module>\u001b[0;34m()\u001b[0m\n\u001b[0;32m----> 1\u001b[0;31m \u001b[0maverage\u001b[0m\u001b[0;34m(\u001b[0m\u001b[0;36m1\u001b[0m\u001b[0;34m,\u001b[0m \u001b[0;36m2\u001b[0m\u001b[0;34m,\u001b[0m \u001b[0;36m3\u001b[0m\u001b[0;34m)\u001b[0m\u001b[0;34m\u001b[0m\u001b[0;34m\u001b[0m\u001b[0m\n\u001b[0m",
            "\u001b[0;31mTypeError\u001b[0m: average() takes 1 positional argument but 3 were given"
          ]
        }
      ]
    },
    {
      "cell_type": "markdown",
      "metadata": {
        "id": "zsLHxzh-__Vn"
      },
      "source": [
        "To the extent that we want `average` to work in this case, the presence of this error is a bug! To fix it, we used variable-length arguments:"
      ]
    },
    {
      "cell_type": "code",
      "metadata": {
        "colab": {
          "base_uri": "https://localhost:8080/"
        },
        "id": "Gb2BNaziAdIm",
        "outputId": "05566198-ea26-4665-c936-4cbaf0965c02"
      },
      "source": [
        "def average(*args):\n",
        "  \"\"\"Calculate the average of some numbers\"\"\"\n",
        "  if len(args) == 1 and isinstance(args[0], list):\n",
        "    args = args[0]\n",
        "  return sum(args) / len(args)\n",
        "\n",
        "print(average([1, 2, 3]))\n",
        "print(average(1, 2, 3))"
      ],
      "execution_count": null,
      "outputs": [
        {
          "output_type": "stream",
          "name": "stdout",
          "text": [
            "2.0\n",
            "2.0\n"
          ]
        }
      ]
    },
    {
      "cell_type": "markdown",
      "metadata": {
        "id": "7UNgAjk2Al7p"
      },
      "source": [
        "There are many kinds of different bugs that can occur in your functions, and this is just one type. But the only way to find bugs is to test your function on all of the different kinds of inputs you think it should be able to handle!"
      ]
    },
    {
      "cell_type": "code",
      "metadata": {
        "colab": {
          "base_uri": "https://localhost:8080/",
          "height": 351
        },
        "id": "UFdTnlTCx1_6",
        "outputId": "c907309b-5723-4d24-bcb3-2ab29c2722da"
      },
      "source": [
        "print(average(42,8769,21))\n",
        "print(average(1.243512345, 5, 8.765))\n",
        "print(average('a', 'b', 45))"
      ],
      "execution_count": null,
      "outputs": [
        {
          "output_type": "stream",
          "name": "stdout",
          "text": [
            "2944.0\n",
            "5.0028374483333335\n"
          ]
        },
        {
          "output_type": "error",
          "ename": "TypeError",
          "evalue": "ignored",
          "traceback": [
            "\u001b[0;31m---------------------------------------------------------------------------\u001b[0m",
            "\u001b[0;31mTypeError\u001b[0m                                 Traceback (most recent call last)",
            "\u001b[0;32m<ipython-input-37-195bee715204>\u001b[0m in \u001b[0;36m<module>\u001b[0;34m()\u001b[0m\n\u001b[1;32m      1\u001b[0m \u001b[0mprint\u001b[0m\u001b[0;34m(\u001b[0m\u001b[0maverage\u001b[0m\u001b[0;34m(\u001b[0m\u001b[0;36m42\u001b[0m\u001b[0;34m,\u001b[0m\u001b[0;36m8769\u001b[0m\u001b[0;34m,\u001b[0m\u001b[0;36m21\u001b[0m\u001b[0;34m)\u001b[0m\u001b[0;34m)\u001b[0m\u001b[0;34m\u001b[0m\u001b[0;34m\u001b[0m\u001b[0m\n\u001b[1;32m      2\u001b[0m \u001b[0mprint\u001b[0m\u001b[0;34m(\u001b[0m\u001b[0maverage\u001b[0m\u001b[0;34m(\u001b[0m\u001b[0;36m1.243512345\u001b[0m\u001b[0;34m,\u001b[0m \u001b[0;36m5\u001b[0m\u001b[0;34m,\u001b[0m \u001b[0;36m8.765\u001b[0m\u001b[0;34m)\u001b[0m\u001b[0;34m)\u001b[0m\u001b[0;34m\u001b[0m\u001b[0;34m\u001b[0m\u001b[0m\n\u001b[0;32m----> 3\u001b[0;31m \u001b[0mprint\u001b[0m\u001b[0;34m(\u001b[0m\u001b[0maverage\u001b[0m\u001b[0;34m(\u001b[0m\u001b[0;34m'a'\u001b[0m\u001b[0;34m,\u001b[0m \u001b[0;34m'b'\u001b[0m\u001b[0;34m,\u001b[0m \u001b[0;36m45\u001b[0m\u001b[0;34m)\u001b[0m\u001b[0;34m)\u001b[0m\u001b[0;34m\u001b[0m\u001b[0;34m\u001b[0m\u001b[0m\n\u001b[0m",
            "\u001b[0;32m<ipython-input-34-4af736f89104>\u001b[0m in \u001b[0;36maverage\u001b[0;34m(*args)\u001b[0m\n\u001b[1;32m      3\u001b[0m   \u001b[0;32mif\u001b[0m \u001b[0mlen\u001b[0m\u001b[0;34m(\u001b[0m\u001b[0margs\u001b[0m\u001b[0;34m)\u001b[0m \u001b[0;34m==\u001b[0m \u001b[0;36m1\u001b[0m \u001b[0;32mand\u001b[0m \u001b[0misinstance\u001b[0m\u001b[0;34m(\u001b[0m\u001b[0margs\u001b[0m\u001b[0;34m[\u001b[0m\u001b[0;36m0\u001b[0m\u001b[0;34m]\u001b[0m\u001b[0;34m,\u001b[0m \u001b[0mlist\u001b[0m\u001b[0;34m)\u001b[0m\u001b[0;34m:\u001b[0m\u001b[0;34m\u001b[0m\u001b[0;34m\u001b[0m\u001b[0m\n\u001b[1;32m      4\u001b[0m     \u001b[0margs\u001b[0m \u001b[0;34m=\u001b[0m \u001b[0margs\u001b[0m\u001b[0;34m[\u001b[0m\u001b[0;36m0\u001b[0m\u001b[0;34m]\u001b[0m\u001b[0;34m\u001b[0m\u001b[0;34m\u001b[0m\u001b[0m\n\u001b[0;32m----> 5\u001b[0;31m   \u001b[0;32mreturn\u001b[0m \u001b[0msum\u001b[0m\u001b[0;34m(\u001b[0m\u001b[0margs\u001b[0m\u001b[0;34m)\u001b[0m \u001b[0;34m/\u001b[0m \u001b[0mlen\u001b[0m\u001b[0;34m(\u001b[0m\u001b[0margs\u001b[0m\u001b[0;34m)\u001b[0m\u001b[0;34m\u001b[0m\u001b[0;34m\u001b[0m\u001b[0m\n\u001b[0m\u001b[1;32m      6\u001b[0m \u001b[0;34m\u001b[0m\u001b[0m\n\u001b[1;32m      7\u001b[0m \u001b[0mprint\u001b[0m\u001b[0;34m(\u001b[0m\u001b[0maverage\u001b[0m\u001b[0;34m(\u001b[0m\u001b[0;34m[\u001b[0m\u001b[0;36m1\u001b[0m\u001b[0;34m,\u001b[0m \u001b[0;36m2\u001b[0m\u001b[0;34m,\u001b[0m \u001b[0;36m3\u001b[0m\u001b[0;34m]\u001b[0m\u001b[0;34m)\u001b[0m\u001b[0;34m)\u001b[0m\u001b[0;34m\u001b[0m\u001b[0;34m\u001b[0m\u001b[0m\n",
            "\u001b[0;31mTypeError\u001b[0m: unsupported operand type(s) for +: 'int' and 'str'"
          ]
        }
      ]
    },
    {
      "cell_type": "markdown",
      "metadata": {
        "id": "VN2K6AwbA0_U"
      },
      "source": [
        "### Dealing with function misuse\n",
        "\n",
        "Another important thing to consider when writing a function is how people might try to use your function incorrectly. For example, it doesn't make sense to calculate the average of an empty list, since there are no numbers to average. But what happens when we call our `average` function on an empty list anyway?"
      ]
    },
    {
      "cell_type": "code",
      "metadata": {
        "colab": {
          "base_uri": "https://localhost:8080/",
          "height": 300
        },
        "id": "gWZW-t47BRZi",
        "outputId": "d9b3af8d-d74d-4892-c74b-4aa382cb27aa"
      },
      "source": [
        "l = []\n",
        "average(l)"
      ],
      "execution_count": null,
      "outputs": [
        {
          "output_type": "error",
          "ename": "ZeroDivisionError",
          "evalue": "ignored",
          "traceback": [
            "\u001b[0;31m---------------------------------------------------------------------------\u001b[0m",
            "\u001b[0;31mZeroDivisionError\u001b[0m                         Traceback (most recent call last)",
            "\u001b[0;32m<ipython-input-77-85fccf7bac08>\u001b[0m in \u001b[0;36m<module>\u001b[0;34m()\u001b[0m\n\u001b[1;32m      1\u001b[0m \u001b[0ml\u001b[0m \u001b[0;34m=\u001b[0m \u001b[0;34m[\u001b[0m\u001b[0;34m]\u001b[0m\u001b[0;34m\u001b[0m\u001b[0;34m\u001b[0m\u001b[0m\n\u001b[0;32m----> 2\u001b[0;31m \u001b[0maverage\u001b[0m\u001b[0;34m(\u001b[0m\u001b[0ml\u001b[0m\u001b[0;34m)\u001b[0m\u001b[0;34m\u001b[0m\u001b[0;34m\u001b[0m\u001b[0m\n\u001b[0m",
            "\u001b[0;32m<ipython-input-75-4af736f89104>\u001b[0m in \u001b[0;36maverage\u001b[0;34m(*args)\u001b[0m\n\u001b[1;32m      3\u001b[0m   \u001b[0;32mif\u001b[0m \u001b[0mlen\u001b[0m\u001b[0;34m(\u001b[0m\u001b[0margs\u001b[0m\u001b[0;34m)\u001b[0m \u001b[0;34m==\u001b[0m \u001b[0;36m1\u001b[0m \u001b[0;32mand\u001b[0m \u001b[0misinstance\u001b[0m\u001b[0;34m(\u001b[0m\u001b[0margs\u001b[0m\u001b[0;34m[\u001b[0m\u001b[0;36m0\u001b[0m\u001b[0;34m]\u001b[0m\u001b[0;34m,\u001b[0m \u001b[0mlist\u001b[0m\u001b[0;34m)\u001b[0m\u001b[0;34m:\u001b[0m\u001b[0;34m\u001b[0m\u001b[0;34m\u001b[0m\u001b[0m\n\u001b[1;32m      4\u001b[0m     \u001b[0margs\u001b[0m \u001b[0;34m=\u001b[0m \u001b[0margs\u001b[0m\u001b[0;34m[\u001b[0m\u001b[0;36m0\u001b[0m\u001b[0;34m]\u001b[0m\u001b[0;34m\u001b[0m\u001b[0;34m\u001b[0m\u001b[0m\n\u001b[0;32m----> 5\u001b[0;31m   \u001b[0;32mreturn\u001b[0m \u001b[0msum\u001b[0m\u001b[0;34m(\u001b[0m\u001b[0margs\u001b[0m\u001b[0;34m)\u001b[0m \u001b[0;34m/\u001b[0m \u001b[0mlen\u001b[0m\u001b[0;34m(\u001b[0m\u001b[0margs\u001b[0m\u001b[0;34m)\u001b[0m\u001b[0;34m\u001b[0m\u001b[0;34m\u001b[0m\u001b[0m\n\u001b[0m\u001b[1;32m      6\u001b[0m \u001b[0;34m\u001b[0m\u001b[0m\n\u001b[1;32m      7\u001b[0m \u001b[0mprint\u001b[0m\u001b[0;34m(\u001b[0m\u001b[0maverage\u001b[0m\u001b[0;34m(\u001b[0m\u001b[0;34m[\u001b[0m\u001b[0;36m1\u001b[0m\u001b[0;34m,\u001b[0m \u001b[0;36m2\u001b[0m\u001b[0;34m,\u001b[0m \u001b[0;36m3\u001b[0m\u001b[0;34m]\u001b[0m\u001b[0;34m)\u001b[0m\u001b[0;34m)\u001b[0m\u001b[0;34m\u001b[0m\u001b[0;34m\u001b[0m\u001b[0m\n",
            "\u001b[0;31mZeroDivisionError\u001b[0m: division by zero"
          ]
        }
      ]
    },
    {
      "cell_type": "markdown",
      "metadata": {
        "id": "R6WUQLP2BT12"
      },
      "source": [
        "Python tells us that we're trying to divide by zero, and it reports an error. But if you aren't the one that wrote the average function, this error might be confusing for you: why am I getting a divide-by-zero error when I just want to calculate the average of my list? To make this easier on the user of the function, we can throw a more interpretable error:"
      ]
    },
    {
      "cell_type": "code",
      "metadata": {
        "colab": {
          "base_uri": "https://localhost:8080/",
          "height": 317
        },
        "id": "jMbqKSxkB3NE",
        "outputId": "06198cf8-49b0-494e-b532-0cb85d342ffa"
      },
      "source": [
        "def average(*args):\n",
        "  \"\"\"Calculate the average of some numbers\"\"\"\n",
        "  if len(args) == 1 and isinstance(args[0], list):\n",
        "    args = args[0]\n",
        "  \n",
        "  if len(args) == 0:\n",
        "    raise ValueError('cannot compute the average of 0 numbers!')\n",
        "  return sum(args) / len(args)\n",
        "\n",
        "average(l)"
      ],
      "execution_count": null,
      "outputs": [
        {
          "output_type": "error",
          "ename": "ValueError",
          "evalue": "ignored",
          "traceback": [
            "\u001b[0;31m---------------------------------------------------------------------------\u001b[0m",
            "\u001b[0;31mValueError\u001b[0m                                Traceback (most recent call last)",
            "\u001b[0;32m<ipython-input-78-3d17a4f99edd>\u001b[0m in \u001b[0;36m<module>\u001b[0;34m()\u001b[0m\n\u001b[1;32m      8\u001b[0m   \u001b[0;32mreturn\u001b[0m \u001b[0msum\u001b[0m\u001b[0;34m(\u001b[0m\u001b[0margs\u001b[0m\u001b[0;34m)\u001b[0m \u001b[0;34m/\u001b[0m \u001b[0mlen\u001b[0m\u001b[0;34m(\u001b[0m\u001b[0margs\u001b[0m\u001b[0;34m)\u001b[0m\u001b[0;34m\u001b[0m\u001b[0;34m\u001b[0m\u001b[0m\n\u001b[1;32m      9\u001b[0m \u001b[0;34m\u001b[0m\u001b[0m\n\u001b[0;32m---> 10\u001b[0;31m \u001b[0maverage\u001b[0m\u001b[0;34m(\u001b[0m\u001b[0ml\u001b[0m\u001b[0;34m)\u001b[0m\u001b[0;34m\u001b[0m\u001b[0;34m\u001b[0m\u001b[0m\n\u001b[0m",
            "\u001b[0;32m<ipython-input-78-3d17a4f99edd>\u001b[0m in \u001b[0;36maverage\u001b[0;34m(*args)\u001b[0m\n\u001b[1;32m      5\u001b[0m \u001b[0;34m\u001b[0m\u001b[0m\n\u001b[1;32m      6\u001b[0m   \u001b[0;32mif\u001b[0m \u001b[0mlen\u001b[0m\u001b[0;34m(\u001b[0m\u001b[0margs\u001b[0m\u001b[0;34m)\u001b[0m \u001b[0;34m==\u001b[0m \u001b[0;36m0\u001b[0m\u001b[0;34m:\u001b[0m\u001b[0;34m\u001b[0m\u001b[0;34m\u001b[0m\u001b[0m\n\u001b[0;32m----> 7\u001b[0;31m     \u001b[0;32mraise\u001b[0m \u001b[0mValueError\u001b[0m\u001b[0;34m(\u001b[0m\u001b[0;34m'cannot compute the average of 0 numbers!'\u001b[0m\u001b[0;34m)\u001b[0m\u001b[0;34m\u001b[0m\u001b[0;34m\u001b[0m\u001b[0m\n\u001b[0m\u001b[1;32m      8\u001b[0m   \u001b[0;32mreturn\u001b[0m \u001b[0msum\u001b[0m\u001b[0;34m(\u001b[0m\u001b[0margs\u001b[0m\u001b[0;34m)\u001b[0m \u001b[0;34m/\u001b[0m \u001b[0mlen\u001b[0m\u001b[0;34m(\u001b[0m\u001b[0margs\u001b[0m\u001b[0;34m)\u001b[0m\u001b[0;34m\u001b[0m\u001b[0;34m\u001b[0m\u001b[0m\n\u001b[1;32m      9\u001b[0m \u001b[0;34m\u001b[0m\u001b[0m\n",
            "\u001b[0;31mValueError\u001b[0m: cannot compute the average of 0 numbers!"
          ]
        }
      ]
    },
    {
      "cell_type": "markdown",
      "metadata": {
        "id": "-s6k-yAREFZc"
      },
      "source": [
        "Now we still get an error when trying to average zero numbers, but our error message is more helpful: we know that we called the function improperly, and our list is empty when it shouldn't be.\n",
        "\n",
        "Trying to predict all of the ways in which a function might get misused can be difficult and can make your function unnecessarily complicated. \n",
        "\n",
        "However, it is important to try to \"break\" your functions in this way so that, inevitably, when someone else breaks your function in the same way, they will immediately know what they did wrong. Later on in the semester, y'all will help each other with this process as we test and debug our difference designs. "
      ]
    },
    {
      "cell_type": "markdown",
      "metadata": {
        "id": "mFYmNL91JX3R"
      },
      "source": [
        "# Methods\n",
        "\n",
        "All of the functions we've discussed so far are \"argument-neutral\" in that the functions don't *belong* to a particular argument. For instance, the `average` function gets applied over all of its arguments, and it doesn't make a whole lot of sense to say that `average` belongs to any particular argument. However, certain functions, known as **methods**, do belong to one of their arguments.\n",
        "\n",
        "You already have seen several different methods in the past. Lists, for example, have lots of methods including `append` and `clear`:"
      ]
    },
    {
      "cell_type": "code",
      "metadata": {
        "colab": {
          "base_uri": "https://localhost:8080/"
        },
        "id": "c4ESNI9BGoVa",
        "outputId": "da25dd03-f4ae-4f72-e174-7b65ae3bf844"
      },
      "source": [
        "l = []\n",
        "for i in range(10):\n",
        "  l.append(i)\n",
        "\n",
        "print(l)\n",
        "l.clear()\n",
        "print(l)"
      ],
      "execution_count": null,
      "outputs": [
        {
          "output_type": "stream",
          "name": "stdout",
          "text": [
            "[0, 1, 2, 3, 4, 5, 6, 7, 8, 9]\n",
            "[]\n"
          ]
        }
      ]
    },
    {
      "cell_type": "markdown",
      "metadata": {
        "id": "lVFXJCw3HFFR"
      },
      "source": [
        "We can tell that `append` and `clear` are methods because they are called differently: rather than using the syntax `append(l, i)`, we use the \"dot\" syntax `l.append(i)`. This dot syntax is to make it clear that the `append` method belongs to the list `l`. Not only does it not make sense to append to anything that's not a list, but `append` isn't even defined for things that aren't lists. That is, you can't call `append` like this:"
      ]
    },
    {
      "cell_type": "code",
      "metadata": {
        "colab": {
          "base_uri": "https://localhost:8080/",
          "height": 164
        },
        "id": "2dTjGA6lH6iy",
        "outputId": "0d8df6b5-dbd6-475f-990a-abcb9dca0125"
      },
      "source": [
        "append(l, 1)"
      ],
      "execution_count": null,
      "outputs": [
        {
          "output_type": "error",
          "ename": "NameError",
          "evalue": "ignored",
          "traceback": [
            "\u001b[0;31m---------------------------------------------------------------------------\u001b[0m",
            "\u001b[0;31mNameError\u001b[0m                                 Traceback (most recent call last)",
            "\u001b[0;32m<ipython-input-81-7203d94eec92>\u001b[0m in \u001b[0;36m<module>\u001b[0;34m()\u001b[0m\n\u001b[0;32m----> 1\u001b[0;31m \u001b[0mappend\u001b[0m\u001b[0;34m(\u001b[0m\u001b[0ml\u001b[0m\u001b[0;34m,\u001b[0m \u001b[0;36m1\u001b[0m\u001b[0;34m)\u001b[0m\u001b[0;34m\u001b[0m\u001b[0;34m\u001b[0m\u001b[0m\n\u001b[0m",
            "\u001b[0;31mNameError\u001b[0m: name 'append' is not defined"
          ]
        }
      ]
    },
    {
      "cell_type": "markdown",
      "metadata": {
        "id": "fn19jpVLIDtO"
      },
      "source": [
        "Unlike append, there are *some* other types of things that you can `clear`, however. Let's try it with a dictionary:"
      ]
    },
    {
      "cell_type": "code",
      "metadata": {
        "colab": {
          "base_uri": "https://localhost:8080/"
        },
        "id": "5GWgo2HqILnj",
        "outputId": "3268123f-9f2d-46c6-c0b9-73d1ecfefe03"
      },
      "source": [
        "d = {'a': 1, 'b': 2, 'c': 3}\n",
        "print(d)\n",
        "d.clear()\n",
        "print(d)"
      ],
      "execution_count": null,
      "outputs": [
        {
          "output_type": "stream",
          "name": "stdout",
          "text": [
            "{'a': 1, 'b': 2, 'c': 3}\n",
            "{}\n"
          ]
        }
      ]
    },
    {
      "cell_type": "markdown",
      "metadata": {
        "id": "irUTHEXPIoJl"
      },
      "source": [
        "What's going on here? Well, the gist is that both `d` and `l` are *objects* that belong to a *class*. `l` is an object that belongs to the class `list`, and `d` is an object that belongs to the class `dict`. We can confirm this with the function `type`:"
      ]
    },
    {
      "cell_type": "code",
      "metadata": {
        "colab": {
          "base_uri": "https://localhost:8080/"
        },
        "id": "ejaBZvPWI41E",
        "outputId": "8ba5b0a5-d976-468b-9642-d7e43e0ac3c5"
      },
      "source": [
        "print(type(l))\n",
        "print(type(d))"
      ],
      "execution_count": null,
      "outputs": [
        {
          "output_type": "stream",
          "name": "stdout",
          "text": [
            "<class 'list'>\n",
            "<class 'dict'>\n"
          ]
        }
      ]
    },
    {
      "cell_type": "markdown",
      "metadata": {
        "id": "DUD-00V1Jul2"
      },
      "source": [
        "To understand what a method is, then, we need to understand what a class is. Basically, a class is a type of object in Python. Objects are instances of a class that have *attributes* and *methods*. *Attributes* are just variables that are a part of an object. You can think of objects like dictionaries and attributes like keys in that dictionary: attributes are just slots to store some data. Finally, as we saw above, *methods* are functions that belong to a class. It's easiest to see how this all works in action, so let's start off with a simple example."
      ]
    },
    {
      "cell_type": "markdown",
      "metadata": {
        "id": "cBjABrt5KbXN"
      },
      "source": [
        "## **BONUS:** Classes - points in space\n",
        "\n",
        "Let's say that you are presenting stimuli where you need to draw dots at different points on the screen. Points are just (x, y) coordinates, so if we have a bunch of points to draw, we might decide to store these coordinates in two different lists:"
      ]
    },
    {
      "cell_type": "code",
      "metadata": {
        "colab": {
          "base_uri": "https://localhost:8080/"
        },
        "id": "uhnmIUkQLPi-",
        "outputId": "ce448bf9-4a2e-4cf9-92fa-c8bc218c6a11"
      },
      "source": [
        "x = [43, 61, 29, 49, 50]\n",
        "y = [82, 27, 73, 56, 39]\n",
        "\n",
        "for i in range(len(x)):\n",
        "  print(f'Point {i}: ({x[i]}, {y[i]})')"
      ],
      "execution_count": null,
      "outputs": [
        {
          "output_type": "stream",
          "name": "stdout",
          "text": [
            "Point 0: (43, 82)\n",
            "Point 1: (61, 27)\n",
            "Point 2: (29, 73)\n",
            "Point 3: (49, 56)\n",
            "Point 4: (50, 39)\n"
          ]
        }
      ]
    },
    {
      "cell_type": "markdown",
      "metadata": {
        "id": "SmAhkr07L9X7"
      },
      "source": [
        "For many purposes, this representation is totally fine. But if you're working a lot with these points, you'll want to define functions for them. Here's a function, for example, that translates a point:"
      ]
    },
    {
      "cell_type": "code",
      "metadata": {
        "colab": {
          "base_uri": "https://localhost:8080/"
        },
        "id": "ERZYrJpMMOxn",
        "outputId": "75822d11-9032-402f-9b40-93f69dc0ca41"
      },
      "source": [
        "def translate(x, y, xshift=0, yshift=0):\n",
        "  \"\"\"Translate a point (x, y) by (xshift, yshift)\"\"\"\n",
        "  return (x+xshift, y+yshift)\n",
        "\n",
        "x_new = []\n",
        "y_new = []\n",
        "for i in range(len(x)):\n",
        "  new_point = translate(x[i], y[i], xshift=10, yshift=-10)\n",
        "  x_new.append(new_point[0])\n",
        "  y_new.append(new_point[1])\n",
        "  print(f'Point {i}: ({x_new[i]}, {y_new[i]})')"
      ],
      "execution_count": null,
      "outputs": [
        {
          "output_type": "stream",
          "name": "stdout",
          "text": [
            "Point 0: (53, 72)\n",
            "Point 1: (71, 17)\n",
            "Point 2: (39, 63)\n",
            "Point 3: (59, 46)\n",
            "Point 4: (60, 29)\n"
          ]
        }
      ]
    },
    {
      "cell_type": "markdown",
      "metadata": {
        "id": "OECflXsuM-xg"
      },
      "source": [
        "As we can see, this works, but it's clunky. For one, you have to keep two separate lists every time you translate a point. You also have to upack the x and y values returned from `translate` and append them to the new lists individually, which requires you to know that the x value is returned first, and the y value is returned second. One way to improve this is to use a list of lists:"
      ]
    },
    {
      "cell_type": "code",
      "metadata": {
        "colab": {
          "base_uri": "https://localhost:8080/"
        },
        "id": "PxkddXhRNiPF",
        "outputId": "433eb0c3-b0e2-41ba-b1d8-3f4091b8b59f"
      },
      "source": [
        "points = [[43, 82], [61, 27], [29, 73], [49, 56], [50, 39]]\n",
        "\n",
        "def translate(point, xshift=0, yshift=0):\n",
        "  \"\"\"Translate a point [x, y] by (xshift, yshift)\"\"\"\n",
        "  return [point[0]+xshift, point[1]+yshift]\n",
        "\n",
        "p_new = []\n",
        "for i in range(len(points)):\n",
        "  p_new.append(translate(points[i], xshift=10, yshift=-10))\n",
        "  print(f'Point {i}: ({p_new[i][0]}, {p_new[i][1]})')"
      ],
      "execution_count": null,
      "outputs": [
        {
          "output_type": "stream",
          "name": "stdout",
          "text": [
            "Point 0: (53, 72)\n",
            "Point 1: (71, 17)\n",
            "Point 2: (39, 63)\n",
            "Point 3: (59, 46)\n",
            "Point 4: (60, 29)\n"
          ]
        }
      ]
    },
    {
      "cell_type": "markdown",
      "metadata": {
        "id": "T_Ew5LFjOa0v"
      },
      "source": [
        "This gives us the same result, but it's a little bit easier to work with since we only have one list to manage. But our `translate` function makes a hidden assumption: it assumes that the argument `point` is a list of exactly two numbers. And still, whoever uses the `translate` function needs to know that the points are represented with the x-value first and the y-value second. We can fix these problems by defining a class:"
      ]
    },
    {
      "cell_type": "code",
      "metadata": {
        "colab": {
          "base_uri": "https://localhost:8080/"
        },
        "id": "SrJAw3FoNxbr",
        "outputId": "7e36a659-75ac-42d7-afe1-9c9f9e48b30d"
      },
      "source": [
        "class Point2D:\n",
        "  def __init__(self, x=0, y=0):\n",
        "    self.x = x\n",
        "    self.y = y\n",
        "\n",
        "  def translate(self, xshift=0, yshift=0):\n",
        "    self.x += xshift\n",
        "    self.y += yshift\n",
        "    return self\n",
        "\n",
        "  def __str__(self):\n",
        "    return '(' + str(self.x) + ', ' + str(self.y) + ')'"
      ],
      "execution_count": null,
      "outputs": [
        {
          "output_type": "stream",
          "name": "stdout",
          "text": [
            "Point 0: (53, 72)\n",
            "Point 1: (71, 17)\n",
            "Point 2: (39, 63)\n",
            "Point 3: (59, 46)\n",
            "Point 4: (60, 29)\n"
          ]
        }
      ]
    },
    {
      "cell_type": "markdown",
      "metadata": {
        "id": "WBlai5_kQ8Dy"
      },
      "source": [
        "There's quite a bit here, so let's break it down. First, the `class` keyword makes a new class, in this case one called `Point2D`. Inside the class definition, we have a bunch of function definitions. These functions are the methods of the class: they belong to the class, and can only be called on objects of that class. The first argument to every method must be `self`, which refers to the object that the method is being called on (i.e., the thing before the dot). \n",
        "\n",
        "The first is a method called `__init__`, also known as a constructur. Every Python class needs an `__init__` method, which is responsible for constructing new objects belonging to the class. We can see that `__init__` makes two attributes for the new object, called `x` and `y`. To nobody's surprise, these attributes store the x and y coordinates of the point.\n",
        "\n",
        "The next method is our `translate` function from before. As before, this just adds `xshift` to the x-value and `yshift` to the y-value. The only difference is that this version uses the `self.x` and `self.y` attributes of the point.\n",
        "\n",
        "Finally, we defined a method called `__str__`. This isn't strictly necessary, but it allows us to easily print out the points in the format `\"(x-value, y-value\"`.\n",
        "\n",
        "Okay, now that we have a class for points, what can we do with it? First, we call the `__init__` constructor using the name of the class as a function (weird, I know):"
      ]
    },
    {
      "cell_type": "code",
      "metadata": {
        "colab": {
          "base_uri": "https://localhost:8080/"
        },
        "id": "wsKrYCrNUXAl",
        "outputId": "602fc28c-750a-4527-c587-793b74979d79"
      },
      "source": [
        "p = Point2D(1, 4)\n",
        "print(p)"
      ],
      "execution_count": null,
      "outputs": [
        {
          "output_type": "stream",
          "name": "stdout",
          "text": [
            "(1, 4)\n"
          ]
        }
      ]
    },
    {
      "cell_type": "markdown",
      "metadata": {
        "id": "chIrwPC-UbLo"
      },
      "source": [
        "We can access the x-value and y-value attributes of the point using the dot syntax:"
      ]
    },
    {
      "cell_type": "code",
      "metadata": {
        "colab": {
          "base_uri": "https://localhost:8080/"
        },
        "id": "tqaByFw7Uha_",
        "outputId": "033551c2-5c1b-4970-8ebf-564c448f80ec"
      },
      "source": [
        "print(p.x)\n",
        "print(p.y)"
      ],
      "execution_count": null,
      "outputs": [
        {
          "output_type": "stream",
          "name": "stdout",
          "text": [
            "1\n",
            "4\n"
          ]
        }
      ]
    },
    {
      "cell_type": "markdown",
      "metadata": {
        "id": "a4SJhDeiUm3L"
      },
      "source": [
        "Finally, we can also call the method `translate` using the dot syntax:"
      ]
    },
    {
      "cell_type": "code",
      "metadata": {
        "colab": {
          "base_uri": "https://localhost:8080/"
        },
        "id": "BBejYVrxUrT8",
        "outputId": "94d2a81d-71b1-4a35-97d1-cbd805d95d27"
      },
      "source": [
        "print(p.translate(10, 10))"
      ],
      "execution_count": null,
      "outputs": [
        {
          "output_type": "stream",
          "name": "stdout",
          "text": [
            "(21, 24)\n"
          ]
        }
      ]
    },
    {
      "cell_type": "markdown",
      "metadata": {
        "id": "UJrOqGH_UxtV"
      },
      "source": [
        "Putting this all together, here how we can translate a list of points:"
      ]
    },
    {
      "cell_type": "code",
      "metadata": {
        "colab": {
          "base_uri": "https://localhost:8080/"
        },
        "id": "5xQyjamIU38s",
        "outputId": "755439e5-7dae-4123-9bbd-9eca27e7dee5"
      },
      "source": [
        "points = [Point2D(43, 82), Point2D(61, 27), Point2D(29, 73), Point2D(49, 56), Point2D(50, 39)]\n",
        "for i in range(len(points)):\n",
        "  print(f'Point {i}: {points[i].translate(10, -10)}')"
      ],
      "execution_count": null,
      "outputs": [
        {
          "output_type": "stream",
          "name": "stdout",
          "text": [
            "Point 0: (53, 72)\n",
            "Point 1: (71, 17)\n",
            "Point 2: (39, 63)\n",
            "Point 3: (59, 46)\n",
            "Point 4: (60, 29)\n"
          ]
        }
      ]
    },
    {
      "cell_type": "markdown",
      "metadata": {
        "id": "ohZ3fa2CVqL3"
      },
      "source": [
        "Just like how functions abstract the details about how the function works, classes and methods are nice because they abstract how the points are represented and how the methods themselves work. When we're translating points, we don't need to think about lists or attributes: we can just know that we're translating a point, and that's enough! We'll talk more about classes and methods later, but by now you've most of what they have to offer"
      ]
    },
    {
      "cell_type": "markdown",
      "metadata": {
        "id": "u7XUCVpNWcE5"
      },
      "source": [
        "# Putting it all together\n",
        "\n",
        "Today we covered a **lot** of material about functions. To wrap up, let's discuss some questions as a group:\n",
        "\n",
        "- What is a function, and what are functions good for?\n",
        "- Can we get by without writing functions? Should we?\n",
        "- What's the difference between a function defined using `def` and one using `lambda`?\n",
        "- How should we test our functions?\n",
        "- How is a function different from a method?\n",
        "- When might we prefer to make a function a method?\n"
      ]
    }
  ]
}